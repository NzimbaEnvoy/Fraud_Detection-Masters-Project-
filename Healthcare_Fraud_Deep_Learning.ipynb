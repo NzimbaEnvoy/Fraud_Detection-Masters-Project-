{
  "cells": [
    {
      "cell_type": "markdown",
      "metadata": {
        "id": "view-in-github",
        "colab_type": "text"
      },
      "source": [
        "<a href=\"https://colab.research.google.com/github/NzimbaEnvoy/Fraud_Detection-Masters-Project-/blob/main/Healthcare_Fraud_Deep_Learning.ipynb\" target=\"_parent\"><img src=\"https://colab.research.google.com/assets/colab-badge.svg\" alt=\"Open In Colab\"/></a>"
      ]
    },
    {
      "cell_type": "code",
      "execution_count": null,
      "metadata": {
        "colab": {
          "base_uri": "https://localhost:8080/"
        },
        "id": "TrT0YO4Pzckq",
        "outputId": "5797e7fb-e882-4ee8-9943-cac1c8b948c3"
      },
      "outputs": [
        {
          "output_type": "stream",
          "name": "stdout",
          "text": [
            "Mounted at /content/drive\n"
          ]
        }
      ],
      "source": [
        "from google.colab import drive\n",
        "drive.mount('/content/drive')"
      ]
    },
    {
      "cell_type": "code",
      "execution_count": null,
      "metadata": {
        "id": "DEq1dA2m4SHI"
      },
      "outputs": [],
      "source": [
        "#Importing Libraries\n",
        "import os\n",
        "import pandas as pd\n",
        "import numpy as np\n",
        "import time\n",
        "from sklearn.preprocessing import StandardScaler\n",
        "from tensorflow.keras.metrics import Precision, Recall\n",
        "from sklearn.metrics import confusion_matrix, classification_report, roc_auc_score, roc_curve, accuracy_score, precision_score, recall_score, f1_score\n",
        "from imblearn.over_sampling import SMOTE, ADASYN\n",
        "from tensorflow.keras.models import Sequential\n",
        "from tensorflow.keras.layers import Conv1D, MaxPooling1D, Flatten, Dense, Dropout, LSTM, TimeDistributed, BatchNormalization\n",
        "from tensorflow.keras.utils import to_categorical\n",
        "from tensorflow.keras.optimizers import Adam\n",
        "from tensorflow.keras.callbacks import EarlyStopping\n",
        "import matplotlib.pyplot as plt\n",
        "from imblearn.over_sampling import SMOTE, ADASYN\n",
        "from sklearn.utils.class_weight import compute_class_weight\n",
        "import itertools\n",
        "import shap\n"
      ]
    },
    {
      "cell_type": "code",
      "execution_count": null,
      "metadata": {
        "colab": {
          "base_uri": "https://localhost:8080/",
          "height": 253
        },
        "id": "508WA8CW4SJc",
        "outputId": "374f70ae-09b8-400e-93e9-f5e866b33e30"
      },
      "outputs": [
        {
          "output_type": "execute_result",
          "data": {
            "text/plain": [
              "   Amt_Deductible  AnnualAmtReimb_OP  ClaimAmtReimbursed  AnnualAmtReimb_IP  \\\n",
              "0       -0.286098          -0.436333           -0.245161          -0.449110   \n",
              "1       -0.286098           0.335244           -0.242635          -0.449110   \n",
              "2       -0.286098          -0.524298           -0.207280          -0.449110   \n",
              "3       -0.286098          -0.496652           -0.242635          -0.449110   \n",
              "4       -0.286098           0.021084           -0.255262           0.983315   \n",
              "\n",
              "   AnnualAmtDeductible_IP  Flag_Alzheimer  Flag_Heartfailure  \\\n",
              "0               -0.478336               0                  0   \n",
              "1               -0.478336               0                  0   \n",
              "2               -0.478336               0                  1   \n",
              "3               -0.478336               0                  1   \n",
              "4                0.414580               0                  1   \n",
              "\n",
              "   Flag_KidneyDisease  Flag_Cancer  Flag_ObstrPulmonary  ...  Flag_Diabetes  \\\n",
              "0                   0            0                    0  ...              0   \n",
              "1                   0            1                    1  ...              0   \n",
              "2                   0            0                    0  ...              1   \n",
              "3                   1            1                    1  ...              1   \n",
              "4                   1            0                    0  ...              1   \n",
              "\n",
              "   Flag_IschemicHeart  Flag_Osteoporosis  Flag_rheumatoidarthritis  \\\n",
              "0                   0                  0                         1   \n",
              "1                   1                  0                         0   \n",
              "2                   1                  0                         0   \n",
              "3                   1                  0                         1   \n",
              "4                   1                  0                         0   \n",
              "\n",
              "   Flag_stroke  Flag_RenalDisease  Gender  Flag_DOA  PotentialFraud  \\\n",
              "0            0                  0       0         0               1   \n",
              "1            0                  0       1         0               1   \n",
              "2            0                  0       1         0               1   \n",
              "3            1                  0       0         0               0   \n",
              "4            0                  1       0         0               0   \n",
              "\n",
              "   Claim_Duration  \n",
              "0       -0.352512  \n",
              "1       -0.352512  \n",
              "2       -0.352512  \n",
              "3       -0.352512  \n",
              "4       -0.352512  \n",
              "\n",
              "[5 rows x 21 columns]"
            ],
            "text/html": [
              "\n",
              "  <div id=\"df-6e591fa9-6977-43ae-bcf0-52f6b0a7c47a\" class=\"colab-df-container\">\n",
              "    <div>\n",
              "<style scoped>\n",
              "    .dataframe tbody tr th:only-of-type {\n",
              "        vertical-align: middle;\n",
              "    }\n",
              "\n",
              "    .dataframe tbody tr th {\n",
              "        vertical-align: top;\n",
              "    }\n",
              "\n",
              "    .dataframe thead th {\n",
              "        text-align: right;\n",
              "    }\n",
              "</style>\n",
              "<table border=\"1\" class=\"dataframe\">\n",
              "  <thead>\n",
              "    <tr style=\"text-align: right;\">\n",
              "      <th></th>\n",
              "      <th>Amt_Deductible</th>\n",
              "      <th>AnnualAmtReimb_OP</th>\n",
              "      <th>ClaimAmtReimbursed</th>\n",
              "      <th>AnnualAmtReimb_IP</th>\n",
              "      <th>AnnualAmtDeductible_IP</th>\n",
              "      <th>Flag_Alzheimer</th>\n",
              "      <th>Flag_Heartfailure</th>\n",
              "      <th>Flag_KidneyDisease</th>\n",
              "      <th>Flag_Cancer</th>\n",
              "      <th>Flag_ObstrPulmonary</th>\n",
              "      <th>...</th>\n",
              "      <th>Flag_Diabetes</th>\n",
              "      <th>Flag_IschemicHeart</th>\n",
              "      <th>Flag_Osteoporosis</th>\n",
              "      <th>Flag_rheumatoidarthritis</th>\n",
              "      <th>Flag_stroke</th>\n",
              "      <th>Flag_RenalDisease</th>\n",
              "      <th>Gender</th>\n",
              "      <th>Flag_DOA</th>\n",
              "      <th>PotentialFraud</th>\n",
              "      <th>Claim_Duration</th>\n",
              "    </tr>\n",
              "  </thead>\n",
              "  <tbody>\n",
              "    <tr>\n",
              "      <th>0</th>\n",
              "      <td>-0.286098</td>\n",
              "      <td>-0.436333</td>\n",
              "      <td>-0.245161</td>\n",
              "      <td>-0.449110</td>\n",
              "      <td>-0.478336</td>\n",
              "      <td>0</td>\n",
              "      <td>0</td>\n",
              "      <td>0</td>\n",
              "      <td>0</td>\n",
              "      <td>0</td>\n",
              "      <td>...</td>\n",
              "      <td>0</td>\n",
              "      <td>0</td>\n",
              "      <td>0</td>\n",
              "      <td>1</td>\n",
              "      <td>0</td>\n",
              "      <td>0</td>\n",
              "      <td>0</td>\n",
              "      <td>0</td>\n",
              "      <td>1</td>\n",
              "      <td>-0.352512</td>\n",
              "    </tr>\n",
              "    <tr>\n",
              "      <th>1</th>\n",
              "      <td>-0.286098</td>\n",
              "      <td>0.335244</td>\n",
              "      <td>-0.242635</td>\n",
              "      <td>-0.449110</td>\n",
              "      <td>-0.478336</td>\n",
              "      <td>0</td>\n",
              "      <td>0</td>\n",
              "      <td>0</td>\n",
              "      <td>1</td>\n",
              "      <td>1</td>\n",
              "      <td>...</td>\n",
              "      <td>0</td>\n",
              "      <td>1</td>\n",
              "      <td>0</td>\n",
              "      <td>0</td>\n",
              "      <td>0</td>\n",
              "      <td>0</td>\n",
              "      <td>1</td>\n",
              "      <td>0</td>\n",
              "      <td>1</td>\n",
              "      <td>-0.352512</td>\n",
              "    </tr>\n",
              "    <tr>\n",
              "      <th>2</th>\n",
              "      <td>-0.286098</td>\n",
              "      <td>-0.524298</td>\n",
              "      <td>-0.207280</td>\n",
              "      <td>-0.449110</td>\n",
              "      <td>-0.478336</td>\n",
              "      <td>0</td>\n",
              "      <td>1</td>\n",
              "      <td>0</td>\n",
              "      <td>0</td>\n",
              "      <td>0</td>\n",
              "      <td>...</td>\n",
              "      <td>1</td>\n",
              "      <td>1</td>\n",
              "      <td>0</td>\n",
              "      <td>0</td>\n",
              "      <td>0</td>\n",
              "      <td>0</td>\n",
              "      <td>1</td>\n",
              "      <td>0</td>\n",
              "      <td>1</td>\n",
              "      <td>-0.352512</td>\n",
              "    </tr>\n",
              "    <tr>\n",
              "      <th>3</th>\n",
              "      <td>-0.286098</td>\n",
              "      <td>-0.496652</td>\n",
              "      <td>-0.242635</td>\n",
              "      <td>-0.449110</td>\n",
              "      <td>-0.478336</td>\n",
              "      <td>0</td>\n",
              "      <td>1</td>\n",
              "      <td>1</td>\n",
              "      <td>1</td>\n",
              "      <td>1</td>\n",
              "      <td>...</td>\n",
              "      <td>1</td>\n",
              "      <td>1</td>\n",
              "      <td>0</td>\n",
              "      <td>1</td>\n",
              "      <td>1</td>\n",
              "      <td>0</td>\n",
              "      <td>0</td>\n",
              "      <td>0</td>\n",
              "      <td>0</td>\n",
              "      <td>-0.352512</td>\n",
              "    </tr>\n",
              "    <tr>\n",
              "      <th>4</th>\n",
              "      <td>-0.286098</td>\n",
              "      <td>0.021084</td>\n",
              "      <td>-0.255262</td>\n",
              "      <td>0.983315</td>\n",
              "      <td>0.414580</td>\n",
              "      <td>0</td>\n",
              "      <td>1</td>\n",
              "      <td>1</td>\n",
              "      <td>0</td>\n",
              "      <td>0</td>\n",
              "      <td>...</td>\n",
              "      <td>1</td>\n",
              "      <td>1</td>\n",
              "      <td>0</td>\n",
              "      <td>0</td>\n",
              "      <td>0</td>\n",
              "      <td>1</td>\n",
              "      <td>0</td>\n",
              "      <td>0</td>\n",
              "      <td>0</td>\n",
              "      <td>-0.352512</td>\n",
              "    </tr>\n",
              "  </tbody>\n",
              "</table>\n",
              "<p>5 rows × 21 columns</p>\n",
              "</div>\n",
              "    <div class=\"colab-df-buttons\">\n",
              "\n",
              "  <div class=\"colab-df-container\">\n",
              "    <button class=\"colab-df-convert\" onclick=\"convertToInteractive('df-6e591fa9-6977-43ae-bcf0-52f6b0a7c47a')\"\n",
              "            title=\"Convert this dataframe to an interactive table.\"\n",
              "            style=\"display:none;\">\n",
              "\n",
              "  <svg xmlns=\"http://www.w3.org/2000/svg\" height=\"24px\" viewBox=\"0 -960 960 960\">\n",
              "    <path d=\"M120-120v-720h720v720H120Zm60-500h600v-160H180v160Zm220 220h160v-160H400v160Zm0 220h160v-160H400v160ZM180-400h160v-160H180v160Zm440 0h160v-160H620v160ZM180-180h160v-160H180v160Zm440 0h160v-160H620v160Z\"/>\n",
              "  </svg>\n",
              "    </button>\n",
              "\n",
              "  <style>\n",
              "    .colab-df-container {\n",
              "      display:flex;\n",
              "      gap: 12px;\n",
              "    }\n",
              "\n",
              "    .colab-df-convert {\n",
              "      background-color: #E8F0FE;\n",
              "      border: none;\n",
              "      border-radius: 50%;\n",
              "      cursor: pointer;\n",
              "      display: none;\n",
              "      fill: #1967D2;\n",
              "      height: 32px;\n",
              "      padding: 0 0 0 0;\n",
              "      width: 32px;\n",
              "    }\n",
              "\n",
              "    .colab-df-convert:hover {\n",
              "      background-color: #E2EBFA;\n",
              "      box-shadow: 0px 1px 2px rgba(60, 64, 67, 0.3), 0px 1px 3px 1px rgba(60, 64, 67, 0.15);\n",
              "      fill: #174EA6;\n",
              "    }\n",
              "\n",
              "    .colab-df-buttons div {\n",
              "      margin-bottom: 4px;\n",
              "    }\n",
              "\n",
              "    [theme=dark] .colab-df-convert {\n",
              "      background-color: #3B4455;\n",
              "      fill: #D2E3FC;\n",
              "    }\n",
              "\n",
              "    [theme=dark] .colab-df-convert:hover {\n",
              "      background-color: #434B5C;\n",
              "      box-shadow: 0px 1px 3px 1px rgba(0, 0, 0, 0.15);\n",
              "      filter: drop-shadow(0px 1px 2px rgba(0, 0, 0, 0.3));\n",
              "      fill: #FFFFFF;\n",
              "    }\n",
              "  </style>\n",
              "\n",
              "    <script>\n",
              "      const buttonEl =\n",
              "        document.querySelector('#df-6e591fa9-6977-43ae-bcf0-52f6b0a7c47a button.colab-df-convert');\n",
              "      buttonEl.style.display =\n",
              "        google.colab.kernel.accessAllowed ? 'block' : 'none';\n",
              "\n",
              "      async function convertToInteractive(key) {\n",
              "        const element = document.querySelector('#df-6e591fa9-6977-43ae-bcf0-52f6b0a7c47a');\n",
              "        const dataTable =\n",
              "          await google.colab.kernel.invokeFunction('convertToInteractive',\n",
              "                                                    [key], {});\n",
              "        if (!dataTable) return;\n",
              "\n",
              "        const docLinkHtml = 'Like what you see? Visit the ' +\n",
              "          '<a target=\"_blank\" href=https://colab.research.google.com/notebooks/data_table.ipynb>data table notebook</a>'\n",
              "          + ' to learn more about interactive tables.';\n",
              "        element.innerHTML = '';\n",
              "        dataTable['output_type'] = 'display_data';\n",
              "        await google.colab.output.renderOutput(dataTable, element);\n",
              "        const docLink = document.createElement('div');\n",
              "        docLink.innerHTML = docLinkHtml;\n",
              "        element.appendChild(docLink);\n",
              "      }\n",
              "    </script>\n",
              "  </div>\n",
              "\n",
              "\n",
              "    <div id=\"df-c3070ef5-e32c-4573-a09b-2bab888a2735\">\n",
              "      <button class=\"colab-df-quickchart\" onclick=\"quickchart('df-c3070ef5-e32c-4573-a09b-2bab888a2735')\"\n",
              "                title=\"Suggest charts\"\n",
              "                style=\"display:none;\">\n",
              "\n",
              "<svg xmlns=\"http://www.w3.org/2000/svg\" height=\"24px\"viewBox=\"0 0 24 24\"\n",
              "     width=\"24px\">\n",
              "    <g>\n",
              "        <path d=\"M19 3H5c-1.1 0-2 .9-2 2v14c0 1.1.9 2 2 2h14c1.1 0 2-.9 2-2V5c0-1.1-.9-2-2-2zM9 17H7v-7h2v7zm4 0h-2V7h2v10zm4 0h-2v-4h2v4z\"/>\n",
              "    </g>\n",
              "</svg>\n",
              "      </button>\n",
              "\n",
              "<style>\n",
              "  .colab-df-quickchart {\n",
              "      --bg-color: #E8F0FE;\n",
              "      --fill-color: #1967D2;\n",
              "      --hover-bg-color: #E2EBFA;\n",
              "      --hover-fill-color: #174EA6;\n",
              "      --disabled-fill-color: #AAA;\n",
              "      --disabled-bg-color: #DDD;\n",
              "  }\n",
              "\n",
              "  [theme=dark] .colab-df-quickchart {\n",
              "      --bg-color: #3B4455;\n",
              "      --fill-color: #D2E3FC;\n",
              "      --hover-bg-color: #434B5C;\n",
              "      --hover-fill-color: #FFFFFF;\n",
              "      --disabled-bg-color: #3B4455;\n",
              "      --disabled-fill-color: #666;\n",
              "  }\n",
              "\n",
              "  .colab-df-quickchart {\n",
              "    background-color: var(--bg-color);\n",
              "    border: none;\n",
              "    border-radius: 50%;\n",
              "    cursor: pointer;\n",
              "    display: none;\n",
              "    fill: var(--fill-color);\n",
              "    height: 32px;\n",
              "    padding: 0;\n",
              "    width: 32px;\n",
              "  }\n",
              "\n",
              "  .colab-df-quickchart:hover {\n",
              "    background-color: var(--hover-bg-color);\n",
              "    box-shadow: 0 1px 2px rgba(60, 64, 67, 0.3), 0 1px 3px 1px rgba(60, 64, 67, 0.15);\n",
              "    fill: var(--button-hover-fill-color);\n",
              "  }\n",
              "\n",
              "  .colab-df-quickchart-complete:disabled,\n",
              "  .colab-df-quickchart-complete:disabled:hover {\n",
              "    background-color: var(--disabled-bg-color);\n",
              "    fill: var(--disabled-fill-color);\n",
              "    box-shadow: none;\n",
              "  }\n",
              "\n",
              "  .colab-df-spinner {\n",
              "    border: 2px solid var(--fill-color);\n",
              "    border-color: transparent;\n",
              "    border-bottom-color: var(--fill-color);\n",
              "    animation:\n",
              "      spin 1s steps(1) infinite;\n",
              "  }\n",
              "\n",
              "  @keyframes spin {\n",
              "    0% {\n",
              "      border-color: transparent;\n",
              "      border-bottom-color: var(--fill-color);\n",
              "      border-left-color: var(--fill-color);\n",
              "    }\n",
              "    20% {\n",
              "      border-color: transparent;\n",
              "      border-left-color: var(--fill-color);\n",
              "      border-top-color: var(--fill-color);\n",
              "    }\n",
              "    30% {\n",
              "      border-color: transparent;\n",
              "      border-left-color: var(--fill-color);\n",
              "      border-top-color: var(--fill-color);\n",
              "      border-right-color: var(--fill-color);\n",
              "    }\n",
              "    40% {\n",
              "      border-color: transparent;\n",
              "      border-right-color: var(--fill-color);\n",
              "      border-top-color: var(--fill-color);\n",
              "    }\n",
              "    60% {\n",
              "      border-color: transparent;\n",
              "      border-right-color: var(--fill-color);\n",
              "    }\n",
              "    80% {\n",
              "      border-color: transparent;\n",
              "      border-right-color: var(--fill-color);\n",
              "      border-bottom-color: var(--fill-color);\n",
              "    }\n",
              "    90% {\n",
              "      border-color: transparent;\n",
              "      border-bottom-color: var(--fill-color);\n",
              "    }\n",
              "  }\n",
              "</style>\n",
              "\n",
              "      <script>\n",
              "        async function quickchart(key) {\n",
              "          const quickchartButtonEl =\n",
              "            document.querySelector('#' + key + ' button');\n",
              "          quickchartButtonEl.disabled = true;  // To prevent multiple clicks.\n",
              "          quickchartButtonEl.classList.add('colab-df-spinner');\n",
              "          try {\n",
              "            const charts = await google.colab.kernel.invokeFunction(\n",
              "                'suggestCharts', [key], {});\n",
              "          } catch (error) {\n",
              "            console.error('Error during call to suggestCharts:', error);\n",
              "          }\n",
              "          quickchartButtonEl.classList.remove('colab-df-spinner');\n",
              "          quickchartButtonEl.classList.add('colab-df-quickchart-complete');\n",
              "        }\n",
              "        (() => {\n",
              "          let quickchartButtonEl =\n",
              "            document.querySelector('#df-c3070ef5-e32c-4573-a09b-2bab888a2735 button');\n",
              "          quickchartButtonEl.style.display =\n",
              "            google.colab.kernel.accessAllowed ? 'block' : 'none';\n",
              "        })();\n",
              "      </script>\n",
              "    </div>\n",
              "\n",
              "    </div>\n",
              "  </div>\n"
            ],
            "application/vnd.google.colaboratory.intrinsic+json": {
              "type": "dataframe",
              "variable_name": "train_df"
            }
          },
          "metadata": {},
          "execution_count": 3
        }
      ],
      "source": [
        "# Path to the files\n",
        "base_path = \"/content/drive/MyDrive/Thesis Project\"\n",
        "\n",
        "train_path = os.path.join(base_path, \"train_data_healthcare.csv\")\n",
        "test_path = os.path.join(base_path, \"test_data_healthcare.csv\")\n",
        "\n",
        "# Load data\n",
        "train_df = pd.read_csv(train_path)\n",
        "test_df = pd.read_csv(test_path)\n",
        "\n",
        "train_df.head(5)"
      ]
    },
    {
      "cell_type": "code",
      "execution_count": null,
      "metadata": {
        "id": "4N59CTAl4SMD"
      },
      "outputs": [],
      "source": [
        "# Separating features and target\n",
        "X_train = train_df.drop(\"PotentialFraud\", axis=1)\n",
        "y_train = train_df[\"PotentialFraud\"]\n",
        "X_test = test_df.drop(\"PotentialFraud\", axis=1)\n",
        "y_test = test_df[\"PotentialFraud\"]"
      ]
    },
    {
      "cell_type": "markdown",
      "metadata": {
        "id": "G8zquvoc4qod"
      },
      "source": [
        "## CNN BASELINE"
      ]
    },
    {
      "cell_type": "code",
      "execution_count": null,
      "metadata": {
        "id": "nRoDhk4G4SOZ"
      },
      "outputs": [],
      "source": [
        "# Reshaping input\n",
        "X_train_cnn = X_train.values.reshape((X_train.shape[0], X_train.shape[1], 1))\n",
        "X_test_cnn  = X_test.values.reshape((X_test.shape[0], X_test.shape[1], 1))"
      ]
    },
    {
      "cell_type": "code",
      "execution_count": null,
      "metadata": {
        "colab": {
          "base_uri": "https://localhost:8080/"
        },
        "id": "KYtl_eQh4SRQ",
        "outputId": "7c9e5c82-4933-4487-e2f4-8fe05e7fcf2b"
      },
      "outputs": [
        {
          "name": "stderr",
          "output_type": "stream",
          "text": [
            "/usr/local/lib/python3.11/dist-packages/keras/src/layers/convolutional/base_conv.py:107: UserWarning: Do not pass an `input_shape`/`input_dim` argument to a layer. When using Sequential models, prefer using an `Input(shape)` object as the first layer in the model instead.\n",
            "  super().__init__(activity_regularizer=activity_regularizer, **kwargs)\n"
          ]
        }
      ],
      "source": [
        "# Defining Early Stopping\n",
        "early_stop = EarlyStopping(\n",
        "    monitor='val_loss',\n",
        "    patience=3,\n",
        "    restore_best_weights=True,\n",
        "    verbose=1\n",
        ")\n",
        "\n",
        "#Define CNN model\n",
        "\n",
        "cnn_baseline = Sequential()\n",
        "# Block 1\n",
        "cnn_baseline.add(Conv1D(32, 3, activation='relu', padding='same',\n",
        "                        input_shape=(X_train_cnn.shape[1], 1)))\n",
        "cnn_baseline.add(BatchNormalization())\n",
        "cnn_baseline.add(Conv1D(64, 3, activation='relu', padding='same'))\n",
        "cnn_baseline.add(BatchNormalization())\n",
        "cnn_baseline.add(MaxPooling1D(pool_size=2))\n",
        "cnn_baseline.add(Dropout(0.3))\n",
        "\n",
        "# Block 2\n",
        "cnn_baseline.add(Conv1D(128, 3, activation='relu', padding='same'))\n",
        "cnn_baseline.add(BatchNormalization())\n",
        "cnn_baseline.add(Conv1D(128, 3, activation='relu', padding='same'))\n",
        "cnn_baseline.add(BatchNormalization())\n",
        "cnn_baseline.add(MaxPooling1D(pool_size=2))\n",
        "cnn_baseline.add(Dropout(0.3))\n",
        "\n",
        "# Head\n",
        "cnn_baseline.add(Flatten())\n",
        "cnn_baseline.add(Dense(64, activation='relu'))\n",
        "cnn_baseline.add(Dropout(0.4))\n",
        "cnn_baseline.add(Dense(1, activation='sigmoid'))\n"
      ]
    },
    {
      "cell_type": "code",
      "execution_count": null,
      "metadata": {
        "colab": {
          "base_uri": "https://localhost:8080/"
        },
        "id": "cRW2ZzPy4SUZ",
        "outputId": "77e3624b-9f91-4c0e-c1f1-7b643c6b6c8f"
      },
      "outputs": [
        {
          "name": "stdout",
          "output_type": "stream",
          "text": [
            "Epoch 1/30\n",
            "\u001b[1m438/438\u001b[0m \u001b[32m━━━━━━━━━━━━━━━━━━━━\u001b[0m\u001b[37m\u001b[0m \u001b[1m6s\u001b[0m 8ms/step - accuracy: 0.5794 - loss: 0.7246 - precision: 0.3908 - recall: 0.1962 - val_accuracy: 0.6251 - val_loss: 0.6711 - val_precision: 0.5263 - val_recall: 0.0228\n",
            "Epoch 2/30\n",
            "\u001b[1m438/438\u001b[0m \u001b[32m━━━━━━━━━━━━━━━━━━━━\u001b[0m\u001b[37m\u001b[0m \u001b[1m5s\u001b[0m 10ms/step - accuracy: 0.6191 - loss: 0.6737 - precision: 0.4593 - recall: 0.0596 - val_accuracy: 0.6239 - val_loss: 0.6655 - val_precision: 0.4844 - val_recall: 0.0118\n",
            "Epoch 3/30\n",
            "\u001b[1m438/438\u001b[0m \u001b[32m━━━━━━━━━━━━━━━━━━━━\u001b[0m\u001b[37m\u001b[0m \u001b[1m3s\u001b[0m 7ms/step - accuracy: 0.6197 - loss: 0.6679 - precision: 0.5071 - recall: 0.0393 - val_accuracy: 0.6262 - val_loss: 0.6634 - val_precision: 0.5538 - val_recall: 0.0274\n",
            "Epoch 4/30\n",
            "\u001b[1m438/438\u001b[0m \u001b[32m━━━━━━━━━━━━━━━━━━━━\u001b[0m\u001b[37m\u001b[0m \u001b[1m5s\u001b[0m 7ms/step - accuracy: 0.6231 - loss: 0.6650 - precision: 0.5625 - recall: 0.0481 - val_accuracy: 0.6252 - val_loss: 0.6626 - val_precision: 0.5255 - val_recall: 0.0274\n",
            "Epoch 5/30\n",
            "\u001b[1m438/438\u001b[0m \u001b[32m━━━━━━━━━━━━━━━━━━━━\u001b[0m\u001b[37m\u001b[0m \u001b[1m4s\u001b[0m 10ms/step - accuracy: 0.6236 - loss: 0.6652 - precision: 0.5465 - recall: 0.0513 - val_accuracy: 0.6256 - val_loss: 0.6620 - val_precision: 0.5347 - val_recall: 0.0293\n",
            "Epoch 6/30\n",
            "\u001b[1m438/438\u001b[0m \u001b[32m━━━━━━━━━━━━━━━━━━━━\u001b[0m\u001b[37m\u001b[0m \u001b[1m4s\u001b[0m 7ms/step - accuracy: 0.6244 - loss: 0.6641 - precision: 0.5697 - recall: 0.0466 - val_accuracy: 0.6321 - val_loss: 0.6605 - val_precision: 0.5939 - val_recall: 0.0661\n",
            "Epoch 7/30\n",
            "\u001b[1m438/438\u001b[0m \u001b[32m━━━━━━━━━━━━━━━━━━━━\u001b[0m\u001b[37m\u001b[0m \u001b[1m3s\u001b[0m 7ms/step - accuracy: 0.6289 - loss: 0.6644 - precision: 0.5733 - recall: 0.0641 - val_accuracy: 0.6316 - val_loss: 0.6597 - val_precision: 0.5778 - val_recall: 0.0734\n",
            "Epoch 8/30\n",
            "\u001b[1m438/438\u001b[0m \u001b[32m━━━━━━━━━━━━━━━━━━━━\u001b[0m\u001b[37m\u001b[0m \u001b[1m3s\u001b[0m 7ms/step - accuracy: 0.6272 - loss: 0.6622 - precision: 0.5963 - recall: 0.0753 - val_accuracy: 0.6308 - val_loss: 0.6589 - val_precision: 0.5728 - val_recall: 0.0688\n",
            "Epoch 9/30\n",
            "\u001b[1m438/438\u001b[0m \u001b[32m━━━━━━━━━━━━━━━━━━━━\u001b[0m\u001b[37m\u001b[0m \u001b[1m5s\u001b[0m 8ms/step - accuracy: 0.6313 - loss: 0.6596 - precision: 0.5875 - recall: 0.0694 - val_accuracy: 0.6318 - val_loss: 0.6608 - val_precision: 0.5791 - val_recall: 0.0737\n",
            "Epoch 10/30\n",
            "\u001b[1m438/438\u001b[0m \u001b[32m━━━━━━━━━━━━━━━━━━━━\u001b[0m\u001b[37m\u001b[0m \u001b[1m3s\u001b[0m 7ms/step - accuracy: 0.6308 - loss: 0.6602 - precision: 0.5954 - recall: 0.0671 - val_accuracy: 0.6309 - val_loss: 0.6591 - val_precision: 0.5770 - val_recall: 0.0669\n",
            "Epoch 11/30\n",
            "\u001b[1m438/438\u001b[0m \u001b[32m━━━━━━━━━━━━━━━━━━━━\u001b[0m\u001b[37m\u001b[0m \u001b[1m6s\u001b[0m 8ms/step - accuracy: 0.6276 - loss: 0.6617 - precision: 0.5755 - recall: 0.0666 - val_accuracy: 0.6311 - val_loss: 0.6591 - val_precision: 0.5694 - val_recall: 0.0749\n",
            "Epoch 11: early stopping\n",
            "Restoring model weights from the end of the best epoch: 8.\n",
            "\u001b[1m469/469\u001b[0m \u001b[32m━━━━━━━━━━━━━━━━━━━━\u001b[0m\u001b[37m\u001b[0m \u001b[1m1s\u001b[0m 2ms/step\n",
            "Confusion Matrix:\n",
            "[[8988  336]\n",
            " [5252  423]]\n"
          ]
        }
      ],
      "source": [
        "# Compiling model\n",
        "cnn_baseline.compile(\n",
        "    optimizer=Adam(learning_rate=0.0001),\n",
        "    loss='binary_crossentropy',\n",
        "    metrics=['accuracy', Precision(name='precision'), Recall(name='recall')]\n",
        ")\n",
        "\n",
        "# Fitting model\n",
        "cnn_baseline.fit( X_train_cnn, y_train, epochs=30,batch_size=64, validation_split=0.2, callbacks=[early_stop], verbose=1)\n",
        "\n",
        "# Predicting & evaluating\n",
        "y_pred_probs_cnn = cnn_baseline.predict(X_test_cnn).flatten()\n",
        "y_pred_cnn = (y_pred_probs_cnn > 0.5).astype(int)\n",
        "\n",
        "cm_cnn = confusion_matrix(y_test, y_pred_cnn)\n",
        "roc_cnn = roc_curve(y_test, y_pred_probs_cnn)\n",
        "auc_cnn = roc_auc_score(y_test, y_pred_probs_cnn)\n",
        "\n",
        "print(\"Confusion Matrix:\")\n",
        "print(cm_cnn)"
      ]
    },
    {
      "cell_type": "markdown",
      "metadata": {
        "id": "55YDCyTp472d"
      },
      "source": [
        "CNN + SMOTE"
      ]
    },
    {
      "cell_type": "code",
      "execution_count": null,
      "metadata": {
        "id": "Ms2RbRgr4SW_"
      },
      "outputs": [],
      "source": [
        "smote = SMOTE(random_state=123)\n",
        "X_train_smote, y_train_smote = smote.fit_resample(X_train, y_train)\n",
        "X_train_smote_cnn = X_train_smote.values.reshape((X_train_smote.shape[0], X_train_smote.shape[1], 1))\n"
      ]
    },
    {
      "cell_type": "code",
      "execution_count": null,
      "metadata": {
        "id": "tl6Tndbs4SZm"
      },
      "outputs": [],
      "source": [
        "# Defining Early Stopping\n",
        "early_stop = EarlyStopping( monitor='val_loss', patience=3, restore_best_weights=True, verbose=1)\n",
        "\n",
        "# Defining model\n",
        "cnn_smote = Sequential()\n",
        "\n",
        "# Block 1\n",
        "cnn_smote.add(Conv1D(32, 3, activation='relu', padding='same',\n",
        "                     input_shape=(X_train_smote_cnn.shape[1], 1)))\n",
        "cnn_smote.add(BatchNormalization())\n",
        "cnn_smote.add(Conv1D(64, 3, activation='relu', padding='same'))\n",
        "cnn_smote.add(BatchNormalization())\n",
        "cnn_smote.add(MaxPooling1D(pool_size=2))\n",
        "cnn_smote.add(Dropout(0.3))\n",
        "\n",
        "# Block 2\n",
        "cnn_smote.add(Conv1D(128, 3, activation='relu', padding='same'))\n",
        "cnn_smote.add(BatchNormalization())\n",
        "cnn_smote.add(Conv1D(128, 3, activation='relu', padding='same'))\n",
        "cnn_smote.add(BatchNormalization())\n",
        "cnn_smote.add(MaxPooling1D(pool_size=2))\n",
        "cnn_smote.add(Dropout(0.3))\n",
        "\n",
        "# Dense head\n",
        "cnn_smote.add(Flatten())\n",
        "cnn_smote.add(Dense(64, activation='relu'))\n",
        "cnn_smote.add(Dropout(0.4))\n",
        "cnn_smote.add(Dense(1, activation='sigmoid'))"
      ]
    },
    {
      "cell_type": "code",
      "execution_count": null,
      "metadata": {
        "id": "1LWoQqW04Scd"
      },
      "outputs": [],
      "source": [
        "# Compiling\n",
        "cnn_smote.compile(optimizer=Adam(learning_rate=0.0001), loss='binary_crossentropy',\n",
        "                  metrics=['accuracy', Precision(name='precision'), Recall(name='recall')])\n",
        "\n",
        "\n",
        "# Fitting with early stopping\n",
        "cnn_smote.fit(\n",
        "    X_train_smote_cnn,\n",
        "    y_train_smote,\n",
        "    epochs=30,\n",
        "    batch_size=64,\n",
        "    validation_split=0.2,\n",
        "    callbacks=[early_stop],\n",
        "    verbose=1\n",
        ")\n",
        "\n",
        "\n",
        "# Predicting & evaluation\n",
        "y_pred_probs_cnn_smote = cnn_smote.predict(X_test_cnn).flatten()\n",
        "y_pred_cnn_smote = (y_pred_probs_cnn_smote > 0.5).astype(int)\n",
        "\n",
        "cm_cnn_smote = confusion_matrix(y_test, y_pred_cnn_smote)\n",
        "roc_cnn_smote = roc_curve(y_test, y_pred_probs_cnn_smote)\n",
        "auc_cnn_smote = roc_auc_score(y_test, y_pred_probs_cnn_smote)\n",
        "\n",
        "print(\"Confusion Matrix (SMOTE):\")\n",
        "print(cm_cnn_smote)"
      ]
    },
    {
      "cell_type": "markdown",
      "metadata": {
        "id": "DHbpT7jp5JPF"
      },
      "source": [
        "CNN + ADASYN"
      ]
    },
    {
      "cell_type": "code",
      "execution_count": null,
      "metadata": {
        "id": "C_-X9MTn4Shq"
      },
      "outputs": [],
      "source": [
        "adas = ADASYN(random_state=123)\n",
        "X_train_adas, y_train_adas = adas.fit_resample(X_train, y_train)\n",
        "X_train_adas_cnn = X_train_adas.values.reshape((X_train_adas.shape[0], X_train_adas.shape[1], 1))\n"
      ]
    },
    {
      "cell_type": "code",
      "execution_count": null,
      "metadata": {
        "id": "IkdI7iqj4SkR"
      },
      "outputs": [],
      "source": [
        "# Defining Early Stopping\n",
        "early_stop = EarlyStopping(monitor='val_loss', patience=3, restore_best_weights=True, verbose=1)\n",
        "\n",
        "# Defining model\n",
        "cnn_adas = Sequential()\n",
        "\n",
        "# Block 1\n",
        "cnn_adas.add(Conv1D(32, 3, activation='relu', padding='same',\n",
        "                    input_shape=(X_train_adas_cnn.shape[1], 1)))\n",
        "cnn_adas.add(BatchNormalization())\n",
        "cnn_adas.add(Conv1D(64, 3, activation='relu', padding='same'))\n",
        "cnn_adas.add(BatchNormalization())\n",
        "cnn_adas.add(MaxPooling1D(pool_size=2))\n",
        "cnn_adas.add(Dropout(0.3))\n",
        "\n",
        "# Block 2\n",
        "cnn_adas.add(Conv1D(128, 3, activation='relu', padding='same'))\n",
        "cnn_adas.add(BatchNormalization())\n",
        "cnn_adas.add(Conv1D(128, 3, activation='relu', padding='same'))\n",
        "cnn_adas.add(BatchNormalization())\n",
        "cnn_adas.add(MaxPooling1D(pool_size=2))\n",
        "cnn_adas.add(Dropout(0.3))\n",
        "\n",
        "# Head\n",
        "cnn_adas.add(Flatten())\n",
        "cnn_adas.add(Dense(64, activation='relu'))\n",
        "cnn_adas.add(Dropout(0.4))\n",
        "cnn_adas.add(Dense(1, activation='sigmoid'))"
      ]
    },
    {
      "cell_type": "code",
      "execution_count": null,
      "metadata": {
        "id": "G6BOra_U4SnL"
      },
      "outputs": [],
      "source": [
        "# Compiling model\n",
        "cnn_adas.compile(optimizer=Adam(learning_rate=0.0001), loss='binary_crossentropy',\n",
        "                 metrics=['accuracy', Precision(name='precision'), Recall(name='recall')])\n",
        "\n",
        "# Fitting model with early stopping\n",
        "cnn_adas.fit(\n",
        "    X_train_adas_cnn,\n",
        "    y_train_adas,\n",
        "    epochs=30,\n",
        "    batch_size=64,\n",
        "    validation_split=0.2,\n",
        "    callbacks=[early_stop],\n",
        "    verbose=1\n",
        ")\n",
        "\n",
        "# Predicting & evaluating\n",
        "y_pred_probs_cnn_adas = cnn_adas.predict(X_test_cnn).flatten()\n",
        "y_pred_cnn_adas = (y_pred_probs_cnn_adas > 0.5).astype(int)\n",
        "\n",
        "cm_cnn_adas = confusion_matrix(y_test, y_pred_cnn_adas)\n",
        "roc_cnn_adas = roc_curve(y_test, y_pred_probs_cnn_adas)\n",
        "auc_cnn_adas = roc_auc_score(y_test, y_pred_probs_cnn_adas)\n",
        "\n",
        "print(\"Confusion Matrix (ADASYN):\")\n",
        "print(cm_cnn_adas)"
      ]
    },
    {
      "cell_type": "markdown",
      "metadata": {
        "id": "aFKens4Y5Wk2"
      },
      "source": [
        "Cost-sensitive CNN"
      ]
    },
    {
      "cell_type": "code",
      "execution_count": null,
      "metadata": {
        "id": "nDHbv7fe4StI"
      },
      "outputs": [],
      "source": [
        "class_weights = compute_class_weight(class_weight='balanced', classes=np.unique(y_train), y=y_train)\n",
        "class_weights_dict = {0: class_weights[0], 1: class_weights[1]}"
      ]
    },
    {
      "cell_type": "code",
      "execution_count": null,
      "metadata": {
        "id": "bXRVGdO14SwC"
      },
      "outputs": [],
      "source": [
        "# Defining Early Stopping\n",
        "early_stop = EarlyStopping(\n",
        "    monitor='val_loss',\n",
        "    patience=3,\n",
        "    restore_best_weights=True,\n",
        "    verbose=1\n",
        ")\n",
        "\n",
        "# Defining model\n",
        "cnn_cost = Sequential()\n",
        "\n",
        "# Block 1\n",
        "cnn_cost.add(Conv1D(32, 3, activation='relu', padding='same',\n",
        "                    input_shape=(X_train_cnn.shape[1], 1)))\n",
        "cnn_cost.add(BatchNormalization())\n",
        "cnn_cost.add(Conv1D(64, 3, activation='relu', padding='same'))\n",
        "cnn_cost.add(BatchNormalization())\n",
        "cnn_cost.add(MaxPooling1D(pool_size=2))\n",
        "cnn_cost.add(Dropout(0.3))\n",
        "\n",
        "# Block 2\n",
        "cnn_cost.add(Conv1D(128, 3, activation='relu', padding='same'))\n",
        "cnn_cost.add(BatchNormalization())\n",
        "cnn_cost.add(Conv1D(128, 3, activation='relu', padding='same'))\n",
        "cnn_cost.add(BatchNormalization())\n",
        "cnn_cost.add(MaxPooling1D(pool_size=2))\n",
        "cnn_cost.add(Dropout(0.3))\n",
        "\n",
        "# Dense Head\n",
        "cnn_cost.add(Flatten())\n",
        "cnn_cost.add(Dense(64, activation='relu'))\n",
        "cnn_cost.add(Dropout(0.4))\n",
        "cnn_cost.add(Dense(1, activation='sigmoid'))"
      ]
    },
    {
      "cell_type": "code",
      "execution_count": null,
      "metadata": {
        "id": "nBCYTfQg4Sy3"
      },
      "outputs": [],
      "source": [
        "# Compiling model\n",
        "cnn_cost.compile(optimizer=Adam(learning_rate=0.0001), loss='binary_crossentropy',\n",
        "                 metrics=['accuracy', Precision(name='precision'), Recall(name='recall')])\n",
        "\n",
        "# Fitting with early stopping and class weights\n",
        "cnn_cost.fit(\n",
        "    X_train_cnn,\n",
        "    y_train,\n",
        "    epochs=100,\n",
        "    batch_size=64,\n",
        "    class_weight=class_weights_dict,\n",
        "    validation_split=0.2,\n",
        "    callbacks=[early_stop],\n",
        "    verbose=1\n",
        ")\n",
        "\n",
        "# Predicting & evaluating\n",
        "y_pred_probs_cnn_cost = cnn_cost.predict(X_test_cnn).flatten()\n",
        "y_pred_cnn_cost = (y_pred_probs_cnn_cost > 0.5).astype(int)\n",
        "\n",
        "cm_cnn_cost = confusion_matrix(y_test, y_pred_cnn_cost)\n",
        "roc_cnn_cost = roc_curve(y_test, y_pred_probs_cnn_cost)\n",
        "auc_cnn_cost = roc_auc_score(y_test, y_pred_probs_cnn_cost)\n",
        "\n",
        "print(\"Confusion Matrix (Cost-sensitive):\")\n",
        "print(cm_cnn_cost)"
      ]
    },
    {
      "cell_type": "markdown",
      "metadata": {
        "id": "ToNergdg5mTT"
      },
      "source": [
        "ROC Curve for All CNN Models"
      ]
    },
    {
      "cell_type": "code",
      "execution_count": null,
      "metadata": {
        "id": "Re-v9Yn44S4X"
      },
      "outputs": [],
      "source": [
        "plt.figure(figsize=(8,6))\n",
        "plt.plot(roc_cnn[0], roc_cnn[1], label='Baseline', linewidth=2)\n",
        "plt.plot(roc_cnn_smote[0], roc_cnn_smote[1], label='SMOTE', linewidth=2)\n",
        "plt.plot(roc_cnn_adas[0], roc_cnn_adas[1], label='ADASYN', linewidth=2)\n",
        "plt.plot(roc_cnn_cost[0], roc_cnn_cost[1], label='Cost-sensitive', linewidth=2)\n",
        "plt.plot([0, 1], [0, 1], 'k--')\n",
        "plt.title('ROC Curves for CNN Models (Healthcare Fraud)')\n",
        "plt.xlabel('False Positive Rate')\n",
        "plt.ylabel('True Positive Rate')\n",
        "plt.legend()\n",
        "plt.grid(True)\n",
        "plt.show()"
      ]
    },
    {
      "cell_type": "markdown",
      "metadata": {
        "id": "ooRs8ePH5u77"
      },
      "source": [
        "Metrics Comparison Table for CNN Models"
      ]
    },
    {
      "cell_type": "code",
      "execution_count": null,
      "metadata": {
        "id": "t2ajy8I04S-V"
      },
      "outputs": [],
      "source": [
        "# Computing metrics\n",
        "results_cnn_fraud = pd.DataFrame({\n",
        "    \"Method\": [\"Baseline\", \"SMOTE\", \"ADASYN\", \"Cost-sensitive\"],\n",
        "    \"Accuracy\": [\n",
        "        accuracy_score(y_test, y_pred_cnn),\n",
        "        accuracy_score(y_test, y_pred_cnn_smote),\n",
        "        accuracy_score(y_test, y_pred_cnn_adas),\n",
        "        accuracy_score(y_test, y_pred_cnn_cost)\n",
        "    ],\n",
        "    \"Precision\": [\n",
        "        precision_score(y_test, y_pred_cnn),\n",
        "        precision_score(y_test, y_pred_cnn_smote),\n",
        "        precision_score(y_test, y_pred_cnn_adas),\n",
        "        precision_score(y_test, y_pred_cnn_cost)\n",
        "    ],\n",
        "    \"Recall\": [\n",
        "        recall_score(y_test, y_pred_cnn),\n",
        "        recall_score(y_test, y_pred_cnn_smote),\n",
        "        recall_score(y_test, y_pred_cnn_adas),\n",
        "        recall_score(y_test, y_pred_cnn_cost)\n",
        "    ],\n",
        "    \"F1\": [\n",
        "        f1_score(y_test, y_pred_cnn),\n",
        "        f1_score(y_test, y_pred_cnn_smote),\n",
        "        f1_score(y_test, y_pred_cnn_adas),\n",
        "        f1_score(y_test, y_pred_cnn_cost)\n",
        "    ],\n",
        "    \"AUC\": [\n",
        "        auc_cnn,\n",
        "        auc_cnn_smote,\n",
        "        auc_cnn_adas,\n",
        "        auc_cnn_cost\n",
        "    ]\n",
        "\n",
        "})\n",
        "\n",
        "# Show table\n",
        "print(results_cnn_fraud)"
      ]
    },
    {
      "cell_type": "markdown",
      "metadata": {
        "id": "QSN--1gY56oT"
      },
      "source": [
        "## LSTM MODEL"
      ]
    },
    {
      "cell_type": "markdown",
      "metadata": {
        "id": "kQCAS1Rr5_cH"
      },
      "source": [
        "LSTM BASELINE MODEL"
      ]
    },
    {
      "cell_type": "code",
      "execution_count": null,
      "metadata": {
        "id": "YWrMJH0l4TGq"
      },
      "outputs": [],
      "source": [
        "# Reshaping input\n",
        "X_train_lstm = X_train.values.reshape((X_train.shape[0], X_train.shape[1], 1))\n",
        "X_test_lstm  = X_test.values.reshape((X_test.shape[0], X_test.shape[1], 1))"
      ]
    },
    {
      "cell_type": "code",
      "execution_count": null,
      "metadata": {
        "colab": {
          "base_uri": "https://localhost:8080/"
        },
        "id": "UkKxDsFL4TLH",
        "outputId": "094d87a8-d503-4e5e-90bf-e873d56c0e5f"
      },
      "outputs": [
        {
          "name": "stderr",
          "output_type": "stream",
          "text": [
            "/usr/local/lib/python3.11/dist-packages/keras/src/layers/rnn/rnn.py:200: UserWarning: Do not pass an `input_shape`/`input_dim` argument to a layer. When using Sequential models, prefer using an `Input(shape)` object as the first layer in the model instead.\n",
            "  super().__init__(**kwargs)\n"
          ]
        }
      ],
      "source": [
        "# Defining Early Stopping\n",
        "early_stop = EarlyStopping(\n",
        "    monitor='val_loss',\n",
        "    patience=3,\n",
        "    restore_best_weights=True,\n",
        "    verbose=1\n",
        ")\n",
        "\n",
        "# Defining model\n",
        "lstm_baseline = Sequential()\n",
        "# Block 1\n",
        "lstm_baseline.add(LSTM(128, input_shape=(X_train_lstm.shape[1], 1),\n",
        "                       return_sequences=True, dropout=0.3, recurrent_dropout=0.1))\n",
        "lstm_baseline.add(BatchNormalization())\n",
        "\n",
        "# Block 2\n",
        "lstm_baseline.add(LSTM(128, return_sequences=True, dropout=0.3, recurrent_dropout=0.1))\n",
        "lstm_baseline.add(BatchNormalization())\n",
        "\n",
        "# Block 3\n",
        "lstm_baseline.add(LSTM(64, return_sequences=False, dropout=0.3, recurrent_dropout=0.1))\n",
        "lstm_baseline.add(BatchNormalization())\n",
        "\n",
        "# Dense head\n",
        "lstm_baseline.add(Dense(256, activation='relu'))\n",
        "lstm_baseline.add(Dropout(0.4))\n",
        "lstm_baseline.add(Dense(128, activation='relu'))\n",
        "lstm_baseline.add(Dropout(0.3))\n",
        "lstm_baseline.add(Dense(1, activation='sigmoid'))"
      ]
    },
    {
      "cell_type": "code",
      "execution_count": null,
      "metadata": {
        "colab": {
          "base_uri": "https://localhost:8080/"
        },
        "id": "Nx6ovg914TNy",
        "outputId": "90653ef4-7287-427b-90e6-af5c96a91787"
      },
      "outputs": [
        {
          "name": "stdout",
          "output_type": "stream",
          "text": [
            "Epoch 1/30\n",
            "\u001b[1m875/875\u001b[0m \u001b[32m━━━━━━━━━━━━━━━━━━━━\u001b[0m\u001b[37m\u001b[0m \u001b[1m14s\u001b[0m 12ms/step - accuracy: 0.6055 - loss: 0.6836 - precision: 0.4162 - recall: 0.0928 - val_accuracy: 0.6249 - val_loss: 0.6604 - val_precision: 0.5225 - val_recall: 0.0220\n",
            "Epoch 2/30\n",
            "\u001b[1m875/875\u001b[0m \u001b[32m━━━━━━━━━━━━━━━━━━━━\u001b[0m\u001b[37m\u001b[0m \u001b[1m10s\u001b[0m 12ms/step - accuracy: 0.6231 - loss: 0.6645 - precision: 0.4634 - recall: 0.0431 - val_accuracy: 0.6248 - val_loss: 0.6600 - val_precision: 0.5286 - val_recall: 0.0141\n",
            "Epoch 3/30\n",
            "\u001b[1m875/875\u001b[0m \u001b[32m━━━━━━━━━━━━━━━━━━━━\u001b[0m\u001b[37m\u001b[0m \u001b[1m9s\u001b[0m 10ms/step - accuracy: 0.6208 - loss: 0.6649 - precision: 0.4831 - recall: 0.0329 - val_accuracy: 0.6241 - val_loss: 0.6614 - val_precision: 0.4706 - val_recall: 0.0030\n",
            "Epoch 4/30\n",
            "\u001b[1m875/875\u001b[0m \u001b[32m━━━━━━━━━━━━━━━━━━━━\u001b[0m\u001b[37m\u001b[0m \u001b[1m11s\u001b[0m 11ms/step - accuracy: 0.6198 - loss: 0.6636 - precision: 0.5383 - recall: 0.0584 - val_accuracy: 0.5725 - val_loss: 0.6974 - val_precision: 0.4134 - val_recall: 0.3284\n",
            "Epoch 5/30\n",
            "\u001b[1m875/875\u001b[0m \u001b[32m━━━━━━━━━━━━━━━━━━━━\u001b[0m\u001b[37m\u001b[0m \u001b[1m11s\u001b[0m 12ms/step - accuracy: 0.6263 - loss: 0.6602 - precision: 0.5548 - recall: 0.0714 - val_accuracy: 0.6248 - val_loss: 0.6596 - val_precision: 0.5370 - val_recall: 0.0110\n",
            "Epoch 6/30\n",
            "\u001b[1m875/875\u001b[0m \u001b[32m━━━━━━━━━━━━━━━━━━━━\u001b[0m\u001b[37m\u001b[0m \u001b[1m11s\u001b[0m 12ms/step - accuracy: 0.6365 - loss: 0.6560 - precision: 0.5943 - recall: 0.0745 - val_accuracy: 0.4746 - val_loss: 0.7418 - val_precision: 0.3869 - val_recall: 0.6807\n",
            "Epoch 7/30\n",
            "\u001b[1m875/875\u001b[0m \u001b[32m━━━━━━━━━━━━━━━━━━━━\u001b[0m\u001b[37m\u001b[0m \u001b[1m20s\u001b[0m 11ms/step - accuracy: 0.6317 - loss: 0.6576 - precision: 0.5672 - recall: 0.0769 - val_accuracy: 0.6243 - val_loss: 0.6618 - val_precision: 1.0000 - val_recall: 3.8008e-04\n",
            "Epoch 8/30\n",
            "\u001b[1m875/875\u001b[0m \u001b[32m━━━━━━━━━━━━━━━━━━━━\u001b[0m\u001b[37m\u001b[0m \u001b[1m11s\u001b[0m 12ms/step - accuracy: 0.6292 - loss: 0.6583 - precision: 0.5596 - recall: 0.0813 - val_accuracy: 0.6271 - val_loss: 0.6679 - val_precision: 0.5153 - val_recall: 0.1281\n",
            "Epoch 8: early stopping\n",
            "Restoring model weights from the end of the best epoch: 5.\n",
            "\u001b[1m469/469\u001b[0m \u001b[32m━━━━━━━━━━━━━━━━━━━━\u001b[0m\u001b[37m\u001b[0m \u001b[1m2s\u001b[0m 4ms/step\n",
            "Confusion Matrix (LSTM Baseline):\n",
            "[[9266   58]\n",
            " [5579   96]]\n"
          ]
        }
      ],
      "source": [
        "# Compile model\n",
        "lstm_baseline.compile(optimizer=Adam(learning_rate=0.0005), loss='binary_crossentropy',\n",
        "                      metrics=['accuracy', Precision(name='precision'), Recall(name='recall')])\n",
        "\n",
        "# Fit model with early stopping\n",
        "lstm_baseline.fit(\n",
        "    X_train_lstm,\n",
        "    y_train,\n",
        "    epochs=30,\n",
        "    batch_size=64,\n",
        "    validation_split=0.2,\n",
        "    callbacks=[early_stop],\n",
        "    verbose=1\n",
        ")\n",
        "\n",
        "# Predicting & evaluating\n",
        "y_pred_probs_lstm = lstm_baseline.predict(X_test_lstm).flatten()\n",
        "y_pred_lstm = (y_pred_probs_lstm > 0.5).astype(int)\n",
        "\n",
        "cm_lstm = confusion_matrix(y_test, y_pred_lstm)\n",
        "roc_lstm = roc_curve(y_test, y_pred_probs_lstm)\n",
        "auc_lstm = roc_auc_score(y_test, y_pred_probs_lstm)\n",
        "\n",
        "print(\"Confusion Matrix (LSTM Baseline):\")\n",
        "print(cm_lstm)"
      ]
    },
    {
      "cell_type": "markdown",
      "metadata": {
        "id": "i1C_-A7oAEHg"
      },
      "source": [
        "SHAP ANALYSIS"
      ]
    },
    {
      "cell_type": "code",
      "execution_count": null,
      "metadata": {
        "colab": {
          "base_uri": "https://localhost:8080/",
          "height": 1000,
          "referenced_widgets": [
            "c8123975107044a2a8fee3f34736e50d",
            "ed91407a6abb4a2f834bb2cbec8d39cc",
            "dbeec0aafd5a437986167fa3a4785064",
            "cd9d195584d04174b8d46a7900ebb28d",
            "56ddac453d694f61881058b98ee85fd3",
            "e3a9693c13c44aa6916447848e1895d9",
            "5c7ed16e3bf74cf1a32e34a6cfc1dd09",
            "4431228265434e4d87031ba0625ce3a4",
            "757772afca8548d0be7c83bd32269e2a",
            "cce8b7be4d5341dfb95ec736a3062690",
            "5a0e5204a98f484aa49a933c7284142b"
          ]
        },
        "id": "ct6y-6vW4TQN",
        "outputId": "dc397613-a136-4821-de4a-aa2277b76066"
      },
      "outputs": [
        {
          "name": "stdout",
          "output_type": "stream",
          "text": [
            "\u001b[1m4/4\u001b[0m \u001b[32m━━━━━━━━━━━━━━━━━━━━\u001b[0m\u001b[37m\u001b[0m \u001b[1m0s\u001b[0m 16ms/step\n"
          ]
        },
        {
          "data": {
            "application/vnd.jupyter.widget-view+json": {
              "model_id": "c8123975107044a2a8fee3f34736e50d",
              "version_major": 2,
              "version_minor": 0
            },
            "text/plain": [
              "  0%|          | 0/50 [00:00<?, ?it/s]"
            ]
          },
          "metadata": {},
          "output_type": "display_data"
        },
        {
          "name": "stdout",
          "output_type": "stream",
          "text": [
            "\u001b[1m1/1\u001b[0m \u001b[32m━━━━━━━━━━━━━━━━━━━━\u001b[0m\u001b[37m\u001b[0m \u001b[1m0s\u001b[0m 75ms/step\n",
            "\u001b[1m6519/6519\u001b[0m \u001b[32m━━━━━━━━━━━━━━━━━━━━\u001b[0m\u001b[37m\u001b[0m \u001b[1m27s\u001b[0m 4ms/step\n",
            "\u001b[1m1/1\u001b[0m \u001b[32m━━━━━━━━━━━━━━━━━━━━\u001b[0m\u001b[37m\u001b[0m \u001b[1m0s\u001b[0m 59ms/step\n",
            "\u001b[1m6519/6519\u001b[0m \u001b[32m━━━━━━━━━━━━━━━━━━━━\u001b[0m\u001b[37m\u001b[0m \u001b[1m26s\u001b[0m 4ms/step\n",
            "\u001b[1m1/1\u001b[0m \u001b[32m━━━━━━━━━━━━━━━━━━━━\u001b[0m\u001b[37m\u001b[0m \u001b[1m0s\u001b[0m 44ms/step\n",
            "\u001b[1m6519/6519\u001b[0m \u001b[32m━━━━━━━━━━━━━━━━━━━━\u001b[0m\u001b[37m\u001b[0m \u001b[1m27s\u001b[0m 4ms/step\n",
            "\u001b[1m1/1\u001b[0m \u001b[32m━━━━━━━━━━━━━━━━━━━━\u001b[0m\u001b[37m\u001b[0m \u001b[1m0s\u001b[0m 43ms/step\n",
            "\u001b[1m6519/6519\u001b[0m \u001b[32m━━━━━━━━━━━━━━━━━━━━\u001b[0m\u001b[37m\u001b[0m \u001b[1m27s\u001b[0m 4ms/step\n",
            "\u001b[1m1/1\u001b[0m \u001b[32m━━━━━━━━━━━━━━━━━━━━\u001b[0m\u001b[37m\u001b[0m \u001b[1m0s\u001b[0m 50ms/step\n",
            "\u001b[1m6519/6519\u001b[0m \u001b[32m━━━━━━━━━━━━━━━━━━━━\u001b[0m\u001b[37m\u001b[0m \u001b[1m27s\u001b[0m 4ms/step\n",
            "\u001b[1m1/1\u001b[0m \u001b[32m━━━━━━━━━━━━━━━━━━━━\u001b[0m\u001b[37m\u001b[0m \u001b[1m0s\u001b[0m 52ms/step\n",
            "\u001b[1m6519/6519\u001b[0m \u001b[32m━━━━━━━━━━━━━━━━━━━━\u001b[0m\u001b[37m\u001b[0m \u001b[1m27s\u001b[0m 4ms/step\n",
            "\u001b[1m1/1\u001b[0m \u001b[32m━━━━━━━━━━━━━━━━━━━━\u001b[0m\u001b[37m\u001b[0m \u001b[1m0s\u001b[0m 53ms/step\n",
            "\u001b[1m6519/6519\u001b[0m \u001b[32m━━━━━━━━━━━━━━━━━━━━\u001b[0m\u001b[37m\u001b[0m \u001b[1m27s\u001b[0m 4ms/step\n",
            "\u001b[1m1/1\u001b[0m \u001b[32m━━━━━━━━━━━━━━━━━━━━\u001b[0m\u001b[37m\u001b[0m \u001b[1m0s\u001b[0m 55ms/step\n",
            "\u001b[1m6519/6519\u001b[0m \u001b[32m━━━━━━━━━━━━━━━━━━━━\u001b[0m\u001b[37m\u001b[0m \u001b[1m27s\u001b[0m 4ms/step\n",
            "\u001b[1m1/1\u001b[0m \u001b[32m━━━━━━━━━━━━━━━━━━━━\u001b[0m\u001b[37m\u001b[0m \u001b[1m0s\u001b[0m 46ms/step\n",
            "\u001b[1m6519/6519\u001b[0m \u001b[32m━━━━━━━━━━━━━━━━━━━━\u001b[0m\u001b[37m\u001b[0m \u001b[1m27s\u001b[0m 4ms/step\n",
            "\u001b[1m1/1\u001b[0m \u001b[32m━━━━━━━━━━━━━━━━━━━━\u001b[0m\u001b[37m\u001b[0m \u001b[1m0s\u001b[0m 53ms/step\n",
            "\u001b[1m6519/6519\u001b[0m \u001b[32m━━━━━━━━━━━━━━━━━━━━\u001b[0m\u001b[37m\u001b[0m \u001b[1m27s\u001b[0m 4ms/step\n",
            "\u001b[1m1/1\u001b[0m \u001b[32m━━━━━━━━━━━━━━━━━━━━\u001b[0m\u001b[37m\u001b[0m \u001b[1m0s\u001b[0m 60ms/step\n",
            "\u001b[1m6519/6519\u001b[0m \u001b[32m━━━━━━━━━━━━━━━━━━━━\u001b[0m\u001b[37m\u001b[0m \u001b[1m27s\u001b[0m 4ms/step\n",
            "\u001b[1m1/1\u001b[0m \u001b[32m━━━━━━━━━━━━━━━━━━━━\u001b[0m\u001b[37m\u001b[0m \u001b[1m0s\u001b[0m 52ms/step\n",
            "\u001b[1m6519/6519\u001b[0m \u001b[32m━━━━━━━━━━━━━━━━━━━━\u001b[0m\u001b[37m\u001b[0m \u001b[1m27s\u001b[0m 4ms/step\n",
            "\u001b[1m1/1\u001b[0m \u001b[32m━━━━━━━━━━━━━━━━━━━━\u001b[0m\u001b[37m\u001b[0m \u001b[1m0s\u001b[0m 40ms/step\n",
            "\u001b[1m6519/6519\u001b[0m \u001b[32m━━━━━━━━━━━━━━━━━━━━\u001b[0m\u001b[37m\u001b[0m \u001b[1m27s\u001b[0m 4ms/step\n",
            "\u001b[1m1/1\u001b[0m \u001b[32m━━━━━━━━━━━━━━━━━━━━\u001b[0m\u001b[37m\u001b[0m \u001b[1m0s\u001b[0m 43ms/step\n",
            "\u001b[1m6519/6519\u001b[0m \u001b[32m━━━━━━━━━━━━━━━━━━━━\u001b[0m\u001b[37m\u001b[0m \u001b[1m27s\u001b[0m 4ms/step\n",
            "\u001b[1m1/1\u001b[0m \u001b[32m━━━━━━━━━━━━━━━━━━━━\u001b[0m\u001b[37m\u001b[0m \u001b[1m0s\u001b[0m 42ms/step\n",
            "\u001b[1m6519/6519\u001b[0m \u001b[32m━━━━━━━━━━━━━━━━━━━━\u001b[0m\u001b[37m\u001b[0m \u001b[1m27s\u001b[0m 4ms/step\n",
            "\u001b[1m1/1\u001b[0m \u001b[32m━━━━━━━━━━━━━━━━━━━━\u001b[0m\u001b[37m\u001b[0m \u001b[1m0s\u001b[0m 42ms/step\n",
            "\u001b[1m6519/6519\u001b[0m \u001b[32m━━━━━━━━━━━━━━━━━━━━\u001b[0m\u001b[37m\u001b[0m \u001b[1m27s\u001b[0m 4ms/step\n",
            "\u001b[1m1/1\u001b[0m \u001b[32m━━━━━━━━━━━━━━━━━━━━\u001b[0m\u001b[37m\u001b[0m \u001b[1m0s\u001b[0m 44ms/step\n",
            "\u001b[1m6525/6525\u001b[0m \u001b[32m━━━━━━━━━━━━━━━━━━━━\u001b[0m\u001b[37m\u001b[0m \u001b[1m27s\u001b[0m 4ms/step\n",
            "\u001b[1m1/1\u001b[0m \u001b[32m━━━━━━━━━━━━━━━━━━━━\u001b[0m\u001b[37m\u001b[0m \u001b[1m0s\u001b[0m 89ms/step\n",
            "\u001b[1m6519/6519\u001b[0m \u001b[32m━━━━━━━━━━━━━━━━━━━━\u001b[0m\u001b[37m\u001b[0m \u001b[1m26s\u001b[0m 4ms/step\n",
            "\u001b[1m1/1\u001b[0m \u001b[32m━━━━━━━━━━━━━━━━━━━━\u001b[0m\u001b[37m\u001b[0m \u001b[1m0s\u001b[0m 44ms/step\n",
            "\u001b[1m6519/6519\u001b[0m \u001b[32m━━━━━━━━━━━━━━━━━━━━\u001b[0m\u001b[37m\u001b[0m \u001b[1m27s\u001b[0m 4ms/step\n",
            "\u001b[1m1/1\u001b[0m \u001b[32m━━━━━━━━━━━━━━━━━━━━\u001b[0m\u001b[37m\u001b[0m \u001b[1m0s\u001b[0m 44ms/step\n",
            "\u001b[1m6519/6519\u001b[0m \u001b[32m━━━━━━━━━━━━━━━━━━━━\u001b[0m\u001b[37m\u001b[0m \u001b[1m27s\u001b[0m 4ms/step\n",
            "\u001b[1m1/1\u001b[0m \u001b[32m━━━━━━━━━━━━━━━━━━━━\u001b[0m\u001b[37m\u001b[0m \u001b[1m0s\u001b[0m 57ms/step\n",
            "\u001b[1m6519/6519\u001b[0m \u001b[32m━━━━━━━━━━━━━━━━━━━━\u001b[0m\u001b[37m\u001b[0m \u001b[1m27s\u001b[0m 4ms/step\n",
            "\u001b[1m1/1\u001b[0m \u001b[32m━━━━━━━━━━━━━━━━━━━━\u001b[0m\u001b[37m\u001b[0m \u001b[1m0s\u001b[0m 47ms/step\n",
            "\u001b[1m6519/6519\u001b[0m \u001b[32m━━━━━━━━━━━━━━━━━━━━\u001b[0m\u001b[37m\u001b[0m \u001b[1m24s\u001b[0m 4ms/step\n",
            "\u001b[1m1/1\u001b[0m \u001b[32m━━━━━━━━━━━━━━━━━━━━\u001b[0m\u001b[37m\u001b[0m \u001b[1m0s\u001b[0m 48ms/step\n",
            "\u001b[1m6519/6519\u001b[0m \u001b[32m━━━━━━━━━━━━━━━━━━━━\u001b[0m\u001b[37m\u001b[0m \u001b[1m24s\u001b[0m 4ms/step\n",
            "\u001b[1m1/1\u001b[0m \u001b[32m━━━━━━━━━━━━━━━━━━━━\u001b[0m\u001b[37m\u001b[0m \u001b[1m0s\u001b[0m 46ms/step\n",
            "\u001b[1m6519/6519\u001b[0m \u001b[32m━━━━━━━━━━━━━━━━━━━━\u001b[0m\u001b[37m\u001b[0m \u001b[1m25s\u001b[0m 4ms/step\n",
            "\u001b[1m1/1\u001b[0m \u001b[32m━━━━━━━━━━━━━━━━━━━━\u001b[0m\u001b[37m\u001b[0m \u001b[1m0s\u001b[0m 46ms/step\n",
            "\u001b[1m6519/6519\u001b[0m \u001b[32m━━━━━━━━━━━━━━━━━━━━\u001b[0m\u001b[37m\u001b[0m \u001b[1m25s\u001b[0m 4ms/step\n",
            "\u001b[1m1/1\u001b[0m \u001b[32m━━━━━━━━━━━━━━━━━━━━\u001b[0m\u001b[37m\u001b[0m \u001b[1m0s\u001b[0m 47ms/step\n",
            "\u001b[1m6519/6519\u001b[0m \u001b[32m━━━━━━━━━━━━━━━━━━━━\u001b[0m\u001b[37m\u001b[0m \u001b[1m24s\u001b[0m 4ms/step\n",
            "\u001b[1m1/1\u001b[0m \u001b[32m━━━━━━━━━━━━━━━━━━━━\u001b[0m\u001b[37m\u001b[0m \u001b[1m0s\u001b[0m 48ms/step\n",
            "\u001b[1m6519/6519\u001b[0m \u001b[32m━━━━━━━━━━━━━━━━━━━━\u001b[0m\u001b[37m\u001b[0m \u001b[1m24s\u001b[0m 4ms/step\n",
            "\u001b[1m1/1\u001b[0m \u001b[32m━━━━━━━━━━━━━━━━━━━━\u001b[0m\u001b[37m\u001b[0m \u001b[1m0s\u001b[0m 54ms/step\n",
            "\u001b[1m6519/6519\u001b[0m \u001b[32m━━━━━━━━━━━━━━━━━━━━\u001b[0m\u001b[37m\u001b[0m \u001b[1m25s\u001b[0m 4ms/step\n",
            "\u001b[1m1/1\u001b[0m \u001b[32m━━━━━━━━━━━━━━━━━━━━\u001b[0m\u001b[37m\u001b[0m \u001b[1m0s\u001b[0m 46ms/step\n",
            "\u001b[1m6519/6519\u001b[0m \u001b[32m━━━━━━━━━━━━━━━━━━━━\u001b[0m\u001b[37m\u001b[0m \u001b[1m25s\u001b[0m 4ms/step\n",
            "\u001b[1m1/1\u001b[0m \u001b[32m━━━━━━━━━━━━━━━━━━━━\u001b[0m\u001b[37m\u001b[0m \u001b[1m0s\u001b[0m 48ms/step\n",
            "\u001b[1m6519/6519\u001b[0m \u001b[32m━━━━━━━━━━━━━━━━━━━━\u001b[0m\u001b[37m\u001b[0m \u001b[1m25s\u001b[0m 4ms/step\n",
            "\u001b[1m1/1\u001b[0m \u001b[32m━━━━━━━━━━━━━━━━━━━━\u001b[0m\u001b[37m\u001b[0m \u001b[1m0s\u001b[0m 46ms/step\n",
            "\u001b[1m6519/6519\u001b[0m \u001b[32m━━━━━━━━━━━━━━━━━━━━\u001b[0m\u001b[37m\u001b[0m \u001b[1m25s\u001b[0m 4ms/step\n",
            "\u001b[1m1/1\u001b[0m \u001b[32m━━━━━━━━━━━━━━━━━━━━\u001b[0m\u001b[37m\u001b[0m \u001b[1m0s\u001b[0m 48ms/step\n",
            "\u001b[1m6519/6519\u001b[0m \u001b[32m━━━━━━━━━━━━━━━━━━━━\u001b[0m\u001b[37m\u001b[0m \u001b[1m25s\u001b[0m 4ms/step\n",
            "\u001b[1m1/1\u001b[0m \u001b[32m━━━━━━━━━━━━━━━━━━━━\u001b[0m\u001b[37m\u001b[0m \u001b[1m0s\u001b[0m 65ms/step\n",
            "\u001b[1m6519/6519\u001b[0m \u001b[32m━━━━━━━━━━━━━━━━━━━━\u001b[0m\u001b[37m\u001b[0m \u001b[1m26s\u001b[0m 4ms/step\n",
            "\u001b[1m1/1\u001b[0m \u001b[32m━━━━━━━━━━━━━━━━━━━━\u001b[0m\u001b[37m\u001b[0m \u001b[1m0s\u001b[0m 69ms/step\n",
            "\u001b[1m6519/6519\u001b[0m \u001b[32m━━━━━━━━━━━━━━━━━━━━\u001b[0m\u001b[37m\u001b[0m \u001b[1m26s\u001b[0m 4ms/step\n",
            "\u001b[1m1/1\u001b[0m \u001b[32m━━━━━━━━━━━━━━━━━━━━\u001b[0m\u001b[37m\u001b[0m \u001b[1m0s\u001b[0m 74ms/step\n",
            "\u001b[1m6519/6519\u001b[0m \u001b[32m━━━━━━━━━━━━━━━━━━━━\u001b[0m\u001b[37m\u001b[0m \u001b[1m25s\u001b[0m 4ms/step\n",
            "\u001b[1m1/1\u001b[0m \u001b[32m━━━━━━━━━━━━━━━━━━━━\u001b[0m\u001b[37m\u001b[0m \u001b[1m0s\u001b[0m 46ms/step\n",
            "\u001b[1m6519/6519\u001b[0m \u001b[32m━━━━━━━━━━━━━━━━━━━━\u001b[0m\u001b[37m\u001b[0m \u001b[1m25s\u001b[0m 4ms/step\n",
            "\u001b[1m1/1\u001b[0m \u001b[32m━━━━━━━━━━━━━━━━━━━━\u001b[0m\u001b[37m\u001b[0m \u001b[1m0s\u001b[0m 43ms/step\n",
            "\u001b[1m6519/6519\u001b[0m \u001b[32m━━━━━━━━━━━━━━━━━━━━\u001b[0m\u001b[37m\u001b[0m \u001b[1m26s\u001b[0m 4ms/step\n",
            "\u001b[1m1/1\u001b[0m \u001b[32m━━━━━━━━━━━━━━━━━━━━\u001b[0m\u001b[37m\u001b[0m \u001b[1m0s\u001b[0m 45ms/step\n",
            "\u001b[1m6519/6519\u001b[0m \u001b[32m━━━━━━━━━━━━━━━━━━━━\u001b[0m\u001b[37m\u001b[0m \u001b[1m26s\u001b[0m 4ms/step\n",
            "\u001b[1m1/1\u001b[0m \u001b[32m━━━━━━━━━━━━━━━━━━━━\u001b[0m\u001b[37m\u001b[0m \u001b[1m0s\u001b[0m 42ms/step\n",
            "\u001b[1m6519/6519\u001b[0m \u001b[32m━━━━━━━━━━━━━━━━━━━━\u001b[0m\u001b[37m\u001b[0m \u001b[1m26s\u001b[0m 4ms/step\n",
            "\u001b[1m1/1\u001b[0m \u001b[32m━━━━━━━━━━━━━━━━━━━━\u001b[0m\u001b[37m\u001b[0m \u001b[1m0s\u001b[0m 52ms/step\n",
            "\u001b[1m6519/6519\u001b[0m \u001b[32m━━━━━━━━━━━━━━━━━━━━\u001b[0m\u001b[37m\u001b[0m \u001b[1m25s\u001b[0m 4ms/step\n",
            "\u001b[1m1/1\u001b[0m \u001b[32m━━━━━━━━━━━━━━━━━━━━\u001b[0m\u001b[37m\u001b[0m \u001b[1m0s\u001b[0m 45ms/step\n",
            "\u001b[1m6519/6519\u001b[0m \u001b[32m━━━━━━━━━━━━━━━━━━━━\u001b[0m\u001b[37m\u001b[0m \u001b[1m25s\u001b[0m 4ms/step\n",
            "\u001b[1m1/1\u001b[0m \u001b[32m━━━━━━━━━━━━━━━━━━━━\u001b[0m\u001b[37m\u001b[0m \u001b[1m0s\u001b[0m 44ms/step\n",
            "\u001b[1m6519/6519\u001b[0m \u001b[32m━━━━━━━━━━━━━━━━━━━━\u001b[0m\u001b[37m\u001b[0m \u001b[1m24s\u001b[0m 4ms/step\n",
            "\u001b[1m1/1\u001b[0m \u001b[32m━━━━━━━━━━━━━━━━━━━━\u001b[0m\u001b[37m\u001b[0m \u001b[1m0s\u001b[0m 47ms/step\n",
            "\u001b[1m6519/6519\u001b[0m \u001b[32m━━━━━━━━━━━━━━━━━━━━\u001b[0m\u001b[37m\u001b[0m \u001b[1m25s\u001b[0m 4ms/step\n",
            "\u001b[1m1/1\u001b[0m \u001b[32m━━━━━━━━━━━━━━━━━━━━\u001b[0m\u001b[37m\u001b[0m \u001b[1m0s\u001b[0m 47ms/step\n",
            "\u001b[1m6519/6519\u001b[0m \u001b[32m━━━━━━━━━━━━━━━━━━━━\u001b[0m\u001b[37m\u001b[0m \u001b[1m24s\u001b[0m 4ms/step\n",
            "\u001b[1m1/1\u001b[0m \u001b[32m━━━━━━━━━━━━━━━━━━━━\u001b[0m\u001b[37m\u001b[0m \u001b[1m0s\u001b[0m 47ms/step\n",
            "\u001b[1m6519/6519\u001b[0m \u001b[32m━━━━━━━━━━━━━━━━━━━━\u001b[0m\u001b[37m\u001b[0m \u001b[1m25s\u001b[0m 4ms/step\n",
            "\u001b[1m1/1\u001b[0m \u001b[32m━━━━━━━━━━━━━━━━━━━━\u001b[0m\u001b[37m\u001b[0m \u001b[1m0s\u001b[0m 44ms/step\n",
            "\u001b[1m6519/6519\u001b[0m \u001b[32m━━━━━━━━━━━━━━━━━━━━\u001b[0m\u001b[37m\u001b[0m \u001b[1m24s\u001b[0m 4ms/step\n",
            "\u001b[1m1/1\u001b[0m \u001b[32m━━━━━━━━━━━━━━━━━━━━\u001b[0m\u001b[37m\u001b[0m \u001b[1m0s\u001b[0m 49ms/step\n",
            "\u001b[1m6519/6519\u001b[0m \u001b[32m━━━━━━━━━━━━━━━━━━━━\u001b[0m\u001b[37m\u001b[0m \u001b[1m25s\u001b[0m 4ms/step\n",
            "\u001b[1m1/1\u001b[0m \u001b[32m━━━━━━━━━━━━━━━━━━━━\u001b[0m\u001b[37m\u001b[0m \u001b[1m0s\u001b[0m 48ms/step\n",
            "\u001b[1m6519/6519\u001b[0m \u001b[32m━━━━━━━━━━━━━━━━━━━━\u001b[0m\u001b[37m\u001b[0m \u001b[1m24s\u001b[0m 4ms/step\n",
            "\u001b[1m1/1\u001b[0m \u001b[32m━━━━━━━━━━━━━━━━━━━━\u001b[0m\u001b[37m\u001b[0m \u001b[1m0s\u001b[0m 49ms/step\n",
            "\u001b[1m6519/6519\u001b[0m \u001b[32m━━━━━━━━━━━━━━━━━━━━\u001b[0m\u001b[37m\u001b[0m \u001b[1m24s\u001b[0m 4ms/step\n",
            "\u001b[1m1/1\u001b[0m \u001b[32m━━━━━━━━━━━━━━━━━━━━\u001b[0m\u001b[37m\u001b[0m \u001b[1m0s\u001b[0m 44ms/step\n",
            "\u001b[1m6519/6519\u001b[0m \u001b[32m━━━━━━━━━━━━━━━━━━━━\u001b[0m\u001b[37m\u001b[0m \u001b[1m25s\u001b[0m 4ms/step\n"
          ]
        }
      ],
      "source": [
        "#Feature Names\n",
        "feature_names = X_train.columns.tolist()\n",
        "\n",
        "#Sample Background & Test Data\n",
        "background_lstm = X_train_lstm[np.random.choice(X_train_lstm.shape[0], 100, replace=False)]\n",
        "X_explain_lstm = X_test_lstm[np.random.choice(X_test_lstm.shape[0], 50, replace=False)]\n",
        "\n",
        "#Flatten for KernelExplainer\n",
        "background_lstm_flat = background_lstm.reshape(background_lstm.shape[0], -1)\n",
        "X_explain_lstm_flat = X_explain_lstm.reshape(X_explain_lstm.shape[0], -1)\n",
        "\n",
        "#Define Wrapper Function\n",
        "def lstm_predict(x_flat):\n",
        "    x_reshaped = x_flat.reshape((-1, X_train_lstm.shape[1], 1))\n",
        "    return lstm_baseline.predict(x_reshaped).flatten()\n",
        "\n",
        "#Create SHAP Explainer\n",
        "explainer_lstm = shap.KernelExplainer(lstm_predict, background_lstm_flat)\n",
        "\n",
        "#Compute SHAP Values\n",
        "shap_values_lstm = explainer_lstm.shap_values(X_explain_lstm_flat)"
      ]
    },
    {
      "cell_type": "code",
      "execution_count": null,
      "metadata": {
        "colab": {
          "base_uri": "https://localhost:8080/",
          "height": 1000
        },
        "id": "9pnZHgc2AC7t",
        "outputId": "517c3809-9848-4c6e-de94-e9083bf0eb54"
      },
      "outputs": [
        {
          "data": {
            "image/png": "[encoded data removed]",
            "text/plain": [
              "<Figure size 800x950 with 2 Axes>"
            ]
          },
          "metadata": {},
          "output_type": "display_data"
        },
        {
          "data": {
            "image/png": "[encoded data removed]",
            "text/plain": [
              "<Figure size 640x480 with 1 Axes>"
            ]
          },
          "metadata": {},
          "output_type": "display_data"
        }
      ],
      "source": [
        "#SHAP Summary Plot\n",
        "plt.figure(figsize=(6, 6))\n",
        "shap.summary_plot(\n",
        "    shap_values_lstm,\n",
        "    X_explain_lstm_flat,\n",
        "    feature_names=feature_names,\n",
        "    plot_type=\"dot\"\n",
        ")\n",
        "plt.title(\"SHAP Summary Plot - LSTM (Baseline)\", fontsize=12)\n",
        "plt.tight_layout()"
      ]
    },
    {
      "cell_type": "markdown",
      "metadata": {
        "id": "kLAR-Eqy6O4K"
      },
      "source": [
        "LSTM + SMOTE"
      ]
    },
    {
      "cell_type": "code",
      "execution_count": null,
      "metadata": {
        "id": "eGS2vYpM4TT7"
      },
      "outputs": [],
      "source": [
        "X_train_smote_lstm = X_train_smote.values.reshape((X_train_smote.shape[0], X_train_smote.shape[1], 1))\n"
      ]
    },
    {
      "cell_type": "code",
      "execution_count": null,
      "metadata": {
        "colab": {
          "base_uri": "https://localhost:8080/"
        },
        "id": "lWN6U3fH4TXG",
        "outputId": "8ce8ac59-4c10-47c3-8ca4-6fb3003a7969"
      },
      "outputs": [
        {
          "name": "stderr",
          "output_type": "stream",
          "text": [
            "/usr/local/lib/python3.11/dist-packages/keras/src/layers/rnn/rnn.py:200: UserWarning: Do not pass an `input_shape`/`input_dim` argument to a layer. When using Sequential models, prefer using an `Input(shape)` object as the first layer in the model instead.\n",
            "  super().__init__(**kwargs)\n"
          ]
        }
      ],
      "source": [
        "# Defining Early Stopping\n",
        "early_stop = EarlyStopping(\n",
        "    monitor='val_loss',\n",
        "    patience=3,\n",
        "    restore_best_weights=True,\n",
        "    verbose=1\n",
        ")\n",
        "\n",
        "# Defining model\n",
        "lstm_smote = Sequential()\n",
        "\n",
        "# LSTM Block 1\n",
        "lstm_smote.add(LSTM(128, return_sequences=True, dropout=0.3, recurrent_dropout=0.1,\n",
        "                    input_shape=(X_train_smote_lstm.shape[1], 1)))\n",
        "lstm_smote.add(BatchNormalization())\n",
        "\n",
        "# LSTM Block 2\n",
        "lstm_smote.add(LSTM(128, return_sequences=True, dropout=0.3, recurrent_dropout=0.1))\n",
        "lstm_smote.add(BatchNormalization())\n",
        "\n",
        "# LSTM Block 3\n",
        "lstm_smote.add(LSTM(64, return_sequences=False, dropout=0.3, recurrent_dropout=0.1))\n",
        "lstm_smote.add(BatchNormalization())\n",
        "\n",
        "# Dense head\n",
        "lstm_smote.add(Dense(256, activation='relu'))\n",
        "lstm_smote.add(Dropout(0.4))\n",
        "lstm_smote.add(Dense(128, activation='relu'))\n",
        "lstm_smote.add(Dropout(0.3))\n",
        "lstm_smote.add(Dense(1, activation='sigmoid'))"
      ]
    },
    {
      "cell_type": "code",
      "execution_count": null,
      "metadata": {
        "colab": {
          "base_uri": "https://localhost:8080/"
        },
        "id": "HVY66d6E4TaA",
        "outputId": "e958c668-cba8-4889-92f9-c3e70f629c4e"
      },
      "outputs": [
        {
          "name": "stdout",
          "output_type": "stream",
          "text": [
            "Epoch 1/100\n",
            "\u001b[1m1088/1088\u001b[0m \u001b[32m━━━━━━━━━━━━━━━━━━━━\u001b[0m\u001b[37m\u001b[0m \u001b[1m17s\u001b[0m 13ms/step - accuracy: 0.6059 - loss: 0.6796 - precision: 0.4021 - recall: 0.0784 - val_accuracy: 0.0202 - val_loss: 0.9812 - val_precision: 1.0000 - val_recall: 0.0061\n",
            "Epoch 2/100\n",
            "\u001b[1m1088/1088\u001b[0m \u001b[32m━━━━━━━━━━━━━━━━━━━━\u001b[0m\u001b[37m\u001b[0m \u001b[1m17s\u001b[0m 16ms/step - accuracy: 0.6258 - loss: 0.6625 - precision: 0.4949 - recall: 0.0370 - val_accuracy: 0.1781 - val_loss: 0.8374 - val_precision: 0.9884 - val_recall: 0.1682\n",
            "Epoch 3/100\n",
            "\u001b[1m1088/1088\u001b[0m \u001b[32m━━━━━━━━━━━━━━━━━━━━\u001b[0m\u001b[37m\u001b[0m \u001b[1m14s\u001b[0m 13ms/step - accuracy: 0.6207 - loss: 0.6624 - precision: 0.4926 - recall: 0.0442 - val_accuracy: 0.1279 - val_loss: 0.8809 - val_precision: 0.9920 - val_recall: 0.1162\n",
            "Epoch 4/100\n",
            "\u001b[1m1088/1088\u001b[0m \u001b[32m━━━━━━━━━━━━━━━━━━━━\u001b[0m\u001b[37m\u001b[0m \u001b[1m15s\u001b[0m 14ms/step - accuracy: 0.6309 - loss: 0.6583 - precision: 0.5629 - recall: 0.0767 - val_accuracy: 0.1191 - val_loss: 0.8818 - val_precision: 0.9935 - val_recall: 0.1071\n",
            "Epoch 5/100\n",
            "\u001b[1m1088/1088\u001b[0m \u001b[32m━━━━━━━━━━━━━━━━━━━━\u001b[0m\u001b[37m\u001b[0m \u001b[1m15s\u001b[0m 14ms/step - accuracy: 0.6277 - loss: 0.6595 - precision: 0.5511 - recall: 0.0602 - val_accuracy: 0.1136 - val_loss: 0.9085 - val_precision: 0.9932 - val_recall: 0.1015\n",
            "Epoch 5: early stopping\n",
            "Restoring model weights from the end of the best epoch: 2.\n",
            "\u001b[1m469/469\u001b[0m \u001b[32m━━━━━━━━━━━━━━━━━━━━\u001b[0m\u001b[37m\u001b[0m \u001b[1m3s\u001b[0m 5ms/step\n",
            "Confusion Matrix (LSTM + SMOTE):\n",
            "[[8029 1295]\n",
            " [4589 1086]]\n"
          ]
        }
      ],
      "source": [
        "# Compiling model\n",
        "lstm_smote.compile(optimizer=Adam(learning_rate=0.0005), loss='binary_crossentropy',\n",
        "                   metrics=['accuracy', Precision(name='precision'), Recall(name='recall')])\n",
        "\n",
        "# Fitting model with early stopping\n",
        "lstm_smote.fit(\n",
        "    X_train_smote_lstm,\n",
        "    y_train_smote,\n",
        "    epochs=100,\n",
        "    batch_size=64,\n",
        "    validation_split=0.2,\n",
        "    callbacks=[early_stop],\n",
        "    verbose=1\n",
        ")\n",
        "\n",
        "# Predicting & evaluating\n",
        "y_pred_probs_lstm_smote = lstm_smote.predict(X_test_lstm).flatten()\n",
        "y_pred_lstm_smote = (y_pred_probs_lstm_smote > 0.5).astype(int)\n",
        "\n",
        "cm_lstm_smote = confusion_matrix(y_test, y_pred_lstm_smote)\n",
        "roc_lstm_smote = roc_curve(y_test, y_pred_probs_lstm_smote)\n",
        "auc_lstm_smote = roc_auc_score(y_test, y_pred_probs_lstm_smote)\n",
        "\n",
        "print(\"Confusion Matrix (LSTM + SMOTE):\")\n",
        "print(cm_lstm_smote)"
      ]
    },
    {
      "cell_type": "markdown",
      "metadata": {
        "id": "U_fpnr4VAr_9"
      },
      "source": [
        "SHAP ANALYSIS"
      ]
    },
    {
      "cell_type": "code",
      "execution_count": null,
      "metadata": {
        "colab": {
          "base_uri": "https://localhost:8080/",
          "height": 1000,
          "referenced_widgets": [
            "9cb4d97beaaa4111b85b650521007269",
            "0ce1eae0349746b9baf70716978201d9",
            "8a38129f62cf44e9b018bd7da168533c",
            "ff39f25bc7cc40ebac255bf2ee156bb1",
            "bfefba6d3938420d9a51dcb74b9a64ad",
            "d7d7778d3f944496bcfd74f684b27dec",
            "2ae75d7705b441d5afa424e9d3589567",
            "5ac51c39f96844a8a81cc29e05efbb56",
            "b0ff49d024694e0a8b7996d142b8dd95",
            "ec9f5faa5d134164b54a3ac558e7fbe0",
            "764b6fe6e59c4e089f93e73792482da6"
          ]
        },
        "id": "AZkxPMHeAqYT",
        "outputId": "d3305934-944d-4fef-a14a-d74315f6ef34"
      },
      "outputs": [
        {
          "name": "stdout",
          "output_type": "stream",
          "text": [
            "\u001b[1m4/4\u001b[0m \u001b[32m━━━━━━━━━━━━━━━━━━━━\u001b[0m\u001b[37m\u001b[0m \u001b[1m0s\u001b[0m 11ms/step\n"
          ]
        },
        {
          "data": {
            "application/vnd.jupyter.widget-view+json": {
              "model_id": "9cb4d97beaaa4111b85b650521007269",
              "version_major": 2,
              "version_minor": 0
            },
            "text/plain": [
              "  0%|          | 0/50 [00:00<?, ?it/s]"
            ]
          },
          "metadata": {},
          "output_type": "display_data"
        },
        {
          "name": "stdout",
          "output_type": "stream",
          "text": [
            "\u001b[1m1/1\u001b[0m \u001b[32m━━━━━━━━━━━━━━━━━━━━\u001b[0m\u001b[37m\u001b[0m \u001b[1m0s\u001b[0m 44ms/step\n",
            "\u001b[1m6519/6519\u001b[0m \u001b[32m━━━━━━━━━━━━━━━━━━━━\u001b[0m\u001b[37m\u001b[0m \u001b[1m25s\u001b[0m 4ms/step\n",
            "\u001b[1m1/1\u001b[0m \u001b[32m━━━━━━━━━━━━━━━━━━━━\u001b[0m\u001b[37m\u001b[0m \u001b[1m0s\u001b[0m 66ms/step\n",
            "\u001b[1m6519/6519\u001b[0m \u001b[32m━━━━━━━━━━━━━━━━━━━━\u001b[0m\u001b[37m\u001b[0m \u001b[1m24s\u001b[0m 4ms/step\n",
            "\u001b[1m1/1\u001b[0m \u001b[32m━━━━━━━━━━━━━━━━━━━━\u001b[0m\u001b[37m\u001b[0m \u001b[1m0s\u001b[0m 63ms/step\n",
            "\u001b[1m6519/6519\u001b[0m \u001b[32m━━━━━━━━━━━━━━━━━━━━\u001b[0m\u001b[37m\u001b[0m \u001b[1m25s\u001b[0m 4ms/step\n",
            "\u001b[1m1/1\u001b[0m \u001b[32m━━━━━━━━━━━━━━━━━━━━\u001b[0m\u001b[37m\u001b[0m \u001b[1m0s\u001b[0m 115ms/step\n",
            "\u001b[1m6519/6519\u001b[0m \u001b[32m━━━━━━━━━━━━━━━━━━━━\u001b[0m\u001b[37m\u001b[0m \u001b[1m35s\u001b[0m 5ms/step\n",
            "\u001b[1m1/1\u001b[0m \u001b[32m━━━━━━━━━━━━━━━━━━━━\u001b[0m\u001b[37m\u001b[0m \u001b[1m0s\u001b[0m 45ms/step\n",
            "\u001b[1m6519/6519\u001b[0m \u001b[32m━━━━━━━━━━━━━━━━━━━━\u001b[0m\u001b[37m\u001b[0m \u001b[1m26s\u001b[0m 4ms/step\n",
            "\u001b[1m1/1\u001b[0m \u001b[32m━━━━━━━━━━━━━━━━━━━━\u001b[0m\u001b[37m\u001b[0m \u001b[1m0s\u001b[0m 69ms/step\n",
            "\u001b[1m6519/6519\u001b[0m \u001b[32m━━━━━━━━━━━━━━━━━━━━\u001b[0m\u001b[37m\u001b[0m \u001b[1m26s\u001b[0m 4ms/step\n",
            "\u001b[1m1/1\u001b[0m \u001b[32m━━━━━━━━━━━━━━━━━━━━\u001b[0m\u001b[37m\u001b[0m \u001b[1m0s\u001b[0m 74ms/step\n",
            "\u001b[1m6519/6519\u001b[0m \u001b[32m━━━━━━━━━━━━━━━━━━━━\u001b[0m\u001b[37m\u001b[0m \u001b[1m27s\u001b[0m 4ms/step\n",
            "\u001b[1m1/1\u001b[0m \u001b[32m━━━━━━━━━━━━━━━━━━━━\u001b[0m\u001b[37m\u001b[0m \u001b[1m0s\u001b[0m 78ms/step\n",
            "\u001b[1m6519/6519\u001b[0m \u001b[32m━━━━━━━━━━━━━━━━━━━━\u001b[0m\u001b[37m\u001b[0m \u001b[1m26s\u001b[0m 4ms/step\n",
            "\u001b[1m1/1\u001b[0m \u001b[32m━━━━━━━━━━━━━━━━━━━━\u001b[0m\u001b[37m\u001b[0m \u001b[1m0s\u001b[0m 82ms/step\n",
            "\u001b[1m6519/6519\u001b[0m \u001b[32m━━━━━━━━━━━━━━━━━━━━\u001b[0m\u001b[37m\u001b[0m \u001b[1m26s\u001b[0m 4ms/step\n",
            "\u001b[1m1/1\u001b[0m \u001b[32m━━━━━━━━━━━━━━━━━━━━\u001b[0m\u001b[37m\u001b[0m \u001b[1m0s\u001b[0m 78ms/step\n",
            "\u001b[1m6519/6519\u001b[0m \u001b[32m━━━━━━━━━━━━━━━━━━━━\u001b[0m\u001b[37m\u001b[0m \u001b[1m25s\u001b[0m 4ms/step\n",
            "\u001b[1m1/1\u001b[0m \u001b[32m━━━━━━━━━━━━━━━━━━━━\u001b[0m\u001b[37m\u001b[0m \u001b[1m0s\u001b[0m 66ms/step\n",
            "\u001b[1m6519/6519\u001b[0m \u001b[32m━━━━━━━━━━━━━━━━━━━━\u001b[0m\u001b[37m\u001b[0m \u001b[1m23s\u001b[0m 4ms/step\n",
            "\u001b[1m1/1\u001b[0m \u001b[32m━━━━━━━━━━━━━━━━━━━━\u001b[0m\u001b[37m\u001b[0m \u001b[1m0s\u001b[0m 45ms/step\n",
            "\u001b[1m6519/6519\u001b[0m \u001b[32m━━━━━━━━━━━━━━━━━━━━\u001b[0m\u001b[37m\u001b[0m \u001b[1m23s\u001b[0m 4ms/step\n",
            "\u001b[1m1/1\u001b[0m \u001b[32m━━━━━━━━━━━━━━━━━━━━\u001b[0m\u001b[37m\u001b[0m \u001b[1m0s\u001b[0m 47ms/step\n",
            "\u001b[1m6519/6519\u001b[0m \u001b[32m━━━━━━━━━━━━━━━━━━━━\u001b[0m\u001b[37m\u001b[0m \u001b[1m23s\u001b[0m 4ms/step\n",
            "\u001b[1m1/1\u001b[0m \u001b[32m━━━━━━━━━━━━━━━━━━━━\u001b[0m\u001b[37m\u001b[0m \u001b[1m0s\u001b[0m 42ms/step\n",
            "\u001b[1m6519/6519\u001b[0m \u001b[32m━━━━━━━━━━━━━━━━━━━━\u001b[0m\u001b[37m\u001b[0m \u001b[1m23s\u001b[0m 4ms/step\n",
            "\u001b[1m1/1\u001b[0m \u001b[32m━━━━━━━━━━━━━━━━━━━━\u001b[0m\u001b[37m\u001b[0m \u001b[1m0s\u001b[0m 51ms/step\n",
            "\u001b[1m6519/6519\u001b[0m \u001b[32m━━━━━━━━━━━━━━━━━━━━\u001b[0m\u001b[37m\u001b[0m \u001b[1m24s\u001b[0m 4ms/step\n",
            "\u001b[1m1/1\u001b[0m \u001b[32m━━━━━━━━━━━━━━━━━━━━\u001b[0m\u001b[37m\u001b[0m \u001b[1m0s\u001b[0m 44ms/step\n",
            "\u001b[1m6519/6519\u001b[0m \u001b[32m━━━━━━━━━━━━━━━━━━━━\u001b[0m\u001b[37m\u001b[0m \u001b[1m24s\u001b[0m 4ms/step\n",
            "\u001b[1m1/1\u001b[0m \u001b[32m━━━━━━━━━━━━━━━━━━━━\u001b[0m\u001b[37m\u001b[0m \u001b[1m0s\u001b[0m 43ms/step\n",
            "\u001b[1m6519/6519\u001b[0m \u001b[32m━━━━━━━━━━━━━━━━━━━━\u001b[0m\u001b[37m\u001b[0m \u001b[1m24s\u001b[0m 4ms/step\n",
            "\u001b[1m1/1\u001b[0m \u001b[32m━━━━━━━━━━━━━━━━━━━━\u001b[0m\u001b[37m\u001b[0m \u001b[1m0s\u001b[0m 42ms/step\n",
            "\u001b[1m6519/6519\u001b[0m \u001b[32m━━━━━━━━━━━━━━━━━━━━\u001b[0m\u001b[37m\u001b[0m \u001b[1m23s\u001b[0m 4ms/step\n",
            "\u001b[1m1/1\u001b[0m \u001b[32m━━━━━━━━━━━━━━━━━━━━\u001b[0m\u001b[37m\u001b[0m \u001b[1m0s\u001b[0m 42ms/step\n",
            "\u001b[1m6519/6519\u001b[0m \u001b[32m━━━━━━━━━━━━━━━━━━━━\u001b[0m\u001b[37m\u001b[0m \u001b[1m24s\u001b[0m 4ms/step\n",
            "\u001b[1m1/1\u001b[0m \u001b[32m━━━━━━━━━━━━━━━━━━━━\u001b[0m\u001b[37m\u001b[0m \u001b[1m0s\u001b[0m 46ms/step\n",
            "\u001b[1m6519/6519\u001b[0m \u001b[32m━━━━━━━━━━━━━━━━━━━━\u001b[0m\u001b[37m\u001b[0m \u001b[1m24s\u001b[0m 4ms/step\n",
            "\u001b[1m1/1\u001b[0m \u001b[32m━━━━━━━━━━━━━━━━━━━━\u001b[0m\u001b[37m\u001b[0m \u001b[1m0s\u001b[0m 42ms/step\n",
            "\u001b[1m6519/6519\u001b[0m \u001b[32m━━━━━━━━━━━━━━━━━━━━\u001b[0m\u001b[37m\u001b[0m \u001b[1m24s\u001b[0m 4ms/step\n",
            "\u001b[1m1/1\u001b[0m \u001b[32m━━━━━━━━━━━━━━━━━━━━\u001b[0m\u001b[37m\u001b[0m \u001b[1m0s\u001b[0m 59ms/step\n",
            "\u001b[1m6519/6519\u001b[0m \u001b[32m━━━━━━━━━━━━━━━━━━━━\u001b[0m\u001b[37m\u001b[0m \u001b[1m24s\u001b[0m 4ms/step\n",
            "\u001b[1m1/1\u001b[0m \u001b[32m━━━━━━━━━━━━━━━━━━━━\u001b[0m\u001b[37m\u001b[0m \u001b[1m0s\u001b[0m 45ms/step\n",
            "\u001b[1m6519/6519\u001b[0m \u001b[32m━━━━━━━━━━━━━━━━━━━━\u001b[0m\u001b[37m\u001b[0m \u001b[1m25s\u001b[0m 4ms/step\n",
            "\u001b[1m1/1\u001b[0m \u001b[32m━━━━━━━━━━━━━━━━━━━━\u001b[0m\u001b[37m\u001b[0m \u001b[1m0s\u001b[0m 47ms/step\n",
            "\u001b[1m6519/6519\u001b[0m \u001b[32m━━━━━━━━━━━━━━━━━━━━\u001b[0m\u001b[37m\u001b[0m \u001b[1m29s\u001b[0m 4ms/step\n",
            "\u001b[1m1/1\u001b[0m \u001b[32m━━━━━━━━━━━━━━━━━━━━\u001b[0m\u001b[37m\u001b[0m \u001b[1m0s\u001b[0m 84ms/step\n",
            "\u001b[1m6519/6519\u001b[0m \u001b[32m━━━━━━━━━━━━━━━━━━━━\u001b[0m\u001b[37m\u001b[0m \u001b[1m31s\u001b[0m 5ms/step\n",
            "\u001b[1m1/1\u001b[0m \u001b[32m━━━━━━━━━━━━━━━━━━━━\u001b[0m\u001b[37m\u001b[0m \u001b[1m0s\u001b[0m 78ms/step\n",
            "\u001b[1m6519/6519\u001b[0m \u001b[32m━━━━━━━━━━━━━━━━━━━━\u001b[0m\u001b[37m\u001b[0m \u001b[1m36s\u001b[0m 5ms/step\n",
            "\u001b[1m1/1\u001b[0m \u001b[32m━━━━━━━━━━━━━━━━━━━━\u001b[0m\u001b[37m\u001b[0m \u001b[1m0s\u001b[0m 51ms/step\n",
            "\u001b[1m6519/6519\u001b[0m \u001b[32m━━━━━━━━━━━━━━━━━━━━\u001b[0m\u001b[37m\u001b[0m \u001b[1m34s\u001b[0m 5ms/step\n",
            "\u001b[1m1/1\u001b[0m \u001b[32m━━━━━━━━━━━━━━━━━━━━\u001b[0m\u001b[37m\u001b[0m \u001b[1m0s\u001b[0m 65ms/step\n",
            "\u001b[1m6519/6519\u001b[0m \u001b[32m━━━━━━━━━━━━━━━━━━━━\u001b[0m\u001b[37m\u001b[0m \u001b[1m30s\u001b[0m 5ms/step\n",
            "\u001b[1m1/1\u001b[0m \u001b[32m━━━━━━━━━━━━━━━━━━━━\u001b[0m\u001b[37m\u001b[0m \u001b[1m0s\u001b[0m 61ms/step\n",
            "\u001b[1m6519/6519\u001b[0m \u001b[32m━━━━━━━━━━━━━━━━━━━━\u001b[0m\u001b[37m\u001b[0m \u001b[1m29s\u001b[0m 5ms/step\n",
            "\u001b[1m1/1\u001b[0m \u001b[32m━━━━━━━━━━━━━━━━━━━━\u001b[0m\u001b[37m\u001b[0m \u001b[1m0s\u001b[0m 73ms/step\n",
            "\u001b[1m6519/6519\u001b[0m \u001b[32m━━━━━━━━━━━━━━━━━━━━\u001b[0m\u001b[37m\u001b[0m \u001b[1m31s\u001b[0m 5ms/step\n",
            "\u001b[1m1/1\u001b[0m \u001b[32m━━━━━━━━━━━━━━━━━━━━\u001b[0m\u001b[37m\u001b[0m \u001b[1m0s\u001b[0m 52ms/step\n",
            "\u001b[1m6519/6519\u001b[0m \u001b[32m━━━━━━━━━━━━━━━━━━━━\u001b[0m\u001b[37m\u001b[0m \u001b[1m29s\u001b[0m 4ms/step\n",
            "\u001b[1m1/1\u001b[0m \u001b[32m━━━━━━━━━━━━━━━━━━━━\u001b[0m\u001b[37m\u001b[0m \u001b[1m0s\u001b[0m 44ms/step\n",
            "\u001b[1m6519/6519\u001b[0m \u001b[32m━━━━━━━━━━━━━━━━━━━━\u001b[0m\u001b[37m\u001b[0m \u001b[1m29s\u001b[0m 4ms/step\n",
            "\u001b[1m1/1\u001b[0m \u001b[32m━━━━━━━━━━━━━━━━━━━━\u001b[0m\u001b[37m\u001b[0m \u001b[1m0s\u001b[0m 50ms/step\n",
            "\u001b[1m6519/6519\u001b[0m \u001b[32m━━━━━━━━━━━━━━━━━━━━\u001b[0m\u001b[37m\u001b[0m \u001b[1m30s\u001b[0m 5ms/step\n",
            "\u001b[1m1/1\u001b[0m \u001b[32m━━━━━━━━━━━━━━━━━━━━\u001b[0m\u001b[37m\u001b[0m \u001b[1m0s\u001b[0m 47ms/step\n",
            "\u001b[1m6519/6519\u001b[0m \u001b[32m━━━━━━━━━━━━━━━━━━━━\u001b[0m\u001b[37m\u001b[0m \u001b[1m30s\u001b[0m 5ms/step\n",
            "\u001b[1m1/1\u001b[0m \u001b[32m━━━━━━━━━━━━━━━━━━━━\u001b[0m\u001b[37m\u001b[0m \u001b[1m0s\u001b[0m 76ms/step\n",
            "\u001b[1m6519/6519\u001b[0m \u001b[32m━━━━━━━━━━━━━━━━━━━━\u001b[0m\u001b[37m\u001b[0m \u001b[1m30s\u001b[0m 5ms/step\n",
            "\u001b[1m1/1\u001b[0m \u001b[32m━━━━━━━━━━━━━━━━━━━━\u001b[0m\u001b[37m\u001b[0m \u001b[1m0s\u001b[0m 58ms/step\n",
            "\u001b[1m6519/6519\u001b[0m \u001b[32m━━━━━━━━━━━━━━━━━━━━\u001b[0m\u001b[37m\u001b[0m \u001b[1m29s\u001b[0m 4ms/step\n",
            "\u001b[1m1/1\u001b[0m \u001b[32m━━━━━━━━━━━━━━━━━━━━\u001b[0m\u001b[37m\u001b[0m \u001b[1m0s\u001b[0m 46ms/step\n",
            "\u001b[1m6519/6519\u001b[0m \u001b[32m━━━━━━━━━━━━━━━━━━━━\u001b[0m\u001b[37m\u001b[0m \u001b[1m27s\u001b[0m 4ms/step\n",
            "\u001b[1m1/1\u001b[0m \u001b[32m━━━━━━━━━━━━━━━━━━━━\u001b[0m\u001b[37m\u001b[0m \u001b[1m0s\u001b[0m 55ms/step\n",
            "\u001b[1m6519/6519\u001b[0m \u001b[32m━━━━━━━━━━━━━━━━━━━━\u001b[0m\u001b[37m\u001b[0m \u001b[1m28s\u001b[0m 4ms/step\n",
            "\u001b[1m1/1\u001b[0m \u001b[32m━━━━━━━━━━━━━━━━━━━━\u001b[0m\u001b[37m\u001b[0m \u001b[1m0s\u001b[0m 82ms/step\n",
            "\u001b[1m6519/6519\u001b[0m \u001b[32m━━━━━━━━━━━━━━━━━━━━\u001b[0m\u001b[37m\u001b[0m \u001b[1m28s\u001b[0m 4ms/step\n",
            "\u001b[1m1/1\u001b[0m \u001b[32m━━━━━━━━━━━━━━━━━━━━\u001b[0m\u001b[37m\u001b[0m \u001b[1m0s\u001b[0m 83ms/step\n",
            "\u001b[1m6519/6519\u001b[0m \u001b[32m━━━━━━━━━━━━━━━━━━━━\u001b[0m\u001b[37m\u001b[0m \u001b[1m28s\u001b[0m 4ms/step\n",
            "\u001b[1m1/1\u001b[0m \u001b[32m━━━━━━━━━━━━━━━━━━━━\u001b[0m\u001b[37m\u001b[0m \u001b[1m0s\u001b[0m 59ms/step\n",
            "\u001b[1m6519/6519\u001b[0m \u001b[32m━━━━━━━━━━━━━━━━━━━━\u001b[0m\u001b[37m\u001b[0m \u001b[1m27s\u001b[0m 4ms/step\n",
            "\u001b[1m1/1\u001b[0m \u001b[32m━━━━━━━━━━━━━━━━━━━━\u001b[0m\u001b[37m\u001b[0m \u001b[1m0s\u001b[0m 54ms/step\n",
            "\u001b[1m6519/6519\u001b[0m \u001b[32m━━━━━━━━━━━━━━━━━━━━\u001b[0m\u001b[37m\u001b[0m \u001b[1m26s\u001b[0m 4ms/step\n",
            "\u001b[1m1/1\u001b[0m \u001b[32m━━━━━━━━━━━━━━━━━━━━\u001b[0m\u001b[37m\u001b[0m \u001b[1m0s\u001b[0m 46ms/step\n",
            "\u001b[1m6519/6519\u001b[0m \u001b[32m━━━━━━━━━━━━━━━━━━━━\u001b[0m\u001b[37m\u001b[0m \u001b[1m28s\u001b[0m 4ms/step\n",
            "\u001b[1m1/1\u001b[0m \u001b[32m━━━━━━━━━━━━━━━━━━━━\u001b[0m\u001b[37m\u001b[0m \u001b[1m0s\u001b[0m 48ms/step\n",
            "\u001b[1m6519/6519\u001b[0m \u001b[32m━━━━━━━━━━━━━━━━━━━━\u001b[0m\u001b[37m\u001b[0m \u001b[1m28s\u001b[0m 4ms/step\n",
            "\u001b[1m1/1\u001b[0m \u001b[32m━━━━━━━━━━━━━━━━━━━━\u001b[0m\u001b[37m\u001b[0m \u001b[1m0s\u001b[0m 53ms/step\n",
            "\u001b[1m6519/6519\u001b[0m \u001b[32m━━━━━━━━━━━━━━━━━━━━\u001b[0m\u001b[37m\u001b[0m \u001b[1m27s\u001b[0m 4ms/step\n",
            "\u001b[1m1/1\u001b[0m \u001b[32m━━━━━━━━━━━━━━━━━━━━\u001b[0m\u001b[37m\u001b[0m \u001b[1m0s\u001b[0m 48ms/step\n",
            "\u001b[1m6519/6519\u001b[0m \u001b[32m━━━━━━━━━━━━━━━━━━━━\u001b[0m\u001b[37m\u001b[0m \u001b[1m28s\u001b[0m 4ms/step\n",
            "\u001b[1m1/1\u001b[0m \u001b[32m━━━━━━━━━━━━━━━━━━━━\u001b[0m\u001b[37m\u001b[0m \u001b[1m0s\u001b[0m 62ms/step\n",
            "\u001b[1m6519/6519\u001b[0m \u001b[32m━━━━━━━━━━━━━━━━━━━━\u001b[0m\u001b[37m\u001b[0m \u001b[1m27s\u001b[0m 4ms/step\n",
            "\u001b[1m1/1\u001b[0m \u001b[32m━━━━━━━━━━━━━━━━━━━━\u001b[0m\u001b[37m\u001b[0m \u001b[1m0s\u001b[0m 53ms/step\n",
            "\u001b[1m6519/6519\u001b[0m \u001b[32m━━━━━━━━━━━━━━━━━━━━\u001b[0m\u001b[37m\u001b[0m \u001b[1m27s\u001b[0m 4ms/step\n",
            "\u001b[1m1/1\u001b[0m \u001b[32m━━━━━━━━━━━━━━━━━━━━\u001b[0m\u001b[37m\u001b[0m \u001b[1m0s\u001b[0m 52ms/step\n",
            "\u001b[1m6519/6519\u001b[0m \u001b[32m━━━━━━━━━━━━━━━━━━━━\u001b[0m\u001b[37m\u001b[0m \u001b[1m27s\u001b[0m 4ms/step\n",
            "\u001b[1m1/1\u001b[0m \u001b[32m━━━━━━━━━━━━━━━━━━━━\u001b[0m\u001b[37m\u001b[0m \u001b[1m0s\u001b[0m 57ms/step\n",
            "\u001b[1m6519/6519\u001b[0m \u001b[32m━━━━━━━━━━━━━━━━━━━━\u001b[0m\u001b[37m\u001b[0m \u001b[1m27s\u001b[0m 4ms/step\n"
          ]
        }
      ],
      "source": [
        "#Feature Names\n",
        "feature_names = X_train.columns.tolist()\n",
        "\n",
        "#Sample background and test instances\n",
        "background_smote_lstm = X_train_smote_lstm[np.random.choice(X_train_smote_lstm.shape[0], 100, replace=False)]\n",
        "X_explain_smote_lstm = X_test_lstm[np.random.choice(X_test_lstm.shape[0], 50, replace=False)]\n",
        "\n",
        "#Flattening for SHAP KernelExplainer\n",
        "background_smote_flat = background_smote_lstm.reshape(background_smote_lstm.shape[0], -1)\n",
        "X_explain_smote_flat = X_explain_smote_lstm.reshape(X_explain_smote_lstm.shape[0], -1)\n",
        "\n",
        "#Wrapper function for SHAP\n",
        "def lstm_smote_predict(x_flat):\n",
        "    x_reshaped = x_flat.reshape((-1, X_train_smote_lstm.shape[1], 1))\n",
        "    return lstm_smote.predict(x_reshaped).flatten()\n",
        "\n",
        "#Create SHAP KernelExplainer\n",
        "explainer_lstm_smote = shap.KernelExplainer(lstm_smote_predict, background_smote_flat)\n",
        "\n",
        "#Compute SHAP values\n",
        "shap_values_lstm_smote = explainer_lstm_smote.shap_values(X_explain_smote_flat)\n"
      ]
    },
    {
      "cell_type": "code",
      "execution_count": null,
      "metadata": {
        "colab": {
          "base_uri": "https://localhost:8080/",
          "height": 1000
        },
        "id": "oDYGHzsiAqbX",
        "outputId": "899332be-cf79-4e2a-9bcc-b84f9c9ec6d7"
      },
      "outputs": [
        {
          "data": {
            "image/png": "[encoded data removed]",
            "text/plain": [
              "<Figure size 800x950 with 2 Axes>"
            ]
          },
          "metadata": {},
          "output_type": "display_data"
        },
        {
          "data": {
            "image/png": "[encoded data removed]",
            "text/plain": [
              "<Figure size 640x480 with 1 Axes>"
            ]
          },
          "metadata": {},
          "output_type": "display_data"
        }
      ],
      "source": [
        "#SHAP Summary Plot\n",
        "plt.figure(figsize=(6, 6))\n",
        "shap.summary_plot(\n",
        "    shap_values_lstm_smote,\n",
        "    X_explain_smote_flat,\n",
        "    feature_names=feature_names,\n",
        "    plot_type=\"dot\"\n",
        ")\n",
        "plt.title(\"SHAP Summary Plot - LSTM (SMOTE)\", fontsize=10)\n",
        "plt.tight_layout()"
      ]
    },
    {
      "cell_type": "markdown",
      "metadata": {
        "id": "3zBWuLV563X-"
      },
      "source": [
        "LSTM + ADASYN"
      ]
    },
    {
      "cell_type": "code",
      "execution_count": null,
      "metadata": {
        "id": "3ZRC-eVA4Tg3"
      },
      "outputs": [],
      "source": [
        "X_train_adas_lstm = X_train_adas.values.reshape((X_train_adas.shape[0], X_train_adas.shape[1], 1))\n"
      ]
    },
    {
      "cell_type": "code",
      "execution_count": null,
      "metadata": {
        "colab": {
          "base_uri": "https://localhost:8080/"
        },
        "id": "jFCX3j9C4Tj5",
        "outputId": "98558537-ad3c-420c-bfec-f022b3c3dcda"
      },
      "outputs": [
        {
          "name": "stderr",
          "output_type": "stream",
          "text": [
            "/usr/local/lib/python3.11/dist-packages/keras/src/layers/rnn/rnn.py:200: UserWarning: Do not pass an `input_shape`/`input_dim` argument to a layer. When using Sequential models, prefer using an `Input(shape)` object as the first layer in the model instead.\n",
            "  super().__init__(**kwargs)\n"
          ]
        }
      ],
      "source": [
        "# Defining Early Stopping\n",
        "early_stop = EarlyStopping(\n",
        "    monitor='val_loss',\n",
        "    patience=3,\n",
        "    restore_best_weights=True,\n",
        "    verbose=1\n",
        ")\n",
        "\n",
        "# Defining model\n",
        "\n",
        "lstm_adas = Sequential()\n",
        "\n",
        "# LSTM Block 1\n",
        "lstm_adas.add(LSTM(128, return_sequences=True, dropout=0.3, recurrent_dropout=0.1,\n",
        "                   input_shape=(X_train_adas_lstm.shape[1], 1)))\n",
        "lstm_adas.add(BatchNormalization())\n",
        "\n",
        "# LSTM Block 2\n",
        "lstm_adas.add(LSTM(128, return_sequences=True, dropout=0.3, recurrent_dropout=0.1))\n",
        "lstm_adas.add(BatchNormalization())\n",
        "\n",
        "# LSTM Block 3\n",
        "lstm_adas.add(LSTM(64, return_sequences=False, dropout=0.3, recurrent_dropout=0.1))\n",
        "lstm_adas.add(BatchNormalization())\n",
        "\n",
        "# Dense head\n",
        "lstm_adas.add(Dense(256, activation='relu'))\n",
        "lstm_adas.add(Dropout(0.4))\n",
        "lstm_adas.add(Dense(128, activation='relu'))\n",
        "lstm_adas.add(Dropout(0.3))\n",
        "lstm_adas.add(Dense(1, activation='sigmoid'))"
      ]
    },
    {
      "cell_type": "code",
      "execution_count": null,
      "metadata": {
        "colab": {
          "base_uri": "https://localhost:8080/"
        },
        "id": "azeJhMfc4Tnz",
        "outputId": "40df5fde-d579-48c5-d9cb-815ec16ab113"
      },
      "outputs": [
        {
          "name": "stdout",
          "output_type": "stream",
          "text": [
            "Epoch 1/30\n",
            "\u001b[1m1098/1098\u001b[0m \u001b[32m━━━━━━━━━━━━━━━━━━━━\u001b[0m\u001b[37m\u001b[0m \u001b[1m20s\u001b[0m 15ms/step - accuracy: 0.6032 - loss: 0.6845 - precision: 0.4203 - recall: 0.0966 - val_accuracy: 0.0372 - val_loss: 0.8491 - val_precision: 1.0000 - val_recall: 0.0372\n",
            "Epoch 2/30\n",
            "\u001b[1m1098/1098\u001b[0m \u001b[32m━━━━━━━━━━━━━━━━━━━━\u001b[0m\u001b[37m\u001b[0m \u001b[1m18s\u001b[0m 12ms/step - accuracy: 0.6196 - loss: 0.6648 - precision: 0.4465 - recall: 0.0324 - val_accuracy: 0.0110 - val_loss: 1.0333 - val_precision: 1.0000 - val_recall: 0.0110\n",
            "Epoch 3/30\n",
            "\u001b[1m1098/1098\u001b[0m \u001b[32m━━━━━━━━━━━━━━━━━━━━\u001b[0m\u001b[37m\u001b[0m \u001b[1m20s\u001b[0m 12ms/step - accuracy: 0.6227 - loss: 0.6624 - precision: 0.5376 - recall: 0.0407 - val_accuracy: 0.0032 - val_loss: 0.9198 - val_precision: 1.0000 - val_recall: 0.0032\n",
            "Epoch 4/30\n",
            "\u001b[1m1098/1098\u001b[0m \u001b[32m━━━━━━━━━━━━━━━━━━━━\u001b[0m\u001b[37m\u001b[0m \u001b[1m21s\u001b[0m 12ms/step - accuracy: 0.6209 - loss: 0.6634 - precision: 0.5459 - recall: 0.0529 - val_accuracy: 0.8338 - val_loss: 0.6174 - val_precision: 1.0000 - val_recall: 0.8338\n",
            "Epoch 5/30\n",
            "\u001b[1m1098/1098\u001b[0m \u001b[32m━━━━━━━━━━━━━━━━━━━━\u001b[0m\u001b[37m\u001b[0m \u001b[1m14s\u001b[0m 12ms/step - accuracy: 0.6225 - loss: 0.6635 - precision: 0.5770 - recall: 0.0729 - val_accuracy: 0.1215 - val_loss: 0.8258 - val_precision: 1.0000 - val_recall: 0.1215\n",
            "Epoch 6/30\n",
            "\u001b[1m1098/1098\u001b[0m \u001b[32m━━━━━━━━━━━━━━━━━━━━\u001b[0m\u001b[37m\u001b[0m \u001b[1m20s\u001b[0m 12ms/step - accuracy: 0.6246 - loss: 0.6603 - precision: 0.5248 - recall: 0.0563 - val_accuracy: 0.0010 - val_loss: 0.9475 - val_precision: 1.0000 - val_recall: 0.0010\n",
            "Epoch 7/30\n",
            "\u001b[1m1098/1098\u001b[0m \u001b[32m━━━━━━━━━━━━━━━━━━━━\u001b[0m\u001b[37m\u001b[0m \u001b[1m14s\u001b[0m 12ms/step - accuracy: 0.6264 - loss: 0.6594 - precision: 0.5617 - recall: 0.0628 - val_accuracy: 1.1383e-04 - val_loss: 1.0417 - val_precision: 1.0000 - val_recall: 1.1383e-04\n",
            "Epoch 7: early stopping\n",
            "Restoring model weights from the end of the best epoch: 4.\n",
            "\u001b[1m469/469\u001b[0m \u001b[32m━━━━━━━━━━━━━━━━━━━━\u001b[0m\u001b[37m\u001b[0m \u001b[1m3s\u001b[0m 5ms/step\n",
            "Confusion Matrix (LSTM + ADASYN):\n",
            "[[1622 7702]\n",
            " [ 937 4738]]\n"
          ]
        }
      ],
      "source": [
        "# Compiling model\n",
        "lstm_adas.compile(optimizer=Adam(learning_rate=0.0005), loss='binary_crossentropy',\n",
        "                  metrics=['accuracy', Precision(name='precision'), Recall(name='recall')])\n",
        "\n",
        "\n",
        "# Fitting model with early stopping\n",
        "lstm_adas.fit(\n",
        "    X_train_adas_lstm,\n",
        "    y_train_adas,\n",
        "    epochs=30,\n",
        "    batch_size=64,\n",
        "    validation_split=0.2,\n",
        "    callbacks=[early_stop],\n",
        "    verbose=1\n",
        ")\n",
        "\n",
        "# Predicting & evaluating\n",
        "y_pred_probs_lstm_adas = lstm_adas.predict(X_test_lstm).flatten()\n",
        "y_pred_lstm_adas = (y_pred_probs_lstm_adas > 0.5).astype(int)\n",
        "\n",
        "cm_lstm_adas = confusion_matrix(y_test, y_pred_lstm_adas)\n",
        "roc_lstm_adas = roc_curve(y_test, y_pred_probs_lstm_adas)\n",
        "auc_lstm_adas = roc_auc_score(y_test, y_pred_probs_lstm_adas)\n",
        "\n",
        "print(\"Confusion Matrix (LSTM + ADASYN):\")\n",
        "print(cm_lstm_adas)"
      ]
    },
    {
      "cell_type": "markdown",
      "metadata": {
        "id": "y3aZzs5FBrFc"
      },
      "source": [
        "SHAP ANALYSIS"
      ]
    },
    {
      "cell_type": "code",
      "execution_count": null,
      "metadata": {
        "colab": {
          "base_uri": "https://localhost:8080/",
          "height": 1000,
          "referenced_widgets": [
            "0025b320b3df4486b1bb32f33b0d61c5",
            "2e075a99dcfc4b73a7cb6c170545f50c",
            "8942ff0b37704b43b1f165bce405518a",
            "43160a1b4c92452881f4e2a42bfa5fa8",
            "f7b0ede17d28480ea6bdb81f21230125",
            "47d16b18561942339557b0e772c7b05c",
            "8c6c5d7096f94490a089d888d61c0dab",
            "2207fd0e37e84edb8f0668f091b1fd85",
            "80a291421998467aade029f75f6f0a79",
            "b0d35fd86aab45009ebb53465fea6fb5",
            "a75074c5fcb24226a8999ab8e6fcbf83"
          ]
        },
        "id": "ofUCghVw4TrL",
        "outputId": "baf0110d-ad5a-4c51-9a5a-702054c0af84"
      },
      "outputs": [
        {
          "name": "stdout",
          "output_type": "stream",
          "text": [
            "\u001b[1m4/4\u001b[0m \u001b[32m━━━━━━━━━━━━━━━━━━━━\u001b[0m\u001b[37m\u001b[0m \u001b[1m0s\u001b[0m 14ms/step\n"
          ]
        },
        {
          "data": {
            "application/vnd.jupyter.widget-view+json": {
              "model_id": "0025b320b3df4486b1bb32f33b0d61c5",
              "version_major": 2,
              "version_minor": 0
            },
            "text/plain": [
              "  0%|          | 0/50 [00:00<?, ?it/s]"
            ]
          },
          "metadata": {},
          "output_type": "display_data"
        },
        {
          "name": "stdout",
          "output_type": "stream",
          "text": [
            "\u001b[1m1/1\u001b[0m \u001b[32m━━━━━━━━━━━━━━━━━━━━\u001b[0m\u001b[37m\u001b[0m \u001b[1m0s\u001b[0m 59ms/step\n",
            "\u001b[1m6519/6519\u001b[0m \u001b[32m━━━━━━━━━━━━━━━━━━━━\u001b[0m\u001b[37m\u001b[0m \u001b[1m30s\u001b[0m 5ms/step\n",
            "\u001b[1m1/1\u001b[0m \u001b[32m━━━━━━━━━━━━━━━━━━━━\u001b[0m\u001b[37m\u001b[0m \u001b[1m0s\u001b[0m 56ms/step\n",
            "\u001b[1m6519/6519\u001b[0m \u001b[32m━━━━━━━━━━━━━━━━━━━━\u001b[0m\u001b[37m\u001b[0m \u001b[1m29s\u001b[0m 4ms/step\n",
            "\u001b[1m1/1\u001b[0m \u001b[32m━━━━━━━━━━━━━━━━━━━━\u001b[0m\u001b[37m\u001b[0m \u001b[1m0s\u001b[0m 60ms/step\n",
            "\u001b[1m6519/6519\u001b[0m \u001b[32m━━━━━━━━━━━━━━━━━━━━\u001b[0m\u001b[37m\u001b[0m \u001b[1m29s\u001b[0m 4ms/step\n",
            "\u001b[1m1/1\u001b[0m \u001b[32m━━━━━━━━━━━━━━━━━━━━\u001b[0m\u001b[37m\u001b[0m \u001b[1m0s\u001b[0m 51ms/step\n",
            "\u001b[1m6519/6519\u001b[0m \u001b[32m━━━━━━━━━━━━━━━━━━━━\u001b[0m\u001b[37m\u001b[0m \u001b[1m28s\u001b[0m 4ms/step\n",
            "\u001b[1m1/1\u001b[0m \u001b[32m━━━━━━━━━━━━━━━━━━━━\u001b[0m\u001b[37m\u001b[0m \u001b[1m0s\u001b[0m 53ms/step\n",
            "\u001b[1m6519/6519\u001b[0m \u001b[32m━━━━━━━━━━━━━━━━━━━━\u001b[0m\u001b[37m\u001b[0m \u001b[1m28s\u001b[0m 4ms/step\n",
            "\u001b[1m1/1\u001b[0m \u001b[32m━━━━━━━━━━━━━━━━━━━━\u001b[0m\u001b[37m\u001b[0m \u001b[1m0s\u001b[0m 47ms/step\n",
            "\u001b[1m6519/6519\u001b[0m \u001b[32m━━━━━━━━━━━━━━━━━━━━\u001b[0m\u001b[37m\u001b[0m \u001b[1m28s\u001b[0m 4ms/step\n",
            "\u001b[1m1/1\u001b[0m \u001b[32m━━━━━━━━━━━━━━━━━━━━\u001b[0m\u001b[37m\u001b[0m \u001b[1m0s\u001b[0m 58ms/step\n",
            "\u001b[1m6519/6519\u001b[0m \u001b[32m━━━━━━━━━━━━━━━━━━━━\u001b[0m\u001b[37m\u001b[0m \u001b[1m29s\u001b[0m 4ms/step\n",
            "\u001b[1m1/1\u001b[0m \u001b[32m━━━━━━━━━━━━━━━━━━━━\u001b[0m\u001b[37m\u001b[0m \u001b[1m0s\u001b[0m 74ms/step\n",
            "\u001b[1m6519/6519\u001b[0m \u001b[32m━━━━━━━━━━━━━━━━━━━━\u001b[0m\u001b[37m\u001b[0m \u001b[1m29s\u001b[0m 4ms/step\n",
            "\u001b[1m1/1\u001b[0m \u001b[32m━━━━━━━━━━━━━━━━━━━━\u001b[0m\u001b[37m\u001b[0m \u001b[1m0s\u001b[0m 77ms/step\n",
            "\u001b[1m6519/6519\u001b[0m \u001b[32m━━━━━━━━━━━━━━━━━━━━\u001b[0m\u001b[37m\u001b[0m \u001b[1m28s\u001b[0m 4ms/step\n",
            "\u001b[1m1/1\u001b[0m \u001b[32m━━━━━━━━━━━━━━━━━━━━\u001b[0m\u001b[37m\u001b[0m \u001b[1m0s\u001b[0m 82ms/step\n",
            "\u001b[1m6519/6519\u001b[0m \u001b[32m━━━━━━━━━━━━━━━━━━━━\u001b[0m\u001b[37m\u001b[0m \u001b[1m28s\u001b[0m 4ms/step\n",
            "\u001b[1m1/1\u001b[0m \u001b[32m━━━━━━━━━━━━━━━━━━━━\u001b[0m\u001b[37m\u001b[0m \u001b[1m0s\u001b[0m 53ms/step\n",
            "\u001b[1m6519/6519\u001b[0m \u001b[32m━━━━━━━━━━━━━━━━━━━━\u001b[0m\u001b[37m\u001b[0m \u001b[1m28s\u001b[0m 4ms/step\n",
            "\u001b[1m1/1\u001b[0m \u001b[32m━━━━━━━━━━━━━━━━━━━━\u001b[0m\u001b[37m\u001b[0m \u001b[1m0s\u001b[0m 49ms/step\n",
            "\u001b[1m6519/6519\u001b[0m \u001b[32m━━━━━━━━━━━━━━━━━━━━\u001b[0m\u001b[37m\u001b[0m \u001b[1m28s\u001b[0m 4ms/step\n",
            "\u001b[1m1/1\u001b[0m \u001b[32m━━━━━━━━━━━━━━━━━━━━\u001b[0m\u001b[37m\u001b[0m \u001b[1m0s\u001b[0m 48ms/step\n",
            "\u001b[1m6519/6519\u001b[0m \u001b[32m━━━━━━━━━━━━━━━━━━━━\u001b[0m\u001b[37m\u001b[0m \u001b[1m27s\u001b[0m 4ms/step\n",
            "\u001b[1m1/1\u001b[0m \u001b[32m━━━━━━━━━━━━━━━━━━━━\u001b[0m\u001b[37m\u001b[0m \u001b[1m0s\u001b[0m 58ms/step\n",
            "\u001b[1m6519/6519\u001b[0m \u001b[32m━━━━━━━━━━━━━━━━━━━━\u001b[0m\u001b[37m\u001b[0m \u001b[1m29s\u001b[0m 4ms/step\n",
            "\u001b[1m1/1\u001b[0m \u001b[32m━━━━━━━━━━━━━━━━━━━━\u001b[0m\u001b[37m\u001b[0m \u001b[1m0s\u001b[0m 62ms/step\n",
            "\u001b[1m6519/6519\u001b[0m \u001b[32m━━━━━━━━━━━━━━━━━━━━\u001b[0m\u001b[37m\u001b[0m \u001b[1m29s\u001b[0m 4ms/step\n",
            "\u001b[1m1/1\u001b[0m \u001b[32m━━━━━━━━━━━━━━━━━━━━\u001b[0m\u001b[37m\u001b[0m \u001b[1m0s\u001b[0m 54ms/step\n",
            "\u001b[1m6519/6519\u001b[0m \u001b[32m━━━━━━━━━━━━━━━━━━━━\u001b[0m\u001b[37m\u001b[0m \u001b[1m29s\u001b[0m 4ms/step\n",
            "\u001b[1m1/1\u001b[0m \u001b[32m━━━━━━━━━━━━━━━━━━━━\u001b[0m\u001b[37m\u001b[0m \u001b[1m0s\u001b[0m 50ms/step\n",
            "\u001b[1m6519/6519\u001b[0m \u001b[32m━━━━━━━━━━━━━━━━━━━━\u001b[0m\u001b[37m\u001b[0m \u001b[1m30s\u001b[0m 5ms/step\n",
            "\u001b[1m1/1\u001b[0m \u001b[32m━━━━━━━━━━━━━━━━━━━━\u001b[0m\u001b[37m\u001b[0m \u001b[1m0s\u001b[0m 59ms/step\n",
            "\u001b[1m6519/6519\u001b[0m \u001b[32m━━━━━━━━━━━━━━━━━━━━\u001b[0m\u001b[37m\u001b[0m \u001b[1m29s\u001b[0m 4ms/step\n",
            "\u001b[1m1/1\u001b[0m \u001b[32m━━━━━━━━━━━━━━━━━━━━\u001b[0m\u001b[37m\u001b[0m \u001b[1m0s\u001b[0m 88ms/step\n",
            "\u001b[1m6519/6519\u001b[0m \u001b[32m━━━━━━━━━━━━━━━━━━━━\u001b[0m\u001b[37m\u001b[0m \u001b[1m28s\u001b[0m 4ms/step\n",
            "\u001b[1m1/1\u001b[0m \u001b[32m━━━━━━━━━━━━━━━━━━━━\u001b[0m\u001b[37m\u001b[0m \u001b[1m0s\u001b[0m 69ms/step\n",
            "\u001b[1m6519/6519\u001b[0m \u001b[32m━━━━━━━━━━━━━━━━━━━━\u001b[0m\u001b[37m\u001b[0m \u001b[1m30s\u001b[0m 5ms/step\n",
            "\u001b[1m1/1\u001b[0m \u001b[32m━━━━━━━━━━━━━━━━━━━━\u001b[0m\u001b[37m\u001b[0m \u001b[1m0s\u001b[0m 58ms/step\n",
            "\u001b[1m6519/6519\u001b[0m \u001b[32m━━━━━━━━━━━━━━━━━━━━\u001b[0m\u001b[37m\u001b[0m \u001b[1m31s\u001b[0m 5ms/step\n",
            "\u001b[1m1/1\u001b[0m \u001b[32m━━━━━━━━━━━━━━━━━━━━\u001b[0m\u001b[37m\u001b[0m \u001b[1m0s\u001b[0m 66ms/step\n",
            "\u001b[1m6519/6519\u001b[0m \u001b[32m━━━━━━━━━━━━━━━━━━━━\u001b[0m\u001b[37m\u001b[0m \u001b[1m32s\u001b[0m 5ms/step\n",
            "\u001b[1m1/1\u001b[0m \u001b[32m━━━━━━━━━━━━━━━━━━━━\u001b[0m\u001b[37m\u001b[0m \u001b[1m0s\u001b[0m 50ms/step\n",
            "\u001b[1m6519/6519\u001b[0m \u001b[32m━━━━━━━━━━━━━━━━━━━━\u001b[0m\u001b[37m\u001b[0m \u001b[1m31s\u001b[0m 5ms/step\n",
            "\u001b[1m1/1\u001b[0m \u001b[32m━━━━━━━━━━━━━━━━━━━━\u001b[0m\u001b[37m\u001b[0m \u001b[1m0s\u001b[0m 115ms/step\n",
            "\u001b[1m6519/6519\u001b[0m \u001b[32m━━━━━━━━━━━━━━━━━━━━\u001b[0m\u001b[37m\u001b[0m \u001b[1m30s\u001b[0m 5ms/step\n",
            "\u001b[1m1/1\u001b[0m \u001b[32m━━━━━━━━━━━━━━━━━━━━\u001b[0m\u001b[37m\u001b[0m \u001b[1m0s\u001b[0m 50ms/step\n",
            "\u001b[1m6519/6519\u001b[0m \u001b[32m━━━━━━━━━━━━━━━━━━━━\u001b[0m\u001b[37m\u001b[0m \u001b[1m28s\u001b[0m 4ms/step\n",
            "\u001b[1m1/1\u001b[0m \u001b[32m━━━━━━━━━━━━━━━━━━━━\u001b[0m\u001b[37m\u001b[0m \u001b[1m0s\u001b[0m 47ms/step\n",
            "\u001b[1m6519/6519\u001b[0m \u001b[32m━━━━━━━━━━━━━━━━━━━━\u001b[0m\u001b[37m\u001b[0m \u001b[1m29s\u001b[0m 4ms/step\n",
            "\u001b[1m1/1\u001b[0m \u001b[32m━━━━━━━━━━━━━━━━━━━━\u001b[0m\u001b[37m\u001b[0m \u001b[1m0s\u001b[0m 48ms/step\n",
            "\u001b[1m6519/6519\u001b[0m \u001b[32m━━━━━━━━━━━━━━━━━━━━\u001b[0m\u001b[37m\u001b[0m \u001b[1m28s\u001b[0m 4ms/step\n",
            "\u001b[1m1/1\u001b[0m \u001b[32m━━━━━━━━━━━━━━━━━━━━\u001b[0m\u001b[37m\u001b[0m \u001b[1m0s\u001b[0m 54ms/step\n",
            "\u001b[1m6519/6519\u001b[0m \u001b[32m━━━━━━━━━━━━━━━━━━━━\u001b[0m\u001b[37m\u001b[0m \u001b[1m27s\u001b[0m 4ms/step\n",
            "\u001b[1m1/1\u001b[0m \u001b[32m━━━━━━━━━━━━━━━━━━━━\u001b[0m\u001b[37m\u001b[0m \u001b[1m0s\u001b[0m 52ms/step\n",
            "\u001b[1m6519/6519\u001b[0m \u001b[32m━━━━━━━━━━━━━━━━━━━━\u001b[0m\u001b[37m\u001b[0m \u001b[1m27s\u001b[0m 4ms/step\n",
            "\u001b[1m1/1\u001b[0m \u001b[32m━━━━━━━━━━━━━━━━━━━━\u001b[0m\u001b[37m\u001b[0m \u001b[1m0s\u001b[0m 48ms/step\n",
            "\u001b[1m6519/6519\u001b[0m \u001b[32m━━━━━━━━━━━━━━━━━━━━\u001b[0m\u001b[37m\u001b[0m \u001b[1m27s\u001b[0m 4ms/step\n",
            "\u001b[1m1/1\u001b[0m \u001b[32m━━━━━━━━━━━━━━━━━━━━\u001b[0m\u001b[37m\u001b[0m \u001b[1m0s\u001b[0m 45ms/step\n",
            "\u001b[1m6519/6519\u001b[0m \u001b[32m━━━━━━━━━━━━━━━━━━━━\u001b[0m\u001b[37m\u001b[0m \u001b[1m28s\u001b[0m 4ms/step\n",
            "\u001b[1m1/1\u001b[0m \u001b[32m━━━━━━━━━━━━━━━━━━━━\u001b[0m\u001b[37m\u001b[0m \u001b[1m0s\u001b[0m 55ms/step\n",
            "\u001b[1m6519/6519\u001b[0m \u001b[32m━━━━━━━━━━━━━━━━━━━━\u001b[0m\u001b[37m\u001b[0m \u001b[1m27s\u001b[0m 4ms/step\n",
            "\u001b[1m1/1\u001b[0m \u001b[32m━━━━━━━━━━━━━━━━━━━━\u001b[0m\u001b[37m\u001b[0m \u001b[1m0s\u001b[0m 66ms/step\n",
            "\u001b[1m6519/6519\u001b[0m \u001b[32m━━━━━━━━━━━━━━━━━━━━\u001b[0m\u001b[37m\u001b[0m \u001b[1m27s\u001b[0m 4ms/step\n",
            "\u001b[1m1/1\u001b[0m \u001b[32m━━━━━━━━━━━━━━━━━━━━\u001b[0m\u001b[37m\u001b[0m \u001b[1m0s\u001b[0m 119ms/step\n",
            "\u001b[1m6519/6519\u001b[0m \u001b[32m━━━━━━━━━━━━━━━━━━━━\u001b[0m\u001b[37m\u001b[0m \u001b[1m26s\u001b[0m 4ms/step\n",
            "\u001b[1m1/1\u001b[0m \u001b[32m━━━━━━━━━━━━━━━━━━━━\u001b[0m\u001b[37m\u001b[0m \u001b[1m0s\u001b[0m 77ms/step\n",
            "\u001b[1m6519/6519\u001b[0m \u001b[32m━━━━━━━━━━━━━━━━━━━━\u001b[0m\u001b[37m\u001b[0m \u001b[1m28s\u001b[0m 4ms/step\n",
            "\u001b[1m1/1\u001b[0m \u001b[32m━━━━━━━━━━━━━━━━━━━━\u001b[0m\u001b[37m\u001b[0m \u001b[1m0s\u001b[0m 51ms/step\n",
            "\u001b[1m6519/6519\u001b[0m \u001b[32m━━━━━━━━━━━━━━━━━━━━\u001b[0m\u001b[37m\u001b[0m \u001b[1m28s\u001b[0m 4ms/step\n",
            "\u001b[1m1/1\u001b[0m \u001b[32m━━━━━━━━━━━━━━━━━━━━\u001b[0m\u001b[37m\u001b[0m \u001b[1m0s\u001b[0m 50ms/step\n",
            "\u001b[1m6519/6519\u001b[0m \u001b[32m━━━━━━━━━━━━━━━━━━━━\u001b[0m\u001b[37m\u001b[0m \u001b[1m27s\u001b[0m 4ms/step\n",
            "\u001b[1m1/1\u001b[0m \u001b[32m━━━━━━━━━━━━━━━━━━━━\u001b[0m\u001b[37m\u001b[0m \u001b[1m0s\u001b[0m 59ms/step\n",
            "\u001b[1m6519/6519\u001b[0m \u001b[32m━━━━━━━━━━━━━━━━━━━━\u001b[0m\u001b[37m\u001b[0m \u001b[1m27s\u001b[0m 4ms/step\n",
            "\u001b[1m1/1\u001b[0m \u001b[32m━━━━━━━━━━━━━━━━━━━━\u001b[0m\u001b[37m\u001b[0m \u001b[1m0s\u001b[0m 54ms/step\n",
            "\u001b[1m6519/6519\u001b[0m \u001b[32m━━━━━━━━━━━━━━━━━━━━\u001b[0m\u001b[37m\u001b[0m \u001b[1m26s\u001b[0m 4ms/step\n",
            "\u001b[1m1/1\u001b[0m \u001b[32m━━━━━━━━━━━━━━━━━━━━\u001b[0m\u001b[37m\u001b[0m \u001b[1m0s\u001b[0m 68ms/step\n",
            "\u001b[1m6519/6519\u001b[0m \u001b[32m━━━━━━━━━━━━━━━━━━━━\u001b[0m\u001b[37m\u001b[0m \u001b[1m26s\u001b[0m 4ms/step\n",
            "\u001b[1m1/1\u001b[0m \u001b[32m━━━━━━━━━━━━━━━━━━━━\u001b[0m\u001b[37m\u001b[0m \u001b[1m0s\u001b[0m 43ms/step\n",
            "\u001b[1m6519/6519\u001b[0m \u001b[32m━━━━━━━━━━━━━━━━━━━━\u001b[0m\u001b[37m\u001b[0m \u001b[1m25s\u001b[0m 4ms/step\n",
            "\u001b[1m1/1\u001b[0m \u001b[32m━━━━━━━━━━━━━━━━━━━━\u001b[0m\u001b[37m\u001b[0m \u001b[1m0s\u001b[0m 42ms/step\n",
            "\u001b[1m6519/6519\u001b[0m \u001b[32m━━━━━━━━━━━━━━━━━━━━\u001b[0m\u001b[37m\u001b[0m \u001b[1m25s\u001b[0m 4ms/step\n",
            "\u001b[1m1/1\u001b[0m \u001b[32m━━━━━━━━━━━━━━━━━━━━\u001b[0m\u001b[37m\u001b[0m \u001b[1m0s\u001b[0m 47ms/step\n",
            "\u001b[1m6519/6519\u001b[0m \u001b[32m━━━━━━━━━━━━━━━━━━━━\u001b[0m\u001b[37m\u001b[0m \u001b[1m25s\u001b[0m 4ms/step\n",
            "\u001b[1m1/1\u001b[0m \u001b[32m━━━━━━━━━━━━━━━━━━━━\u001b[0m\u001b[37m\u001b[0m \u001b[1m0s\u001b[0m 47ms/step\n",
            "\u001b[1m6519/6519\u001b[0m \u001b[32m━━━━━━━━━━━━━━━━━━━━\u001b[0m\u001b[37m\u001b[0m \u001b[1m25s\u001b[0m 4ms/step\n",
            "\u001b[1m1/1\u001b[0m \u001b[32m━━━━━━━━━━━━━━━━━━━━\u001b[0m\u001b[37m\u001b[0m \u001b[1m0s\u001b[0m 43ms/step\n",
            "\u001b[1m6519/6519\u001b[0m \u001b[32m━━━━━━━━━━━━━━━━━━━━\u001b[0m\u001b[37m\u001b[0m \u001b[1m26s\u001b[0m 4ms/step\n",
            "\u001b[1m1/1\u001b[0m \u001b[32m━━━━━━━━━━━━━━━━━━━━\u001b[0m\u001b[37m\u001b[0m \u001b[1m0s\u001b[0m 47ms/step\n",
            "\u001b[1m6519/6519\u001b[0m \u001b[32m━━━━━━━━━━━━━━━━━━━━\u001b[0m\u001b[37m\u001b[0m \u001b[1m25s\u001b[0m 4ms/step\n",
            "\u001b[1m1/1\u001b[0m \u001b[32m━━━━━━━━━━━━━━━━━━━━\u001b[0m\u001b[37m\u001b[0m \u001b[1m0s\u001b[0m 41ms/step\n",
            "\u001b[1m6519/6519\u001b[0m \u001b[32m━━━━━━━━━━━━━━━━━━━━\u001b[0m\u001b[37m\u001b[0m \u001b[1m25s\u001b[0m 4ms/step\n",
            "\u001b[1m1/1\u001b[0m \u001b[32m━━━━━━━━━━━━━━━━━━━━\u001b[0m\u001b[37m\u001b[0m \u001b[1m0s\u001b[0m 50ms/step\n",
            "\u001b[1m6519/6519\u001b[0m \u001b[32m━━━━━━━━━━━━━━━━━━━━\u001b[0m\u001b[37m\u001b[0m \u001b[1m26s\u001b[0m 4ms/step\n",
            "\u001b[1m1/1\u001b[0m \u001b[32m━━━━━━━━━━━━━━━━━━━━\u001b[0m\u001b[37m\u001b[0m \u001b[1m0s\u001b[0m 47ms/step\n",
            "\u001b[1m6519/6519\u001b[0m \u001b[32m━━━━━━━━━━━━━━━━━━━━\u001b[0m\u001b[37m\u001b[0m \u001b[1m27s\u001b[0m 4ms/step\n",
            "\u001b[1m1/1\u001b[0m \u001b[32m━━━━━━━━━━━━━━━━━━━━\u001b[0m\u001b[37m\u001b[0m \u001b[1m0s\u001b[0m 68ms/step\n",
            "\u001b[1m6519/6519\u001b[0m \u001b[32m━━━━━━━━━━━━━━━━━━━━\u001b[0m\u001b[37m\u001b[0m \u001b[1m25s\u001b[0m 4ms/step\n"
          ]
        }
      ],
      "source": [
        "#Extracting original feature names\n",
        "feature_names = X_train.columns.tolist()\n",
        "\n",
        "#Sample background and explanation sets\n",
        "background_adas_lstm = X_train_adas_lstm[np.random.choice(X_train_adas_lstm.shape[0], 100, replace=False)]\n",
        "X_explain_adas_lstm = X_test_lstm[np.random.choice(X_test_lstm.shape[0], 50, replace=False)]\n",
        "\n",
        "#Flatten for KernelExplainer\n",
        "background_adas_flat = background_adas_lstm.reshape(background_adas_lstm.shape[0], -1)\n",
        "X_explain_adas_flat = X_explain_adas_lstm.reshape(X_explain_adas_lstm.shape[0], -1)\n",
        "\n",
        "#Defining model wrapper for SHAP ---\n",
        "def lstm_adas_predict(x_flat):\n",
        "    x_reshaped = x_flat.reshape((-1, X_train_adas_lstm.shape[1], 1))\n",
        "    return lstm_adas.predict(x_reshaped).flatten()\n",
        "\n",
        "#Creating SHAP KernelExplainer\n",
        "explainer_lstm_adas = shap.KernelExplainer(lstm_adas_predict, background_adas_flat)\n",
        "\n",
        "#Compute SHAP values\n",
        "shap_values_lstm_adas = explainer_lstm_adas.shap_values(X_explain_adas_flat)\n"
      ]
    },
    {
      "cell_type": "code",
      "execution_count": null,
      "metadata": {
        "colab": {
          "base_uri": "https://localhost:8080/",
          "height": 1000
        },
        "id": "ZoWRke6dBqA3",
        "outputId": "396adc21-5a7c-4d3d-a35d-ac892875de98"
      },
      "outputs": [
        {
          "data": {
            "image/png": "[encoded data removed]",
            "text/plain": [
              "<Figure size 800x950 with 2 Axes>"
            ]
          },
          "metadata": {},
          "output_type": "display_data"
        },
        {
          "data": {
            "image/png": "[encoded data removed]",
            "text/plain": [
              "<Figure size 640x480 with 1 Axes>"
            ]
          },
          "metadata": {},
          "output_type": "display_data"
        }
      ],
      "source": [
        "#SHAP Summary Plot\n",
        "plt.figure(figsize=(6, 6))\n",
        "shap.summary_plot(\n",
        "    shap_values_lstm_adas,\n",
        "    X_explain_adas_flat,\n",
        "    feature_names=feature_names,\n",
        "    plot_type=\"dot\"\n",
        ")\n",
        "plt.title(\"SHAP Summary Plot - LSTM (ADASYN)\", fontsize=10)\n",
        "plt.tight_layout()"
      ]
    },
    {
      "cell_type": "code",
      "execution_count": null,
      "metadata": {
        "id": "SSINl1dWBqFQ"
      },
      "outputs": [],
      "source": []
    },
    {
      "cell_type": "markdown",
      "metadata": {
        "id": "oyu889aa7JtL"
      },
      "source": [
        "Cost-sensitive LSTM"
      ]
    },
    {
      "cell_type": "code",
      "execution_count": null,
      "metadata": {
        "colab": {
          "base_uri": "https://localhost:8080/"
        },
        "id": "fxZpZrPi4Tuz",
        "outputId": "04981616-2f6c-4fc5-e433-3253563442d4"
      },
      "outputs": [
        {
          "name": "stderr",
          "output_type": "stream",
          "text": [
            "/usr/local/lib/python3.11/dist-packages/keras/src/layers/rnn/rnn.py:199: UserWarning: Do not pass an `input_shape`/`input_dim` argument to a layer. When using Sequential models, prefer using an `Input(shape)` object as the first layer in the model instead.\n",
            "  super().__init__(**kwargs)\n"
          ]
        }
      ],
      "source": [
        "# Defining Early Stopping\n",
        "early_stop = EarlyStopping(\n",
        "    monitor='val_loss',\n",
        "    patience=3,\n",
        "    restore_best_weights=True,\n",
        "    verbose=1\n",
        ")\n",
        "\n",
        "# Defining model\n",
        "\n",
        "lstm_cost = Sequential()\n",
        "\n",
        "# LSTM Block 1\n",
        "lstm_cost.add(LSTM(128, return_sequences=True, dropout=0.3, recurrent_dropout=0.1,\n",
        "                   input_shape=(X_train_lstm.shape[1], 1)))\n",
        "lstm_cost.add(BatchNormalization())\n",
        "\n",
        "# LSTM Block 2\n",
        "lstm_cost.add(LSTM(128, return_sequences=True, dropout=0.3, recurrent_dropout=0.1))\n",
        "lstm_cost.add(BatchNormalization())\n",
        "\n",
        "# LSTM Block 3\n",
        "lstm_cost.add(LSTM(64, return_sequences=False, dropout=0.3, recurrent_dropout=0.1))\n",
        "lstm_cost.add(BatchNormalization())\n",
        "\n",
        "# Dense head\n",
        "lstm_cost.add(Dense(256, activation='relu'))\n",
        "lstm_cost.add(Dropout(0.4))\n",
        "lstm_cost.add(Dense(128, activation='relu'))\n",
        "lstm_cost.add(Dropout(0.3))\n",
        "lstm_cost.add(Dense(1, activation='sigmoid'))"
      ]
    },
    {
      "cell_type": "code",
      "execution_count": null,
      "metadata": {
        "colab": {
          "background_save": true,
          "base_uri": "https://localhost:8080/"
        },
        "id": "hog_F3tQ4Txn",
        "outputId": "9e459ba1-4dce-4506-f65d-f48cc0900652"
      },
      "outputs": [
        {
          "name": "stdout",
          "output_type": "stream",
          "text": [
            "Epoch 1/100\n",
            "\u001b[1m875/875\u001b[0m \u001b[32m━━━━━━━━━━━━━━━━━━━━\u001b[0m\u001b[37m\u001b[0m \u001b[1m16s\u001b[0m 14ms/step - accuracy: 0.5125 - loss: 0.7068 - precision: 0.3868 - recall: 0.4892 - val_accuracy: 0.5829 - val_loss: 0.6890 - val_precision: 0.4130 - val_recall: 0.2607\n",
            "Epoch 2/100\n",
            "\u001b[1m875/875\u001b[0m \u001b[32m━━━━━━━━━━━━━━━━━━━━\u001b[0m\u001b[37m\u001b[0m \u001b[1m21s\u001b[0m 15ms/step - accuracy: 0.5397 - loss: 0.6937 - precision: 0.4023 - recall: 0.4406 - val_accuracy: 0.5982 - val_loss: 0.6882 - val_precision: 0.4343 - val_recall: 0.2288\n",
            "Epoch 3/100\n",
            "\u001b[1m875/875\u001b[0m \u001b[32m━━━━━━━━━━━━━━━━━━━━\u001b[0m\u001b[37m\u001b[0m \u001b[1m11s\u001b[0m 13ms/step - accuracy: 0.5398 - loss: 0.6924 - precision: 0.4081 - recall: 0.4444 - val_accuracy: 0.3777 - val_loss: 0.7114 - val_precision: 0.3758 - val_recall: 0.9928\n",
            "Epoch 4/100\n",
            "\u001b[1m875/875\u001b[0m \u001b[32m━━━━━━━━━━━━━━━━━━━━\u001b[0m\u001b[37m\u001b[0m \u001b[1m11s\u001b[0m 12ms/step - accuracy: 0.5846 - loss: 0.6891 - precision: 0.4258 - recall: 0.3014 - val_accuracy: 0.4078 - val_loss: 0.7064 - val_precision: 0.3780 - val_recall: 0.8917\n",
            "Epoch 5/100\n",
            "\u001b[1m875/875\u001b[0m \u001b[32m━━━━━━━━━━━━━━━━━━━━\u001b[0m\u001b[37m\u001b[0m \u001b[1m21s\u001b[0m 13ms/step - accuracy: 0.5809 - loss: 0.6879 - precision: 0.4194 - recall: 0.2975 - val_accuracy: 0.5456 - val_loss: 0.6935 - val_precision: 0.3981 - val_recall: 0.4082\n",
            "Epoch 5: early stopping\n",
            "Restoring model weights from the end of the best epoch: 2.\n",
            "\u001b[1m469/469\u001b[0m \u001b[32m━━━━━━━━━━━━━━━━━━━━\u001b[0m\u001b[37m\u001b[0m \u001b[1m2s\u001b[0m 4ms/step\n",
            "Confusion Matrix (LSTM Cost-sensitive):\n",
            "[[7624 1700]\n",
            " [4341 1334]]\n"
          ]
        }
      ],
      "source": [
        "# Compiling model\n",
        "lstm_cost.compile(optimizer=Adam(learning_rate=0.0005), loss='binary_crossentropy',\n",
        "                  metrics=['accuracy', Precision(name='precision'), Recall(name='recall')])\n",
        "\n",
        "# Fitting model with early stopping and class weights\n",
        "lstm_cost.fit(\n",
        "    X_train_lstm,\n",
        "    y_train,\n",
        "    epochs=100,\n",
        "    batch_size=64,\n",
        "    class_weight=class_weights_dict,\n",
        "    validation_split=0.2,\n",
        "    callbacks=[early_stop],\n",
        "    verbose=1\n",
        ")\n",
        "\n",
        "# Predicting & evaluation\n",
        "y_pred_probs_lstm_cost = lstm_cost.predict(X_test_lstm).flatten()\n",
        "y_pred_lstm_cost = (y_pred_probs_lstm_cost > 0.5).astype(int)\n",
        "\n",
        "cm_lstm_cost = confusion_matrix(y_test, y_pred_lstm_cost)\n",
        "roc_lstm_cost = roc_curve(y_test, y_pred_probs_lstm_cost)\n",
        "auc_lstm_cost = roc_auc_score(y_test, y_pred_probs_lstm_cost)\n",
        "\n",
        "print(\"Confusion Matrix (LSTM Cost-sensitive):\")\n",
        "print(cm_lstm_cost)"
      ]
    },
    {
      "cell_type": "code",
      "execution_count": null,
      "metadata": {
        "id": "VmuYhOuPPJcZ"
      },
      "outputs": [],
      "source": [
        "# Saving the trained LSTM model to an HDF5 file\n",
        "lstm_cost.save(\"lstm_cost_model.h5\")\n"
      ]
    },
    {
      "cell_type": "markdown",
      "source": [
        "REALTIME INFERENCE"
      ],
      "metadata": {
        "id": "Lz8nvPhcl59C"
      }
    },
    {
      "cell_type": "code",
      "source": [
        "import numpy as np\n",
        "import pandas as pd\n",
        "from tensorflow.keras.models import load_model\n",
        "import matplotlib.pyplot as plt\n",
        "\n",
        "#Loading saved LSTM model\n",
        "lstm_model = load_model(\"/content/drive/My Drive/Thesis Project/lstm_cost_model.h5\")\n",
        "\n",
        "X_test_np = X_test.values.astype(\"float32\")\n",
        "y_test_np = y_test.values.astype(\"int32\")\n",
        "\n",
        "if X_test_np.ndim == 2:\n",
        "    X_test_np = X_test_np.reshape((X_test_np.shape[0], X_test_np.shape[1], 1))\n",
        "\n",
        "fraud_idx = np.where(y_test_np == 1)[0]\n",
        "assert fraud_idx.size > 0, \"No fraud rows in test set.\"\n",
        "fraud_pool_X = X_test_np[fraud_idx]\n",
        "\n",
        "#Simulation settings\n",
        "domain_name  = \"healthcare\"\n",
        "lambda_fraud = 4.0667\n",
        "runs         = 10000\n",
        "threshold    = 0.50\n",
        "rng = np.random.default_rng(42)\n",
        "\n",
        "#Monte Carlo\n",
        "arrivals_F   = rng.poisson(lam=lambda_fraud, size=runs)\n",
        "tp_vec       = np.zeros(runs, dtype=int)\n",
        "det_rate_pct = np.full(runs, np.nan, dtype=float)\n",
        "\n",
        "for r in range(runs):\n",
        "    F = arrivals_F[r]\n",
        "    if F == 0:\n",
        "        continue\n",
        "    s_idx = rng.choice(fraud_pool_X.shape[0], size=F, replace=True)\n",
        "    X_r   = fraud_pool_X[s_idx]\n",
        "\n",
        "    # Predicting probabilities; assumes model outputs sigmoid probabilities\n",
        "    p_r  = lstm_model.predict(X_r, verbose=0).reshape(-1)\n",
        "    yhat = (p_r >= threshold).astype(int)\n",
        "\n",
        "    TP = int(yhat.sum())\n",
        "    tp_vec[r]       = TP\n",
        "    det_rate_pct[r] = 100.0 * TP / F\n",
        "\n",
        "#Results frame\n",
        "mc_df = pd.DataFrame({\n",
        "    \"run\": np.arange(1, runs+1),\n",
        "    \"fraud_arrivals\": arrivals_F,\n",
        "    \"tp\": tp_vec,\n",
        "    \"detection_pct\": det_rate_pct\n",
        "})\n",
        "plot_df = mc_df.dropna(subset=[\"detection_pct\"])\n",
        "\n",
        "\n"
      ],
      "metadata": {
        "colab": {
          "base_uri": "https://localhost:8080/"
        },
        "id": "IhXKlfcEiyXT",
        "outputId": "4d26a9d5-ceb2-47c6-e3df-509d43856ab7"
      },
      "execution_count": null,
      "outputs": [
        {
          "output_type": "stream",
          "name": "stderr",
          "text": [
            "WARNING:absl:Compiled the loaded model, but the compiled metrics have yet to be built. `model.compile_metrics` will be empty until you train or evaluate the model.\n"
          ]
        }
      ]
    },
    {
      "cell_type": "code",
      "source": [
        "#Summary table\n",
        "summary_table = pd.DataFrame([{\n",
        "    \"model\": \"LSTM (Cost-Sensitive)\",\n",
        "    \"threshold\": threshold,\n",
        "    \"mean_detection_pct\": plot_df[\"detection_pct\"].mean(),\n",
        "    \"median_detection_pct\": plot_df[\"detection_pct\"].median(),\n",
        "    \"p05_detection_pct\": np.percentile(plot_df[\"detection_pct\"], 5),\n",
        "    \"p95_detection_pct\": np.percentile(plot_df[\"detection_pct\"], 95),\n",
        "    \"mean_tp_per_sec\": lambda_fraud * plot_df[\"detection_pct\"].mean() / 100.0,\n",
        "    \"p05_tp_per_sec\":  lambda_fraud * np.percentile(plot_df[\"detection_pct\"], 5)  / 100.0,\n",
        "    \"p95_tp_per_sec\":  lambda_fraud * np.percentile(plot_df[\"detection_pct\"], 95) / 100.0\n",
        "}])\n",
        "\n",
        "print(summary_table.to_string(index=False))"
      ],
      "metadata": {
        "colab": {
          "base_uri": "https://localhost:8080/"
        },
        "id": "9YJ-9RvAiyai",
        "outputId": "ae3d2c19-3116-4431-f1d4-b6db22e46073"
      },
      "execution_count": null,
      "outputs": [
        {
          "output_type": "stream",
          "name": "stdout",
          "text": [
            "                model  threshold  mean_detection_pct  median_detection_pct  p05_detection_pct  p95_detection_pct  mean_tp_per_sec  p05_tp_per_sec  p95_tp_per_sec\n",
            "LSTM (Cost-Sensitive)        0.5           23.862286                  20.0                0.0          66.666667         0.970408             0.0        2.711133\n"
          ]
        }
      ]
    },
    {
      "cell_type": "code",
      "source": [
        "# Histogram\n",
        "plt.figure(figsize=(8,5))\n",
        "plt.hist(plot_df[\"detection_pct\"].values, bins=40)\n",
        "plt.title(f\"Detection rate per second — Monte Carlo ({domain_name})\")\n",
        "plt.xlabel(\"Detection Rate per second (%)\")\n",
        "plt.ylabel(\"Count of runs\")\n",
        "plt.tight_layout()\n",
        "plt.show()"
      ],
      "metadata": {
        "colab": {
          "base_uri": "https://localhost:8080/",
          "height": 507
        },
        "id": "dAEMK3qtiydU",
        "outputId": "24cc6186-07a4-4662-a75c-c85d35db6e69"
      },
      "execution_count": null,
      "outputs": [
        {
          "output_type": "display_data",
          "data": {
            "text/plain": [
              "<Figure size 800x500 with 1 Axes>"
            ],
            "image/png": "[encoded data removed]"
          },
          "metadata": {}
        }
      ]
    },
    {
      "cell_type": "code",
      "source": [
        "# ECDF\n",
        "x = np.sort(plot_df[\"detection_pct\"].values)\n",
        "y = np.arange(1, x.size+1) / x.size\n",
        "plt.figure(figsize=(8,5))\n",
        "plt.plot(x, y)\n",
        "plt.title(f\"ECDF of per-second detection — Monte Carlo ({domain_name})\")\n",
        "plt.xlabel(\"Detection Rate per second (%)\")\n",
        "plt.ylabel(\"ECDF\")\n",
        "plt.ylim(0, 1)\n",
        "plt.tight_layout()\n",
        "plt.show()"
      ],
      "metadata": {
        "colab": {
          "base_uri": "https://localhost:8080/",
          "height": 507
        },
        "id": "XVO3sHY7iygH",
        "outputId": "8d0e5d9d-8c5c-42ef-ce81-975ca37c47a2"
      },
      "execution_count": null,
      "outputs": [
        {
          "output_type": "display_data",
          "data": {
            "text/plain": [
              "<Figure size 800x500 with 1 Axes>"
            ],
            "image/png": "[encoded data removed]"
          },
          "metadata": {}
        }
      ]
    },
    {
      "cell_type": "code",
      "source": [
        "import numpy as np\n",
        "import pandas as pd\n",
        "from tensorflow.keras.models import load_model\n",
        "from sklearn.metrics import roc_auc_score\n",
        "\n",
        "\n",
        "# 1) Loading model + test data\n",
        "lstm_model = load_model(\"/content/drive/My Drive/Thesis Project/lstm_cost_model.h5\")\n",
        "\n",
        "X_test_np = X_test.values.astype(\"float32\") if hasattr(X_test, \"values\") else np.asarray(X_test, dtype=\"float32\")\n",
        "y_test_np = y_test.values.astype(\"int32\")   if hasattr(y_test, \"values\") else np.asarray(y_test, dtype=\"int32\")\n",
        "\n",
        "# labels\n",
        "assert set(np.unique(y_test_np)).issubset({0, 1}), \"y_test must be binary {0,1}\"\n",
        "assert X_test_np.shape[0] == y_test_np.shape[0]\n",
        "\n",
        "# If LSTM expects\n",
        "def _ensure_rnn_shape(model, X):\n",
        "    \"\"\"\n",
        "    If model.input_shape is (None, T, C) and X is (n, T), expand to (n, T, 1).\n",
        "    If already 3D, leave as-is.\n",
        "    \"\"\"\n",
        "    in_shape = model.input_shape\n",
        "    if X.ndim == 2 and len(in_shape) == 3:\n",
        "        return np.expand_dims(X, axis=-1)\n",
        "    return X\n",
        "\n",
        "X_test_np = _ensure_rnn_shape(lstm_model, X_test_np)\n",
        "\n",
        "#Simulation settings\n",
        "lambda_per_sec = 4.0667\n",
        "runs           = 10000\n",
        "thr_lstm       = 0.50\n",
        "rng            = np.random.default_rng(123)"
      ],
      "metadata": {
        "id": "LgvbWz08iyl5",
        "colab": {
          "base_uri": "https://localhost:8080/"
        },
        "outputId": "7ff8f43d-3381-4f99-f72f-f16b61bc4e13"
      },
      "execution_count": null,
      "outputs": [
        {
          "output_type": "stream",
          "name": "stderr",
          "text": [
            "WARNING:absl:Compiled the loaded model, but the compiled metrics have yet to be built. `model.compile_metrics` will be empty until you train or evaluate the model.\n"
          ]
        }
      ]
    },
    {
      "cell_type": "code",
      "source": [
        "# Probability helper\n",
        "\n",
        "def predict_prob_keras(model, X_batch, batch_size=4096):\n",
        "    \"\"\"Return p(y=1) for a Keras model (handles (n,1) or (n,) outputs).\"\"\"\n",
        "    p = model.predict(X_batch, batch_size=batch_size, verbose=0)\n",
        "    return np.asarray(p).reshape(-1)"
      ],
      "metadata": {
        "id": "3puRSbO_iyoo"
      },
      "execution_count": null,
      "outputs": []
    },
    {
      "cell_type": "code",
      "source": [
        "#Monte Carlo simulator\n",
        "def simulate_realtime_fullpool_keras(model, threshold, lambda_rate_per_sec, runs,\n",
        "                                     X_pool, y_pool, window_secs=1):\n",
        "    \"\"\"\n",
        "    Each run is a window of length `window_secs`.\n",
        "    arrivals ~ Poisson(lambda_rate_per_sec * window_secs)\n",
        "    \"\"\"\n",
        "    N = X_pool.shape[0]\n",
        "    arrivals = rng.poisson(lam=lambda_rate_per_sec * window_secs, size=runs)\n",
        "\n",
        "    TP = np.zeros(runs, dtype=np.int32)\n",
        "    FP = np.zeros(runs, dtype=np.int32)\n",
        "    TN = np.zeros(runs, dtype=np.int32)\n",
        "    FN = np.zeros(runs, dtype=np.int32)\n",
        "\n",
        "    precision = np.full(runs, np.nan)\n",
        "    recall    = np.full(runs, np.nan)\n",
        "    accuracy  = np.full(runs, np.nan)\n",
        "    f1        = np.full(runs, np.nan)\n",
        "    auc_vec   = np.full(runs, np.nan)\n",
        "\n",
        "    for r in range(runs):\n",
        "        F = arrivals[r]\n",
        "        if F == 0:\n",
        "            continue\n",
        "\n",
        "        idx  = rng.integers(0, N, size=F, dtype=np.int64)\n",
        "        X_r  = X_pool[idx]\n",
        "        y_r  = y_pool[idx]\n",
        "        p_r  = predict_prob_keras(model, X_r)\n",
        "        yhat = (p_r >= threshold).astype(np.int32)\n",
        "\n",
        "        tp = np.sum((yhat == 1) & (y_r == 1))\n",
        "        fp = np.sum((yhat == 1) & (y_r == 0))\n",
        "        tn = np.sum((yhat == 0) & (y_r == 0))\n",
        "        fn = np.sum((yhat == 0) & (y_r == 1))\n",
        "\n",
        "        TP[r], FP[r], TN[r], FN[r] = tp, fp, tn, fn\n",
        "\n",
        "        if (tp + fp) > 0:\n",
        "            precision[r] = tp / (tp + fp)\n",
        "        if (tp + fn) > 0:\n",
        "            recall[r] = tp / (tp + fn)\n",
        "\n",
        "        accuracy[r] = (tp + tn) / F\n",
        "        if not np.isnan(precision[r]) and not np.isnan(recall[r]) and (precision[r] + recall[r]) > 0:\n",
        "            f1[r] = 2 * precision[r] * recall[r] / (precision[r] + recall[r])\n",
        "\n",
        "        # AUC only if both classes present in the window\n",
        "        if (y_r.min() == 0) and (y_r.max() == 1):\n",
        "            try:\n",
        "                auc_vec[r] = roc_auc_score(y_r, p_r)\n",
        "            except Exception:\n",
        "                pass\n",
        "\n",
        "    mc_df = pd.DataFrame({\n",
        "        \"run\": np.arange(1, runs+1, dtype=np.int32),\n",
        "        \"window_secs\": window_secs,\n",
        "        \"arrivals\": arrivals,\n",
        "        \"TP\": TP, \"FP\": FP, \"TN\": TN, \"FN\": FN,\n",
        "        \"precision\": precision, \"recall\": recall, \"accuracy\": accuracy, \"f1\": f1,\n",
        "        \"auc\": auc_vec\n",
        "    })\n",
        "\n",
        "    summary = {\n",
        "        \"runs\": runs,\n",
        "        \"window_secs\": window_secs,\n",
        "        \"runs_with_tx\": int(np.sum(arrivals > 0)),\n",
        "        \"mean_TP\": float(np.nanmean(TP)),\n",
        "        \"mean_FP\": float(np.nanmean(FP)),\n",
        "        \"mean_TN\": float(np.nanmean(TN)),\n",
        "        \"mean_FN\": float(np.nanmean(FN)),\n",
        "        \"mean_precision\": float(np.nanmean(precision)),\n",
        "        \"mean_recall\": float(np.nanmean(recall)),\n",
        "        \"mean_accuracy\": float(np.nanmean(accuracy)),\n",
        "        \"mean_f1\": float(np.nanmean(f1)),\n",
        "        \"mean_auc\": float(np.nanmean(auc_vec)),\n",
        "        \"median_auc\": float(np.nanmedian(auc_vec)),\n",
        "        \"n_auc_runs\": int(np.sum(~np.isnan(auc_vec))),\n",
        "    }\n",
        "    summary_df = pd.DataFrame([summary])\n",
        "    return {\"mc_df\": mc_df, \"summary\": summary_df}"
      ],
      "metadata": {
        "id": "0NI6F9zCiyrS"
      },
      "execution_count": null,
      "outputs": []
    },
    {
      "cell_type": "code",
      "source": [
        "#Run LSTM at 1s and 10s windows\n",
        "res_lstm_1s  = simulate_realtime_fullpool_keras(\n",
        "    model=lstm_model, threshold=thr_lstm, lambda_rate_per_sec=lambda_per_sec,\n",
        "    runs=runs, X_pool=X_test_np, y_pool=y_test_np, window_secs=1\n",
        ")\n",
        "res_lstm_10s = simulate_realtime_fullpool_keras(\n",
        "    model=lstm_model, threshold=thr_lstm, lambda_rate_per_sec=lambda_per_sec,\n",
        "    runs=runs, X_pool=X_test_np, y_pool=y_test_np, window_secs=10\n",
        ")"
      ],
      "metadata": {
        "id": "Ujp_WMkziyuO"
      },
      "execution_count": null,
      "outputs": []
    },
    {
      "cell_type": "code",
      "source": [
        "#Compare summaries\n",
        "summary_table = pd.concat([\n",
        "    res_lstm_1s[\"summary\"].assign(model=\"LSTM (Healthcare)\", time_unit=\"1 sec\",  threshold=thr_lstm),\n",
        "    res_lstm_10s[\"summary\"].assign(model=\"LSTM (Healthcare)\", time_unit=\"10 sec\", threshold=thr_lstm),\n",
        "], ignore_index=True)[[\n",
        "    \"model\",\"time_unit\",\n",
        "    \"mean_accuracy\",\"mean_precision\",\"mean_recall\",\"mean_f1\",\n",
        "    \"mean_auc\"\n",
        "]]\n",
        "\n",
        "print(summary_table.to_string(index=False))"
      ],
      "metadata": {
        "id": "uHs2tdS8iyxG",
        "colab": {
          "base_uri": "https://localhost:8080/"
        },
        "outputId": "6fbd7d2c-8d15-4ac5-c409-9978f64e12ea"
      },
      "execution_count": null,
      "outputs": [
        {
          "output_type": "stream",
          "name": "stdout",
          "text": [
            "            model time_unit  mean_accuracy  mean_precision  mean_recall  mean_f1  mean_auc\n",
            "LSTM (Healthcare)     1 sec       0.598555        0.441893     0.235225 0.645246  0.527959\n",
            "LSTM (Healthcare)    10 sec       0.596946        0.438478     0.234598 0.304509  0.529425\n"
          ]
        }
      ]
    },
    {
      "cell_type": "markdown",
      "metadata": {
        "id": "Sy25llxYCKm7"
      },
      "source": [
        "SHAP ANALYSIS"
      ]
    },
    {
      "cell_type": "code",
      "execution_count": null,
      "metadata": {
        "colab": {
          "base_uri": "https://localhost:8080/",
          "height": 1000,
          "referenced_widgets": [
            "e0aa7ca3b8524b5fa13fe546c778acd6",
            "364ca2e7168c4ed2b8413eb76fd682f0",
            "7d991fa8b979481fa665f6dec3b82d26",
            "f2c8c0f4fdfe414ea31fbba7cbb8182e",
            "af98fa69a1024f7a96b7552cad5abe3e",
            "2100f5e35808427283d4c209698095f0",
            "a49502bf2803442da206b2288fb3b659",
            "62d4f6868733403ab6662a30e83a1850",
            "9e91132940c24835a92ec909922d184e",
            "46b842d1a539482dabf4863010a04218",
            "cf4414510f2544ec9aa4a7a18f23db48"
          ]
        },
        "id": "VEwkvBns4T0v",
        "outputId": "63fa9321-77a3-4a1a-9ee6-513510e0a66f"
      },
      "outputs": [
        {
          "name": "stdout",
          "output_type": "stream",
          "text": [
            "\u001b[1m4/4\u001b[0m \u001b[32m━━━━━━━━━━━━━━━━━━━━\u001b[0m\u001b[37m\u001b[0m \u001b[1m0s\u001b[0m 11ms/step\n"
          ]
        },
        {
          "data": {
            "application/vnd.jupyter.widget-view+json": {
              "model_id": "e0aa7ca3b8524b5fa13fe546c778acd6",
              "version_major": 2,
              "version_minor": 0
            },
            "text/plain": [
              "  0%|          | 0/50 [00:00<?, ?it/s]"
            ]
          },
          "metadata": {},
          "output_type": "display_data"
        },
        {
          "name": "stdout",
          "output_type": "stream",
          "text": [
            "\u001b[1m1/1\u001b[0m \u001b[32m━━━━━━━━━━━━━━━━━━━━\u001b[0m\u001b[37m\u001b[0m \u001b[1m0s\u001b[0m 46ms/step\n",
            "\u001b[1m6525/6525\u001b[0m \u001b[32m━━━━━━━━━━━━━━━━━━━━\u001b[0m\u001b[37m\u001b[0m \u001b[1m24s\u001b[0m 4ms/step\n",
            "\u001b[1m1/1\u001b[0m \u001b[32m━━━━━━━━━━━━━━━━━━━━\u001b[0m\u001b[37m\u001b[0m \u001b[1m0s\u001b[0m 51ms/step\n",
            "\u001b[1m6525/6525\u001b[0m \u001b[32m━━━━━━━━━━━━━━━━━━━━\u001b[0m\u001b[37m\u001b[0m \u001b[1m24s\u001b[0m 4ms/step\n",
            "\u001b[1m1/1\u001b[0m \u001b[32m━━━━━━━━━━━━━━━━━━━━\u001b[0m\u001b[37m\u001b[0m \u001b[1m0s\u001b[0m 48ms/step\n",
            "\u001b[1m6525/6525\u001b[0m \u001b[32m━━━━━━━━━━━━━━━━━━━━\u001b[0m\u001b[37m\u001b[0m \u001b[1m24s\u001b[0m 4ms/step\n",
            "\u001b[1m1/1\u001b[0m \u001b[32m━━━━━━━━━━━━━━━━━━━━\u001b[0m\u001b[37m\u001b[0m \u001b[1m0s\u001b[0m 44ms/step\n",
            "\u001b[1m6525/6525\u001b[0m \u001b[32m━━━━━━━━━━━━━━━━━━━━\u001b[0m\u001b[37m\u001b[0m \u001b[1m25s\u001b[0m 4ms/step\n",
            "\u001b[1m1/1\u001b[0m \u001b[32m━━━━━━━━━━━━━━━━━━━━\u001b[0m\u001b[37m\u001b[0m \u001b[1m0s\u001b[0m 47ms/step\n",
            "\u001b[1m6525/6525\u001b[0m \u001b[32m━━━━━━━━━━━━━━━━━━━━\u001b[0m\u001b[37m\u001b[0m \u001b[1m25s\u001b[0m 4ms/step\n",
            "\u001b[1m1/1\u001b[0m \u001b[32m━━━━━━━━━━━━━━━━━━━━\u001b[0m\u001b[37m\u001b[0m \u001b[1m0s\u001b[0m 49ms/step\n",
            "\u001b[1m6525/6525\u001b[0m \u001b[32m━━━━━━━━━━━━━━━━━━━━\u001b[0m\u001b[37m\u001b[0m \u001b[1m24s\u001b[0m 4ms/step\n",
            "\u001b[1m1/1\u001b[0m \u001b[32m━━━━━━━━━━━━━━━━━━━━\u001b[0m\u001b[37m\u001b[0m \u001b[1m0s\u001b[0m 51ms/step\n",
            "\u001b[1m6525/6525\u001b[0m \u001b[32m━━━━━━━━━━━━━━━━━━━━\u001b[0m\u001b[37m\u001b[0m \u001b[1m25s\u001b[0m 4ms/step\n",
            "\u001b[1m1/1\u001b[0m \u001b[32m━━━━━━━━━━━━━━━━━━━━\u001b[0m\u001b[37m\u001b[0m \u001b[1m0s\u001b[0m 54ms/step\n",
            "\u001b[1m6525/6525\u001b[0m \u001b[32m━━━━━━━━━━━━━━━━━━━━\u001b[0m\u001b[37m\u001b[0m \u001b[1m25s\u001b[0m 4ms/step\n",
            "\u001b[1m1/1\u001b[0m \u001b[32m━━━━━━━━━━━━━━━━━━━━\u001b[0m\u001b[37m\u001b[0m \u001b[1m0s\u001b[0m 46ms/step\n",
            "\u001b[1m6525/6525\u001b[0m \u001b[32m━━━━━━━━━━━━━━━━━━━━\u001b[0m\u001b[37m\u001b[0m \u001b[1m24s\u001b[0m 4ms/step\n",
            "\u001b[1m1/1\u001b[0m \u001b[32m━━━━━━━━━━━━━━━━━━━━\u001b[0m\u001b[37m\u001b[0m \u001b[1m0s\u001b[0m 55ms/step\n",
            "\u001b[1m6525/6525\u001b[0m \u001b[32m━━━━━━━━━━━━━━━━━━━━\u001b[0m\u001b[37m\u001b[0m \u001b[1m25s\u001b[0m 4ms/step\n",
            "\u001b[1m1/1\u001b[0m \u001b[32m━━━━━━━━━━━━━━━━━━━━\u001b[0m\u001b[37m\u001b[0m \u001b[1m0s\u001b[0m 41ms/step\n",
            "\u001b[1m6525/6525\u001b[0m \u001b[32m━━━━━━━━━━━━━━━━━━━━\u001b[0m\u001b[37m\u001b[0m \u001b[1m25s\u001b[0m 4ms/step\n",
            "\u001b[1m1/1\u001b[0m \u001b[32m━━━━━━━━━━━━━━━━━━━━\u001b[0m\u001b[37m\u001b[0m \u001b[1m0s\u001b[0m 42ms/step\n",
            "\u001b[1m6525/6525\u001b[0m \u001b[32m━━━━━━━━━━━━━━━━━━━━\u001b[0m\u001b[37m\u001b[0m \u001b[1m25s\u001b[0m 4ms/step\n",
            "\u001b[1m1/1\u001b[0m \u001b[32m━━━━━━━━━━━━━━━━━━━━\u001b[0m\u001b[37m\u001b[0m \u001b[1m0s\u001b[0m 44ms/step\n",
            "\u001b[1m6525/6525\u001b[0m \u001b[32m━━━━━━━━━━━━━━━━━━━━\u001b[0m\u001b[37m\u001b[0m \u001b[1m26s\u001b[0m 4ms/step\n",
            "\u001b[1m1/1\u001b[0m \u001b[32m━━━━━━━━━━━━━━━━━━━━\u001b[0m\u001b[37m\u001b[0m \u001b[1m0s\u001b[0m 47ms/step\n",
            "\u001b[1m6525/6525\u001b[0m \u001b[32m━━━━━━━━━━━━━━━━━━━━\u001b[0m\u001b[37m\u001b[0m \u001b[1m25s\u001b[0m 4ms/step\n",
            "\u001b[1m1/1\u001b[0m \u001b[32m━━━━━━━━━━━━━━━━━━━━\u001b[0m\u001b[37m\u001b[0m \u001b[1m0s\u001b[0m 41ms/step\n",
            "\u001b[1m6525/6525\u001b[0m \u001b[32m━━━━━━━━━━━━━━━━━━━━\u001b[0m\u001b[37m\u001b[0m \u001b[1m25s\u001b[0m 4ms/step\n",
            "\u001b[1m1/1\u001b[0m \u001b[32m━━━━━━━━━━━━━━━━━━━━\u001b[0m\u001b[37m\u001b[0m \u001b[1m0s\u001b[0m 43ms/step\n",
            "\u001b[1m6525/6525\u001b[0m \u001b[32m━━━━━━━━━━━━━━━━━━━━\u001b[0m\u001b[37m\u001b[0m \u001b[1m24s\u001b[0m 4ms/step\n",
            "\u001b[1m1/1\u001b[0m \u001b[32m━━━━━━━━━━━━━━━━━━━━\u001b[0m\u001b[37m\u001b[0m \u001b[1m0s\u001b[0m 67ms/step\n",
            "\u001b[1m6525/6525\u001b[0m \u001b[32m━━━━━━━━━━━━━━━━━━━━\u001b[0m\u001b[37m\u001b[0m \u001b[1m25s\u001b[0m 4ms/step\n",
            "\u001b[1m1/1\u001b[0m \u001b[32m━━━━━━━━━━━━━━━━━━━━\u001b[0m\u001b[37m\u001b[0m \u001b[1m0s\u001b[0m 45ms/step\n",
            "\u001b[1m6525/6525\u001b[0m \u001b[32m━━━━━━━━━━━━━━━━━━━━\u001b[0m\u001b[37m\u001b[0m \u001b[1m25s\u001b[0m 4ms/step\n",
            "\u001b[1m1/1\u001b[0m \u001b[32m━━━━━━━━━━━━━━━━━━━━\u001b[0m\u001b[37m\u001b[0m \u001b[1m0s\u001b[0m 65ms/step\n",
            "\u001b[1m6525/6525\u001b[0m \u001b[32m━━━━━━━━━━━━━━━━━━━━\u001b[0m\u001b[37m\u001b[0m \u001b[1m25s\u001b[0m 4ms/step\n",
            "\u001b[1m1/1\u001b[0m \u001b[32m━━━━━━━━━━━━━━━━━━━━\u001b[0m\u001b[37m\u001b[0m \u001b[1m0s\u001b[0m 62ms/step\n",
            "\u001b[1m6525/6525\u001b[0m \u001b[32m━━━━━━━━━━━━━━━━━━━━\u001b[0m\u001b[37m\u001b[0m \u001b[1m24s\u001b[0m 4ms/step\n",
            "\u001b[1m1/1\u001b[0m \u001b[32m━━━━━━━━━━━━━━━━━━━━\u001b[0m\u001b[37m\u001b[0m \u001b[1m0s\u001b[0m 64ms/step\n",
            "\u001b[1m6525/6525\u001b[0m \u001b[32m━━━━━━━━━━━━━━━━━━━━\u001b[0m\u001b[37m\u001b[0m \u001b[1m24s\u001b[0m 4ms/step\n",
            "\u001b[1m1/1\u001b[0m \u001b[32m━━━━━━━━━━━━━━━━━━━━\u001b[0m\u001b[37m\u001b[0m \u001b[1m0s\u001b[0m 104ms/step\n",
            "\u001b[1m6525/6525\u001b[0m \u001b[32m━━━━━━━━━━━━━━━━━━━━\u001b[0m\u001b[37m\u001b[0m \u001b[1m23s\u001b[0m 4ms/step\n",
            "\u001b[1m1/1\u001b[0m \u001b[32m━━━━━━━━━━━━━━━━━━━━\u001b[0m\u001b[37m\u001b[0m \u001b[1m0s\u001b[0m 68ms/step\n",
            "\u001b[1m6525/6525\u001b[0m \u001b[32m━━━━━━━━━━━━━━━━━━━━\u001b[0m\u001b[37m\u001b[0m \u001b[1m23s\u001b[0m 4ms/step\n",
            "\u001b[1m1/1\u001b[0m \u001b[32m━━━━━━━━━━━━━━━━━━━━\u001b[0m\u001b[37m\u001b[0m \u001b[1m0s\u001b[0m 43ms/step\n",
            "\u001b[1m6525/6525\u001b[0m \u001b[32m━━━━━━━━━━━━━━━━━━━━\u001b[0m\u001b[37m\u001b[0m \u001b[1m23s\u001b[0m 4ms/step\n",
            "\u001b[1m1/1\u001b[0m \u001b[32m━━━━━━━━━━━━━━━━━━━━\u001b[0m\u001b[37m\u001b[0m \u001b[1m0s\u001b[0m 42ms/step\n",
            "\u001b[1m6525/6525\u001b[0m \u001b[32m━━━━━━━━━━━━━━━━━━━━\u001b[0m\u001b[37m\u001b[0m \u001b[1m23s\u001b[0m 4ms/step\n",
            "\u001b[1m1/1\u001b[0m \u001b[32m━━━━━━━━━━━━━━━━━━━━\u001b[0m\u001b[37m\u001b[0m \u001b[1m0s\u001b[0m 48ms/step\n",
            "\u001b[1m6525/6525\u001b[0m \u001b[32m━━━━━━━━━━━━━━━━━━━━\u001b[0m\u001b[37m\u001b[0m \u001b[1m25s\u001b[0m 4ms/step\n",
            "\u001b[1m1/1\u001b[0m \u001b[32m━━━━━━━━━━━━━━━━━━━━\u001b[0m\u001b[37m\u001b[0m \u001b[1m0s\u001b[0m 44ms/step\n",
            "\u001b[1m6525/6525\u001b[0m \u001b[32m━━━━━━━━━━━━━━━━━━━━\u001b[0m\u001b[37m\u001b[0m \u001b[1m24s\u001b[0m 4ms/step\n",
            "\u001b[1m1/1\u001b[0m \u001b[32m━━━━━━━━━━━━━━━━━━━━\u001b[0m\u001b[37m\u001b[0m \u001b[1m0s\u001b[0m 49ms/step\n",
            "\u001b[1m6525/6525\u001b[0m \u001b[32m━━━━━━━━━━━━━━━━━━━━\u001b[0m\u001b[37m\u001b[0m \u001b[1m25s\u001b[0m 4ms/step\n",
            "\u001b[1m1/1\u001b[0m \u001b[32m━━━━━━━━━━━━━━━━━━━━\u001b[0m\u001b[37m\u001b[0m \u001b[1m0s\u001b[0m 45ms/step\n",
            "\u001b[1m6525/6525\u001b[0m \u001b[32m━━━━━━━━━━━━━━━━━━━━\u001b[0m\u001b[37m\u001b[0m \u001b[1m25s\u001b[0m 4ms/step\n",
            "\u001b[1m1/1\u001b[0m \u001b[32m━━━━━━━━━━━━━━━━━━━━\u001b[0m\u001b[37m\u001b[0m \u001b[1m0s\u001b[0m 52ms/step\n",
            "\u001b[1m6525/6525\u001b[0m \u001b[32m━━━━━━━━━━━━━━━━━━━━\u001b[0m\u001b[37m\u001b[0m \u001b[1m25s\u001b[0m 4ms/step\n",
            "\u001b[1m1/1\u001b[0m \u001b[32m━━━━━━━━━━━━━━━━━━━━\u001b[0m\u001b[37m\u001b[0m \u001b[1m0s\u001b[0m 43ms/step\n",
            "\u001b[1m6525/6525\u001b[0m \u001b[32m━━━━━━━━━━━━━━━━━━━━\u001b[0m\u001b[37m\u001b[0m \u001b[1m24s\u001b[0m 4ms/step\n",
            "\u001b[1m1/1\u001b[0m \u001b[32m━━━━━━━━━━━━━━━━━━━━\u001b[0m\u001b[37m\u001b[0m \u001b[1m0s\u001b[0m 50ms/step\n",
            "\u001b[1m6525/6525\u001b[0m \u001b[32m━━━━━━━━━━━━━━━━━━━━\u001b[0m\u001b[37m\u001b[0m \u001b[1m25s\u001b[0m 4ms/step\n",
            "\u001b[1m1/1\u001b[0m \u001b[32m━━━━━━━━━━━━━━━━━━━━\u001b[0m\u001b[37m\u001b[0m \u001b[1m0s\u001b[0m 46ms/step\n",
            "\u001b[1m6525/6525\u001b[0m \u001b[32m━━━━━━━━━━━━━━━━━━━━\u001b[0m\u001b[37m\u001b[0m \u001b[1m24s\u001b[0m 4ms/step\n",
            "\u001b[1m1/1\u001b[0m \u001b[32m━━━━━━━━━━━━━━━━━━━━\u001b[0m\u001b[37m\u001b[0m \u001b[1m0s\u001b[0m 56ms/step\n",
            "\u001b[1m6525/6525\u001b[0m \u001b[32m━━━━━━━━━━━━━━━━━━━━\u001b[0m\u001b[37m\u001b[0m \u001b[1m25s\u001b[0m 4ms/step\n",
            "\u001b[1m1/1\u001b[0m \u001b[32m━━━━━━━━━━━━━━━━━━━━\u001b[0m\u001b[37m\u001b[0m \u001b[1m0s\u001b[0m 47ms/step\n",
            "\u001b[1m6525/6525\u001b[0m \u001b[32m━━━━━━━━━━━━━━━━━━━━\u001b[0m\u001b[37m\u001b[0m \u001b[1m24s\u001b[0m 4ms/step\n",
            "\u001b[1m1/1\u001b[0m \u001b[32m━━━━━━━━━━━━━━━━━━━━\u001b[0m\u001b[37m\u001b[0m \u001b[1m0s\u001b[0m 48ms/step\n",
            "\u001b[1m6525/6525\u001b[0m \u001b[32m━━━━━━━━━━━━━━━━━━━━\u001b[0m\u001b[37m\u001b[0m \u001b[1m24s\u001b[0m 4ms/step\n",
            "\u001b[1m1/1\u001b[0m \u001b[32m━━━━━━━━━━━━━━━━━━━━\u001b[0m\u001b[37m\u001b[0m \u001b[1m0s\u001b[0m 45ms/step\n",
            "\u001b[1m6525/6525\u001b[0m \u001b[32m━━━━━━━━━━━━━━━━━━━━\u001b[0m\u001b[37m\u001b[0m \u001b[1m24s\u001b[0m 4ms/step\n",
            "\u001b[1m1/1\u001b[0m \u001b[32m━━━━━━━━━━━━━━━━━━━━\u001b[0m\u001b[37m\u001b[0m \u001b[1m0s\u001b[0m 46ms/step\n",
            "\u001b[1m6525/6525\u001b[0m \u001b[32m━━━━━━━━━━━━━━━━━━━━\u001b[0m\u001b[37m\u001b[0m \u001b[1m24s\u001b[0m 4ms/step\n",
            "\u001b[1m1/1\u001b[0m \u001b[32m━━━━━━━━━━━━━━━━━━━━\u001b[0m\u001b[37m\u001b[0m \u001b[1m0s\u001b[0m 48ms/step\n",
            "\u001b[1m6525/6525\u001b[0m \u001b[32m━━━━━━━━━━━━━━━━━━━━\u001b[0m\u001b[37m\u001b[0m \u001b[1m25s\u001b[0m 4ms/step\n",
            "\u001b[1m1/1\u001b[0m \u001b[32m━━━━━━━━━━━━━━━━━━━━\u001b[0m\u001b[37m\u001b[0m \u001b[1m0s\u001b[0m 44ms/step\n",
            "\u001b[1m6525/6525\u001b[0m \u001b[32m━━━━━━━━━━━━━━━━━━━━\u001b[0m\u001b[37m\u001b[0m \u001b[1m24s\u001b[0m 4ms/step\n",
            "\u001b[1m1/1\u001b[0m \u001b[32m━━━━━━━━━━━━━━━━━━━━\u001b[0m\u001b[37m\u001b[0m \u001b[1m0s\u001b[0m 44ms/step\n",
            "\u001b[1m6525/6525\u001b[0m \u001b[32m━━━━━━━━━━━━━━━━━━━━\u001b[0m\u001b[37m\u001b[0m \u001b[1m24s\u001b[0m 4ms/step\n",
            "\u001b[1m1/1\u001b[0m \u001b[32m━━━━━━━━━━━━━━━━━━━━\u001b[0m\u001b[37m\u001b[0m \u001b[1m0s\u001b[0m 44ms/step\n",
            "\u001b[1m6525/6525\u001b[0m \u001b[32m━━━━━━━━━━━━━━━━━━━━\u001b[0m\u001b[37m\u001b[0m \u001b[1m25s\u001b[0m 4ms/step\n",
            "\u001b[1m1/1\u001b[0m \u001b[32m━━━━━━━━━━━━━━━━━━━━\u001b[0m\u001b[37m\u001b[0m \u001b[1m0s\u001b[0m 44ms/step\n",
            "\u001b[1m6525/6525\u001b[0m \u001b[32m━━━━━━━━━━━━━━━━━━━━\u001b[0m\u001b[37m\u001b[0m \u001b[1m25s\u001b[0m 4ms/step\n",
            "\u001b[1m1/1\u001b[0m \u001b[32m━━━━━━━━━━━━━━━━━━━━\u001b[0m\u001b[37m\u001b[0m \u001b[1m0s\u001b[0m 45ms/step\n",
            "\u001b[1m6525/6525\u001b[0m \u001b[32m━━━━━━━━━━━━━━━━━━━━\u001b[0m\u001b[37m\u001b[0m \u001b[1m25s\u001b[0m 4ms/step\n",
            "\u001b[1m1/1\u001b[0m \u001b[32m━━━━━━━━━━━━━━━━━━━━\u001b[0m\u001b[37m\u001b[0m \u001b[1m0s\u001b[0m 46ms/step\n",
            "\u001b[1m6525/6525\u001b[0m \u001b[32m━━━━━━━━━━━━━━━━━━━━\u001b[0m\u001b[37m\u001b[0m \u001b[1m25s\u001b[0m 4ms/step\n",
            "\u001b[1m1/1\u001b[0m \u001b[32m━━━━━━━━━━━━━━━━━━━━\u001b[0m\u001b[37m\u001b[0m \u001b[1m0s\u001b[0m 45ms/step\n",
            "\u001b[1m6525/6525\u001b[0m \u001b[32m━━━━━━━━━━━━━━━━━━━━\u001b[0m\u001b[37m\u001b[0m \u001b[1m25s\u001b[0m 4ms/step\n",
            "\u001b[1m1/1\u001b[0m \u001b[32m━━━━━━━━━━━━━━━━━━━━\u001b[0m\u001b[37m\u001b[0m \u001b[1m0s\u001b[0m 45ms/step\n",
            "\u001b[1m6525/6525\u001b[0m \u001b[32m━━━━━━━━━━━━━━━━━━━━\u001b[0m\u001b[37m\u001b[0m \u001b[1m24s\u001b[0m 4ms/step\n",
            "\u001b[1m1/1\u001b[0m \u001b[32m━━━━━━━━━━━━━━━━━━━━\u001b[0m\u001b[37m\u001b[0m \u001b[1m0s\u001b[0m 52ms/step\n",
            "\u001b[1m6525/6525\u001b[0m \u001b[32m━━━━━━━━━━━━━━━━━━━━\u001b[0m\u001b[37m\u001b[0m \u001b[1m25s\u001b[0m 4ms/step\n",
            "\u001b[1m1/1\u001b[0m \u001b[32m━━━━━━━━━━━━━━━━━━━━\u001b[0m\u001b[37m\u001b[0m \u001b[1m0s\u001b[0m 59ms/step\n",
            "\u001b[1m6525/6525\u001b[0m \u001b[32m━━━━━━━━━━━━━━━━━━━━\u001b[0m\u001b[37m\u001b[0m \u001b[1m25s\u001b[0m 4ms/step\n",
            "\u001b[1m1/1\u001b[0m \u001b[32m━━━━━━━━━━━━━━━━━━━━\u001b[0m\u001b[37m\u001b[0m \u001b[1m0s\u001b[0m 45ms/step\n",
            "\u001b[1m6525/6525\u001b[0m \u001b[32m━━━━━━━━━━━━━━━━━━━━\u001b[0m\u001b[37m\u001b[0m \u001b[1m24s\u001b[0m 4ms/step\n"
          ]
        }
      ],
      "source": [
        "#Extract original feature names\n",
        "feature_names = X_train.columns.tolist()\n",
        "\n",
        "#Sample background and explanation sets\n",
        "background_lstm_cost = X_train_lstm[np.random.choice(X_train_lstm.shape[0], 100, replace=False)]\n",
        "X_explain_lstm_cost = X_test_lstm[np.random.choice(X_test_lstm.shape[0], 50, replace=False)]\n",
        "\n",
        "#Flattening for KernelExplainer\n",
        "background_lstm_cost_flat = background_lstm_cost.reshape(background_lstm_cost.shape[0], -1)\n",
        "X_explain_lstm_cost_flat = X_explain_lstm_cost.reshape(X_explain_lstm_cost.shape[0], -1)\n",
        "\n",
        "#Defining model prediction wrapper\n",
        "def lstm_cost_predict(x_flat):\n",
        "    x_reshaped = x_flat.reshape((-1, X_train_lstm.shape[1], 1))\n",
        "    return lstm_cost.predict(x_reshaped).flatten()\n",
        "\n",
        "#Create SHAP KernelExplainer\n",
        "explainer_lstm_cost = shap.KernelExplainer(lstm_cost_predict, background_lstm_cost_flat)\n",
        "\n",
        "#Compute SHAP values\n",
        "shap_values_lstm_cost = explainer_lstm_cost.shap_values(X_explain_lstm_cost_flat)\n"
      ]
    },
    {
      "cell_type": "code",
      "execution_count": null,
      "metadata": {
        "colab": {
          "base_uri": "https://localhost:8080/",
          "height": 1000
        },
        "id": "jCUCnSlxCJsO",
        "outputId": "9ccedbfa-fe9b-42c0-a08f-6395f7fc8731"
      },
      "outputs": [
        {
          "data": {
            "image/png": "[encoded data removed]",
            "text/plain": [
              "<Figure size 800x950 with 2 Axes>"
            ]
          },
          "metadata": {},
          "output_type": "display_data"
        },
        {
          "data": {
            "image/png": "[encoded data removed]",
            "text/plain": [
              "<Figure size 640x480 with 1 Axes>"
            ]
          },
          "metadata": {},
          "output_type": "display_data"
        }
      ],
      "source": [
        "#Plot SHAP summary\n",
        "plt.figure(figsize=(6, 6))\n",
        "shap.summary_plot(\n",
        "    shap_values_lstm_cost,\n",
        "    X_explain_lstm_cost_flat,\n",
        "    feature_names=feature_names,\n",
        "    plot_type=\"dot\"\n",
        ")\n",
        "plt.title(\"SHAP Summary Plot - LSTM (Cost-sensitive)\", fontsize=10)\n",
        "plt.tight_layout()"
      ]
    },
    {
      "cell_type": "markdown",
      "metadata": {
        "id": "hZ5PYT5L7XSZ"
      },
      "source": [
        "ROC Curve for All LSTM Models"
      ]
    },
    {
      "cell_type": "code",
      "execution_count": null,
      "metadata": {
        "id": "Q_b4_KYY4T3Y"
      },
      "outputs": [],
      "source": [
        "plt.figure(figsize=(8,6))\n",
        "plt.plot(roc_lstm[0], roc_lstm[1], label='Baseline', linewidth=2)\n",
        "plt.plot(roc_lstm_smote[0], roc_lstm_smote[1], label='SMOTE', linewidth=2)\n",
        "plt.plot(roc_lstm_adas[0], roc_lstm_adas[1], label='ADASYN', linewidth=2)\n",
        "plt.plot(roc_lstm_cost[0], roc_lstm_cost[1], label='Cost-sensitive', linewidth=2)\n",
        "plt.plot([0, 1], [0, 1], 'k--')\n",
        "plt.title('ROC Curves for LSTM Models (Healthcare Fraud)')\n",
        "plt.xlabel('False Positive Rate')\n",
        "plt.ylabel('True Positive Rate')\n",
        "plt.legend()\n",
        "plt.grid(True)\n",
        "plt.show()"
      ]
    },
    {
      "cell_type": "markdown",
      "metadata": {
        "id": "i4JOFIe_7gEI"
      },
      "source": [
        "Metrics Comparison Table for LSTM Models"
      ]
    },
    {
      "cell_type": "code",
      "execution_count": null,
      "metadata": {
        "id": "oO35-Scc4T8n"
      },
      "outputs": [],
      "source": [
        "results_lstm_fraud = pd.DataFrame({\n",
        "    \"Method\": [\"Baseline\", \"SMOTE\", \"ADASYN\", \"Cost-sensitive\"],\n",
        "    \"Accuracy\": [\n",
        "        accuracy_score(y_test, y_pred_lstm),\n",
        "        accuracy_score(y_test, y_pred_lstm_smote),\n",
        "        accuracy_score(y_test, y_pred_lstm_adas),\n",
        "        accuracy_score(y_test, y_pred_lstm_cost)\n",
        "    ],\n",
        "    \"Precision\": [\n",
        "        precision_score(y_test, y_pred_lstm),\n",
        "        precision_score(y_test, y_pred_lstm_smote),\n",
        "        precision_score(y_test, y_pred_lstm_adas),\n",
        "        precision_score(y_test, y_pred_lstm_cost)\n",
        "    ],\n",
        "    \"Recall\": [\n",
        "        recall_score(y_test, y_pred_lstm),\n",
        "        recall_score(y_test, y_pred_lstm_smote),\n",
        "        recall_score(y_test, y_pred_lstm_adas),\n",
        "        recall_score(y_test, y_pred_lstm_cost)\n",
        "    ],\n",
        "    \"F1\": [\n",
        "        f1_score(y_test, y_pred_lstm),\n",
        "        f1_score(y_test, y_pred_lstm_smote),\n",
        "        f1_score(y_test, y_pred_lstm_adas),\n",
        "        f1_score(y_test, y_pred_lstm_cost)\n",
        "    ],\n",
        "    \"AUC\": [\n",
        "        auc_lstm,\n",
        "        auc_lstm_smote,\n",
        "        auc_lstm_adas,\n",
        "        auc_lstm_cost\n",
        "    ]\n",
        "})\n",
        "print(results_lstm_fraud)"
      ]
    },
    {
      "cell_type": "markdown",
      "source": [
        "# Hybrid Model"
      ],
      "metadata": {
        "id": "Pelzd6CpZeAG"
      }
    },
    {
      "cell_type": "markdown",
      "source": [
        "CNN + LSTM BASELINE MODEL"
      ],
      "metadata": {
        "id": "NEzH44GsZxnk"
      }
    },
    {
      "cell_type": "code",
      "source": [
        "# Reshaping input\n",
        "X_train_hybrid = X_train.values.reshape((X_train.shape[0], X_train.shape[1], 1))\n",
        "X_test_hybrid  = X_test.values.reshape((X_test.shape[0], X_test.shape[1], 1))"
      ],
      "metadata": {
        "id": "LB41j9u1ZeaM"
      },
      "execution_count": null,
      "outputs": []
    },
    {
      "cell_type": "code",
      "source": [
        "# Defining Early Stopping\n",
        "early_stop = EarlyStopping(\n",
        "    monitor='val_loss',\n",
        "    patience=3,\n",
        "    restore_best_weights=True,\n",
        "    verbose=1\n",
        ")\n",
        "\n",
        "# Defining model\n",
        "cnn_lstm_baseline = Sequential()\n",
        "\n",
        "# Conv Block 1\n",
        "cnn_lstm_baseline.add(Conv1D(32, 3, activation='relu', padding='same',\n",
        "                             input_shape=(X_train_hybrid.shape[1], 1)))\n",
        "cnn_lstm_baseline.add(BatchNormalization())\n",
        "cnn_lstm_baseline.add(Conv1D(64, 3, activation='relu', padding='same'))\n",
        "cnn_lstm_baseline.add(BatchNormalization())\n",
        "cnn_lstm_baseline.add(MaxPooling1D(pool_size=2))\n",
        "cnn_lstm_baseline.add(Dropout(0.3))\n",
        "\n",
        "# Conv Block 2\n",
        "cnn_lstm_baseline.add(Conv1D(128, 3, activation='relu', padding='same'))\n",
        "cnn_lstm_baseline.add(BatchNormalization())\n",
        "cnn_lstm_baseline.add(Conv1D(128, 3, activation='relu', padding='same'))\n",
        "cnn_lstm_baseline.add(BatchNormalization())\n",
        "cnn_lstm_baseline.add(MaxPooling1D(pool_size=2))\n",
        "cnn_lstm_baseline.add(Dropout(0.3))\n",
        "\n",
        "# LSTM stack\n",
        "cnn_lstm_baseline.add(LSTM(128, return_sequences=True, dropout=0.3, recurrent_dropout=0.1))\n",
        "cnn_lstm_baseline.add(BatchNormalization())\n",
        "cnn_lstm_baseline.add(LSTM(64, return_sequences=False, dropout=0.3, recurrent_dropout=0.1))\n",
        "cnn_lstm_baseline.add(BatchNormalization())\n",
        "\n",
        "# Dense head\n",
        "cnn_lstm_baseline.add(Dense(128, activation='relu'))\n",
        "cnn_lstm_baseline.add(Dropout(0.4))\n",
        "cnn_lstm_baseline.add(Dense(64, activation='relu'))\n",
        "cnn_lstm_baseline.add(Dropout(0.3))\n",
        "cnn_lstm_baseline.add(Dense(1, activation='sigmoid'))"
      ],
      "metadata": {
        "id": "7cAfgDwaZegc"
      },
      "execution_count": null,
      "outputs": []
    },
    {
      "cell_type": "code",
      "source": [
        "# Compiling model\n",
        "cnn_lstm_baseline.compile(optimizer=Adam(learning_rate=0.0001), loss='binary_crossentropy',\n",
        "                          metrics=['accuracy', Precision(name='precision'), Recall(name='recall')])\n",
        "\n",
        "\n",
        "# Fitting model with early stopping\n",
        "cnn_lstm_baseline.fit(\n",
        "    X_train_hybrid,\n",
        "    y_train,\n",
        "    epochs=30,\n",
        "    batch_size=32,\n",
        "    validation_split=0.2,\n",
        "    callbacks=[early_stop],\n",
        "    verbose=1\n",
        ")\n",
        "\n",
        "# Predicting & evaluation\n",
        "y_pred_probs_hybrid = cnn_lstm_baseline.predict(X_test_hybrid).flatten()\n",
        "y_pred_hybrid = (y_pred_probs_hybrid > 0.5).astype(int)"
      ],
      "metadata": {
        "id": "RpJd6-_yZejP"
      },
      "execution_count": null,
      "outputs": []
    },
    {
      "cell_type": "code",
      "source": [
        "cm_hybrid = confusion_matrix(y_test, y_pred_hybrid)\n",
        "roc_hybrid = roc_curve(y_test, y_pred_probs_hybrid)\n",
        "auc_hybrid = roc_auc_score(y_test, y_pred_probs_hybrid)\n",
        "\n",
        "print(\"Confusion Matrix (CNN+LSTM Baseline):\")\n",
        "print(cm_hybrid)"
      ],
      "metadata": {
        "id": "CaCvgCMhZel1"
      },
      "execution_count": null,
      "outputs": []
    },
    {
      "cell_type": "markdown",
      "source": [
        "CNN + LSTM + SMOTE"
      ],
      "metadata": {
        "id": "k59zYkgaZ9nB"
      }
    },
    {
      "cell_type": "code",
      "source": [
        "X_train_smote_hybrid = X_train_smote.values.reshape((X_train_smote.shape[0], X_train_smote.shape[1], 1))\n"
      ],
      "metadata": {
        "id": "1iYxuK1OZeod"
      },
      "execution_count": null,
      "outputs": []
    },
    {
      "cell_type": "code",
      "source": [
        "# Defining Early Stopping\n",
        "early_stop = EarlyStopping(\n",
        "    monitor='val_loss',\n",
        "    patience=3,\n",
        "    restore_best_weights=True,\n",
        "    verbose=1\n",
        ")\n",
        "\n",
        "# Defining model\n",
        "cnn_lstm_smote = Sequential()\n",
        "\n",
        "# Conv Block 1\n",
        "cnn_lstm_smote.add(Conv1D(32, 3, activation='relu', padding='same',\n",
        "                          input_shape=(X_train_smote_hybrid.shape[1], 1)))\n",
        "cnn_lstm_smote.add(BatchNormalization())\n",
        "cnn_lstm_smote.add(Conv1D(64, 3, activation='relu', padding='same'))\n",
        "cnn_lstm_smote.add(BatchNormalization())\n",
        "cnn_lstm_smote.add(MaxPooling1D(pool_size=2))\n",
        "cnn_lstm_smote.add(Dropout(0.3))\n",
        "\n",
        "# Conv Block 2\n",
        "cnn_lstm_smote.add(Conv1D(128, 3, activation='relu', padding='same'))\n",
        "cnn_lstm_smote.add(BatchNormalization())\n",
        "cnn_lstm_smote.add(Conv1D(128, 3, activation='relu', padding='same'))\n",
        "cnn_lstm_smote.add(BatchNormalization())\n",
        "cnn_lstm_smote.add(MaxPooling1D(pool_size=2))\n",
        "cnn_lstm_smote.add(Dropout(0.3))\n",
        "\n",
        "# LSTM stack\n",
        "cnn_lstm_smote.add(LSTM(128, return_sequences=True, dropout=0.3, recurrent_dropout=0.1))\n",
        "cnn_lstm_smote.add(BatchNormalization())\n",
        "cnn_lstm_smote.add(LSTM(64, return_sequences=False, dropout=0.3, recurrent_dropout=0.1))\n",
        "cnn_lstm_smote.add(BatchNormalization())\n",
        "\n",
        "# Dense head\n",
        "cnn_lstm_smote.add(Dense(128, activation='relu'))\n",
        "cnn_lstm_smote.add(Dropout(0.4))\n",
        "cnn_lstm_smote.add(Dense(64, activation='relu'))\n",
        "cnn_lstm_smote.add(Dropout(0.3))\n",
        "cnn_lstm_smote.add(Dense(1, activation='sigmoid'))"
      ],
      "metadata": {
        "id": "D48MxZlZZerC"
      },
      "execution_count": null,
      "outputs": []
    },
    {
      "cell_type": "code",
      "source": [
        "# Compiling model\n",
        "cnn_lstm_smote.compile(optimizer=Adam(learning_rate=0.0001), loss='binary_crossentropy',\n",
        "                       metrics=['accuracy', Precision(name='precision'), Recall(name='recall')])\n",
        "\n",
        "\n",
        "# Fitting model with early stopping\n",
        "cnn_lstm_smote.fit(\n",
        "    X_train_smote_hybrid,\n",
        "    y_train_smote,\n",
        "    epochs=3,\n",
        "    batch_size=32,\n",
        "    validation_split=0.2,\n",
        "    callbacks=[early_stop],\n",
        "    verbose=1\n",
        ")\n",
        "\n",
        "# Predicting & evaluation\n",
        "y_pred_probs_hybrid_smote = cnn_lstm_smote.predict(X_test_hybrid).flatten()\n",
        "y_pred_hybrid_smote = (y_pred_probs_hybrid_smote > 0.5).astype(int)"
      ],
      "metadata": {
        "id": "gTuWLkOLZetp"
      },
      "execution_count": null,
      "outputs": []
    },
    {
      "cell_type": "code",
      "source": [
        "cm_hybrid_smote = confusion_matrix(y_test, y_pred_hybrid_smote)\n",
        "roc_hybrid_smote = roc_curve(y_test, y_pred_probs_hybrid_smote)\n",
        "auc_hybrid_smote = roc_auc_score(y_test, y_pred_probs_hybrid_smote)\n",
        "\n",
        "print(\"Confusion Matrix (SMOTE):\")\n",
        "print(cm_hybrid_smote)"
      ],
      "metadata": {
        "id": "rQlrSWcBZewT"
      },
      "execution_count": null,
      "outputs": []
    },
    {
      "cell_type": "markdown",
      "source": [
        "CNN + LSTM + ADASYN"
      ],
      "metadata": {
        "id": "Hv1szcAEaNV0"
      }
    },
    {
      "cell_type": "code",
      "source": [
        "X_train_adas_hybrid = X_train_adas.values.reshape((X_train_adas.shape[0], X_train_adas.shape[1], 1))\n"
      ],
      "metadata": {
        "id": "e_cdQO-gZeyq"
      },
      "execution_count": null,
      "outputs": []
    },
    {
      "cell_type": "code",
      "source": [
        "# Defining EarlyStopping\n",
        "early_stop = EarlyStopping(\n",
        "    monitor='val_loss',\n",
        "    patience=3,\n",
        "    restore_best_weights=True,\n",
        "    verbose=1\n",
        ")\n",
        "# Defining model\n",
        "cnn_lstm_adas = Sequential()\n",
        "\n",
        "# Conv Block 1\n",
        "cnn_lstm_adas.add(Conv1D(32, 3, activation='relu', padding='same',\n",
        "                         input_shape=(X_train_adas_hybrid.shape[1], 1)))\n",
        "cnn_lstm_adas.add(BatchNormalization())\n",
        "cnn_lstm_adas.add(Conv1D(64, 3, activation='relu', padding='same'))\n",
        "cnn_lstm_adas.add(BatchNormalization())\n",
        "cnn_lstm_adas.add(MaxPooling1D(pool_size=2))\n",
        "cnn_lstm_adas.add(Dropout(0.3))\n",
        "\n",
        "# Conv Block 2\n",
        "cnn_lstm_adas.add(Conv1D(128, 3, activation='relu', padding='same'))\n",
        "cnn_lstm_adas.add(BatchNormalization())\n",
        "cnn_lstm_adas.add(Conv1D(128, 3, activation='relu', padding='same'))\n",
        "cnn_lstm_adas.add(BatchNormalization())\n",
        "cnn_lstm_adas.add(MaxPooling1D(pool_size=2))\n",
        "cnn_lstm_adas.add(Dropout(0.3))\n",
        "\n",
        "# LSTM stack\n",
        "cnn_lstm_adas.add(LSTM(128, return_sequences=True, dropout=0.3, recurrent_dropout=0.1))\n",
        "cnn_lstm_adas.add(BatchNormalization())\n",
        "cnn_lstm_adas.add(LSTM(64, return_sequences=False, dropout=0.3, recurrent_dropout=0.1))\n",
        "cnn_lstm_adas.add(BatchNormalization())\n",
        "\n",
        "# Dense head\n",
        "cnn_lstm_adas.add(Dense(128, activation='relu'))\n",
        "cnn_lstm_adas.add(Dropout(0.4))\n",
        "cnn_lstm_adas.add(Dense(64, activation='relu'))\n",
        "cnn_lstm_adas.add(Dropout(0.3))\n",
        "cnn_lstm_adas.add(Dense(1, activation='sigmoid'))"
      ],
      "metadata": {
        "id": "_iJYjfFrZe1P"
      },
      "execution_count": null,
      "outputs": []
    },
    {
      "cell_type": "code",
      "source": [
        "# Compiling model\n",
        "cnn_lstm_adas.compile(optimizer=Adam(learning_rate=0.0001), loss='binary_crossentropy',\n",
        "                      metrics=['accuracy', Precision(name='precision'), Recall(name='recall')])\n",
        "\n",
        "# Fitting model with early stopping\n",
        "cnn_lstm_adas.fit(\n",
        "    X_train_adas_hybrid,\n",
        "    y_train_adas,\n",
        "    epochs=100,\n",
        "    batch_size=32,\n",
        "    validation_split=0.2,\n",
        "    callbacks=[early_stop],\n",
        "    verbose=1\n",
        ")\n",
        "\n",
        "# Predicting & evaluation\n",
        "y_pred_probs_hybrid_adas = cnn_lstm_adas.predict(X_test_hybrid).flatten()\n",
        "y_pred_hybrid_adas = (y_pred_probs_hybrid_adas > 0.5).astype(int)"
      ],
      "metadata": {
        "id": "-UCBUNVyZe4I"
      },
      "execution_count": null,
      "outputs": []
    },
    {
      "cell_type": "code",
      "source": [
        "cm_hybrid_adas = confusion_matrix(y_test, y_pred_hybrid_adas)\n",
        "roc_hybrid_adas = roc_curve(y_test, y_pred_probs_hybrid_adas)\n",
        "auc_hybrid_adas = roc_auc_score(y_test, y_pred_probs_hybrid_adas)\n",
        "\n",
        "print(\"Confusion Matrix (ADASYN):\")\n",
        "print(cm_hybrid_adas)"
      ],
      "metadata": {
        "id": "4vjNWpK-Ze6u"
      },
      "execution_count": null,
      "outputs": []
    },
    {
      "cell_type": "markdown",
      "source": [
        "Cost-sensitive CNN + LSTM"
      ],
      "metadata": {
        "id": "tNTZUX3XaaS9"
      }
    },
    {
      "cell_type": "code",
      "source": [
        "# Defining EarlyStopping\n",
        "early_stop = EarlyStopping(\n",
        "    monitor='val_loss',\n",
        "    patience=3,\n",
        "    restore_best_weights=True,\n",
        "    verbose=1\n",
        ")\n",
        "# Defining model\n",
        "cnn_lstm_cost = Sequential()\n",
        "\n",
        "# Conv Block 1\n",
        "cnn_lstm_cost.add(Conv1D(32, 3, activation='relu', padding='same',\n",
        "                         input_shape=(X_train_hybrid.shape[1], 1)))\n",
        "cnn_lstm_cost.add(BatchNormalization())\n",
        "cnn_lstm_cost.add(Conv1D(64, 3, activation='relu', padding='same'))\n",
        "cnn_lstm_cost.add(BatchNormalization())\n",
        "cnn_lstm_cost.add(MaxPooling1D(pool_size=2))\n",
        "cnn_lstm_cost.add(Dropout(0.3))\n",
        "\n",
        "# Conv Block 2\n",
        "cnn_lstm_cost.add(Conv1D(128, 3, activation='relu', padding='same'))\n",
        "cnn_lstm_cost.add(BatchNormalization())\n",
        "cnn_lstm_cost.add(Conv1D(128, 3, activation='relu', padding='same'))\n",
        "cnn_lstm_cost.add(BatchNormalization())\n",
        "cnn_lstm_cost.add(MaxPooling1D(pool_size=2))\n",
        "cnn_lstm_cost.add(Dropout(0.3))\n",
        "\n",
        "# LSTM stack\n",
        "cnn_lstm_cost.add(LSTM(128, return_sequences=True, dropout=0.3, recurrent_dropout=0.1))\n",
        "cnn_lstm_cost.add(BatchNormalization())\n",
        "cnn_lstm_cost.add(LSTM(64, return_sequences=False, dropout=0.3, recurrent_dropout=0.1))\n",
        "cnn_lstm_cost.add(BatchNormalization())\n",
        "\n",
        "# Dense head\n",
        "cnn_lstm_cost.add(Dense(128, activation='relu'))\n",
        "cnn_lstm_cost.add(Dropout(0.4))\n",
        "cnn_lstm_cost.add(Dense(64, activation='relu'))\n",
        "cnn_lstm_cost.add(Dropout(0.3))\n",
        "cnn_lstm_cost.add(Dense(1, activation='sigmoid'))"
      ],
      "metadata": {
        "id": "E_DvhB_6Ze9D"
      },
      "execution_count": null,
      "outputs": []
    },
    {
      "cell_type": "code",
      "source": [
        "# Compiling model\n",
        "cnn_lstm_cost.compile(optimizer=Adam(learning_rate=0.0001), loss='binary_crossentropy',\n",
        "                      metrics=['accuracy', Precision(name='precision'), Recall(name='recall')])\n",
        "\n",
        "# Fitting with class weights + early stopping\n",
        "cnn_lstm_cost.fit(\n",
        "    X_train_hybrid,\n",
        "    y_train,\n",
        "    epochs=30,\n",
        "    batch_size=32,\n",
        "    class_weight=class_weights_dict,\n",
        "    validation_split=0.2,\n",
        "    callbacks=[early_stop],\n",
        "    verbose=1\n",
        ")\n",
        "\n",
        "# Predicting & evaluation\n",
        "y_pred_probs_hybrid_cost = cnn_lstm_cost.predict(X_test_hybrid).flatten()\n",
        "y_pred_hybrid_cost = (y_pred_probs_hybrid_cost > 0.5).astype(int)"
      ],
      "metadata": {
        "id": "PhMlSQt6aZIC"
      },
      "execution_count": null,
      "outputs": []
    },
    {
      "cell_type": "code",
      "source": [
        "cm_hybrid_cost = confusion_matrix(y_test, y_pred_hybrid_cost)\n",
        "roc_hybrid_cost = roc_curve(y_test, y_pred_probs_hybrid_cost)\n",
        "auc_hybrid_cost = roc_auc_score(y_test, y_pred_probs_hybrid_cost)\n",
        "\n",
        "print(\"Confusion Matrix (Cost-sensitive):\")\n",
        "print(cm_hybrid_cost)"
      ],
      "metadata": {
        "id": "LUPtScnEaZKg"
      },
      "execution_count": null,
      "outputs": []
    },
    {
      "cell_type": "markdown",
      "source": [
        "ROC Curve for All CNN+LSTM Models"
      ],
      "metadata": {
        "id": "UzPqq_E_aosc"
      }
    },
    {
      "cell_type": "code",
      "source": [
        "plt.figure(figsize=(8,6))\n",
        "plt.plot(roc_hybrid[0], roc_hybrid[1], label='Baseline', linewidth=2)\n",
        "plt.plot(roc_hybrid_smote[0], roc_hybrid_smote[1], label='SMOTE', linewidth=2)\n",
        "plt.plot(roc_hybrid_adas[0], roc_hybrid_adas[1], label='ADASYN', linewidth=2)\n",
        "plt.plot(roc_hybrid_cost[0], roc_hybrid_cost[1], label='Cost-sensitive', linewidth=2)\n",
        "plt.plot([0, 1], [0, 1], 'k--')\n",
        "plt.title('ROC Curves for CNN+LSTM Models (Healthcare Fraud)')\n",
        "plt.xlabel('False Positive Rate')\n",
        "plt.ylabel('True Positive Rate')\n",
        "plt.legend()\n",
        "plt.grid(True)\n",
        "plt.show()"
      ],
      "metadata": {
        "id": "Q2wab0KdaZNH"
      },
      "execution_count": null,
      "outputs": []
    },
    {
      "cell_type": "markdown",
      "source": [
        "Metrics Comparison Table for CNN+LSTM Models"
      ],
      "metadata": {
        "id": "QIKkovDPar6Z"
      }
    },
    {
      "cell_type": "code",
      "source": [
        "results_cnn_lstm_fraud = pd.DataFrame({\n",
        "    \"Method\": [\"Baseline\", \"SMOTE\", \"ADASYN\", \"Cost-sensitive\"],\n",
        "    \"Accuracy\": [\n",
        "        accuracy_score(y_test, y_pred_hybrid),\n",
        "        accuracy_score(y_test, y_pred_hybrid_smote),\n",
        "        accuracy_score(y_test, y_pred_hybrid_adas),\n",
        "        accuracy_score(y_test, y_pred_hybrid_cost)\n",
        "    ],\n",
        "    \"Precision\": [\n",
        "        precision_score(y_test, y_pred_hybrid),\n",
        "        precision_score(y_test, y_pred_hybrid_smote),\n",
        "        precision_score(y_test, y_pred_hybrid_adas),\n",
        "        precision_score(y_test, y_pred_hybrid_cost)\n",
        "    ],\n",
        "    \"Recall\": [\n",
        "        recall_score(y_test, y_pred_hybrid),\n",
        "        recall_score(y_test, y_pred_hybrid_smote),\n",
        "        recall_score(y_test, y_pred_hybrid_adas),\n",
        "        recall_score(y_test, y_pred_hybrid_cost)\n",
        "    ],\n",
        "    \"F1\": [\n",
        "        f1_score(y_test, y_pred_hybrid),\n",
        "        f1_score(y_test, y_pred_hybrid_smote),\n",
        "        f1_score(y_test, y_pred_hybrid_adas),\n",
        "        f1_score(y_test, y_pred_hybrid_cost)\n",
        "    ],\n",
        "    \"AUC\": [\n",
        "        auc_hybrid,\n",
        "        auc_hybrid_smote,\n",
        "        auc_hybrid_adas,\n",
        "        auc_hybrid_cost\n",
        "    ]\n",
        "})\n",
        "print(results_cnn_lstm_fraud)"
      ],
      "metadata": {
        "id": "3fNFtnUtaZPt"
      },
      "execution_count": null,
      "outputs": []
    }
  ],
  "metadata": {
    "colab": {
      "provenance": [],
      "authorship_tag": "ABX9TyPWtVsx/+AgRS3bnUuLxLZR",
      "include_colab_link": true
    },
    "kernelspec": {
      "display_name": "Python 3",
      "name": "python3"
    },
    "language_info": {
      "name": "python"
    },
    "widgets": {
      "application/vnd.jupyter.widget-state+json": {
        "0025b320b3df4486b1bb32f33b0d61c5": {
          "model_module": "@jupyter-widgets/controls",
          "model_module_version": "1.5.0",
          "model_name": "HBoxModel",
          "state": {
            "_dom_classes": [],
            "_model_module": "@jupyter-widgets/controls",
            "_model_module_version": "1.5.0",
            "_model_name": "HBoxModel",
            "_view_count": null,
            "_view_module": "@jupyter-widgets/controls",
            "_view_module_version": "1.5.0",
            "_view_name": "HBoxView",
            "box_style": "",
            "children": [
              "IPY_MODEL_2e075a99dcfc4b73a7cb6c170545f50c",
              "IPY_MODEL_8942ff0b37704b43b1f165bce405518a",
              "IPY_MODEL_43160a1b4c92452881f4e2a42bfa5fa8"
            ],
            "layout": "IPY_MODEL_f7b0ede17d28480ea6bdb81f21230125"
          }
        },
        "0ce1eae0349746b9baf70716978201d9": {
          "model_module": "@jupyter-widgets/controls",
          "model_module_version": "1.5.0",
          "model_name": "HTMLModel",
          "state": {
            "_dom_classes": [],
            "_model_module": "@jupyter-widgets/controls",
            "_model_module_version": "1.5.0",
            "_model_name": "HTMLModel",
            "_view_count": null,
            "_view_module": "@jupyter-widgets/controls",
            "_view_module_version": "1.5.0",
            "_view_name": "HTMLView",
            "description": "",
            "description_tooltip": null,
            "layout": "IPY_MODEL_d7d7778d3f944496bcfd74f684b27dec",
            "placeholder": "​",
            "style": "IPY_MODEL_2ae75d7705b441d5afa424e9d3589567",
            "value": "100%"
          }
        },
        "2100f5e35808427283d4c209698095f0": {
          "model_module": "@jupyter-widgets/base",
          "model_module_version": "1.2.0",
          "model_name": "LayoutModel",
          "state": {
            "_model_module": "@jupyter-widgets/base",
            "_model_module_version": "1.2.0",
            "_model_name": "LayoutModel",
            "_view_count": null,
            "_view_module": "@jupyter-widgets/base",
            "_view_module_version": "1.2.0",
            "_view_name": "LayoutView",
            "align_content": null,
            "align_items": null,
            "align_self": null,
            "border": null,
            "bottom": null,
            "display": null,
            "flex": null,
            "flex_flow": null,
            "grid_area": null,
            "grid_auto_columns": null,
            "grid_auto_flow": null,
            "grid_auto_rows": null,
            "grid_column": null,
            "grid_gap": null,
            "grid_row": null,
            "grid_template_areas": null,
            "grid_template_columns": null,
            "grid_template_rows": null,
            "height": null,
            "justify_content": null,
            "justify_items": null,
            "left": null,
            "margin": null,
            "max_height": null,
            "max_width": null,
            "min_height": null,
            "min_width": null,
            "object_fit": null,
            "object_position": null,
            "order": null,
            "overflow": null,
            "overflow_x": null,
            "overflow_y": null,
            "padding": null,
            "right": null,
            "top": null,
            "visibility": null,
            "width": null
          }
        },
        "2207fd0e37e84edb8f0668f091b1fd85": {
          "model_module": "@jupyter-widgets/base",
          "model_module_version": "1.2.0",
          "model_name": "LayoutModel",
          "state": {
            "_model_module": "@jupyter-widgets/base",
            "_model_module_version": "1.2.0",
            "_model_name": "LayoutModel",
            "_view_count": null,
            "_view_module": "@jupyter-widgets/base",
            "_view_module_version": "1.2.0",
            "_view_name": "LayoutView",
            "align_content": null,
            "align_items": null,
            "align_self": null,
            "border": null,
            "bottom": null,
            "display": null,
            "flex": null,
            "flex_flow": null,
            "grid_area": null,
            "grid_auto_columns": null,
            "grid_auto_flow": null,
            "grid_auto_rows": null,
            "grid_column": null,
            "grid_gap": null,
            "grid_row": null,
            "grid_template_areas": null,
            "grid_template_columns": null,
            "grid_template_rows": null,
            "height": null,
            "justify_content": null,
            "justify_items": null,
            "left": null,
            "margin": null,
            "max_height": null,
            "max_width": null,
            "min_height": null,
            "min_width": null,
            "object_fit": null,
            "object_position": null,
            "order": null,
            "overflow": null,
            "overflow_x": null,
            "overflow_y": null,
            "padding": null,
            "right": null,
            "top": null,
            "visibility": null,
            "width": null
          }
        },
        "2ae75d7705b441d5afa424e9d3589567": {
          "model_module": "@jupyter-widgets/controls",
          "model_module_version": "1.5.0",
          "model_name": "DescriptionStyleModel",
          "state": {
            "_model_module": "@jupyter-widgets/controls",
            "_model_module_version": "1.5.0",
            "_model_name": "DescriptionStyleModel",
            "_view_count": null,
            "_view_module": "@jupyter-widgets/base",
            "_view_module_version": "1.2.0",
            "_view_name": "StyleView",
            "description_width": ""
          }
        },
        "2e075a99dcfc4b73a7cb6c170545f50c": {
          "model_module": "@jupyter-widgets/controls",
          "model_module_version": "1.5.0",
          "model_name": "HTMLModel",
          "state": {
            "_dom_classes": [],
            "_model_module": "@jupyter-widgets/controls",
            "_model_module_version": "1.5.0",
            "_model_name": "HTMLModel",
            "_view_count": null,
            "_view_module": "@jupyter-widgets/controls",
            "_view_module_version": "1.5.0",
            "_view_name": "HTMLView",
            "description": "",
            "description_tooltip": null,
            "layout": "IPY_MODEL_47d16b18561942339557b0e772c7b05c",
            "placeholder": "​",
            "style": "IPY_MODEL_8c6c5d7096f94490a089d888d61c0dab",
            "value": "100%"
          }
        },
        "364ca2e7168c4ed2b8413eb76fd682f0": {
          "model_module": "@jupyter-widgets/controls",
          "model_module_version": "1.5.0",
          "model_name": "HTMLModel",
          "state": {
            "_dom_classes": [],
            "_model_module": "@jupyter-widgets/controls",
            "_model_module_version": "1.5.0",
            "_model_name": "HTMLModel",
            "_view_count": null,
            "_view_module": "@jupyter-widgets/controls",
            "_view_module_version": "1.5.0",
            "_view_name": "HTMLView",
            "description": "",
            "description_tooltip": null,
            "layout": "IPY_MODEL_2100f5e35808427283d4c209698095f0",
            "placeholder": "​",
            "style": "IPY_MODEL_a49502bf2803442da206b2288fb3b659",
            "value": "100%"
          }
        },
        "43160a1b4c92452881f4e2a42bfa5fa8": {
          "model_module": "@jupyter-widgets/controls",
          "model_module_version": "1.5.0",
          "model_name": "HTMLModel",
          "state": {
            "_dom_classes": [],
            "_model_module": "@jupyter-widgets/controls",
            "_model_module_version": "1.5.0",
            "_model_name": "HTMLModel",
            "_view_count": null,
            "_view_module": "@jupyter-widgets/controls",
            "_view_module_version": "1.5.0",
            "_view_name": "HTMLView",
            "description": "",
            "description_tooltip": null,
            "layout": "IPY_MODEL_b0d35fd86aab45009ebb53465fea6fb5",
            "placeholder": "​",
            "style": "IPY_MODEL_a75074c5fcb24226a8999ab8e6fcbf83",
            "value": " 50/50 [30:20&lt;00:00, 31.84s/it]"
          }
        },
        "4431228265434e4d87031ba0625ce3a4": {
          "model_module": "@jupyter-widgets/base",
          "model_module_version": "1.2.0",
          "model_name": "LayoutModel",
          "state": {
            "_model_module": "@jupyter-widgets/base",
            "_model_module_version": "1.2.0",
            "_model_name": "LayoutModel",
            "_view_count": null,
            "_view_module": "@jupyter-widgets/base",
            "_view_module_version": "1.2.0",
            "_view_name": "LayoutView",
            "align_content": null,
            "align_items": null,
            "align_self": null,
            "border": null,
            "bottom": null,
            "display": null,
            "flex": null,
            "flex_flow": null,
            "grid_area": null,
            "grid_auto_columns": null,
            "grid_auto_flow": null,
            "grid_auto_rows": null,
            "grid_column": null,
            "grid_gap": null,
            "grid_row": null,
            "grid_template_areas": null,
            "grid_template_columns": null,
            "grid_template_rows": null,
            "height": null,
            "justify_content": null,
            "justify_items": null,
            "left": null,
            "margin": null,
            "max_height": null,
            "max_width": null,
            "min_height": null,
            "min_width": null,
            "object_fit": null,
            "object_position": null,
            "order": null,
            "overflow": null,
            "overflow_x": null,
            "overflow_y": null,
            "padding": null,
            "right": null,
            "top": null,
            "visibility": null,
            "width": null
          }
        },
        "46b842d1a539482dabf4863010a04218": {
          "model_module": "@jupyter-widgets/base",
          "model_module_version": "1.2.0",
          "model_name": "LayoutModel",
          "state": {
            "_model_module": "@jupyter-widgets/base",
            "_model_module_version": "1.2.0",
            "_model_name": "LayoutModel",
            "_view_count": null,
            "_view_module": "@jupyter-widgets/base",
            "_view_module_version": "1.2.0",
            "_view_name": "LayoutView",
            "align_content": null,
            "align_items": null,
            "align_self": null,
            "border": null,
            "bottom": null,
            "display": null,
            "flex": null,
            "flex_flow": null,
            "grid_area": null,
            "grid_auto_columns": null,
            "grid_auto_flow": null,
            "grid_auto_rows": null,
            "grid_column": null,
            "grid_gap": null,
            "grid_row": null,
            "grid_template_areas": null,
            "grid_template_columns": null,
            "grid_template_rows": null,
            "height": null,
            "justify_content": null,
            "justify_items": null,
            "left": null,
            "margin": null,
            "max_height": null,
            "max_width": null,
            "min_height": null,
            "min_width": null,
            "object_fit": null,
            "object_position": null,
            "order": null,
            "overflow": null,
            "overflow_x": null,
            "overflow_y": null,
            "padding": null,
            "right": null,
            "top": null,
            "visibility": null,
            "width": null
          }
        },
        "47d16b18561942339557b0e772c7b05c": {
          "model_module": "@jupyter-widgets/base",
          "model_module_version": "1.2.0",
          "model_name": "LayoutModel",
          "state": {
            "_model_module": "@jupyter-widgets/base",
            "_model_module_version": "1.2.0",
            "_model_name": "LayoutModel",
            "_view_count": null,
            "_view_module": "@jupyter-widgets/base",
            "_view_module_version": "1.2.0",
            "_view_name": "LayoutView",
            "align_content": null,
            "align_items": null,
            "align_self": null,
            "border": null,
            "bottom": null,
            "display": null,
            "flex": null,
            "flex_flow": null,
            "grid_area": null,
            "grid_auto_columns": null,
            "grid_auto_flow": null,
            "grid_auto_rows": null,
            "grid_column": null,
            "grid_gap": null,
            "grid_row": null,
            "grid_template_areas": null,
            "grid_template_columns": null,
            "grid_template_rows": null,
            "height": null,
            "justify_content": null,
            "justify_items": null,
            "left": null,
            "margin": null,
            "max_height": null,
            "max_width": null,
            "min_height": null,
            "min_width": null,
            "object_fit": null,
            "object_position": null,
            "order": null,
            "overflow": null,
            "overflow_x": null,
            "overflow_y": null,
            "padding": null,
            "right": null,
            "top": null,
            "visibility": null,
            "width": null
          }
        },
        "56ddac453d694f61881058b98ee85fd3": {
          "model_module": "@jupyter-widgets/base",
          "model_module_version": "1.2.0",
          "model_name": "LayoutModel",
          "state": {
            "_model_module": "@jupyter-widgets/base",
            "_model_module_version": "1.2.0",
            "_model_name": "LayoutModel",
            "_view_count": null,
            "_view_module": "@jupyter-widgets/base",
            "_view_module_version": "1.2.0",
            "_view_name": "LayoutView",
            "align_content": null,
            "align_items": null,
            "align_self": null,
            "border": null,
            "bottom": null,
            "display": null,
            "flex": null,
            "flex_flow": null,
            "grid_area": null,
            "grid_auto_columns": null,
            "grid_auto_flow": null,
            "grid_auto_rows": null,
            "grid_column": null,
            "grid_gap": null,
            "grid_row": null,
            "grid_template_areas": null,
            "grid_template_columns": null,
            "grid_template_rows": null,
            "height": null,
            "justify_content": null,
            "justify_items": null,
            "left": null,
            "margin": null,
            "max_height": null,
            "max_width": null,
            "min_height": null,
            "min_width": null,
            "object_fit": null,
            "object_position": null,
            "order": null,
            "overflow": null,
            "overflow_x": null,
            "overflow_y": null,
            "padding": null,
            "right": null,
            "top": null,
            "visibility": null,
            "width": null
          }
        },
        "5a0e5204a98f484aa49a933c7284142b": {
          "model_module": "@jupyter-widgets/controls",
          "model_module_version": "1.5.0",
          "model_name": "DescriptionStyleModel",
          "state": {
            "_model_module": "@jupyter-widgets/controls",
            "_model_module_version": "1.5.0",
            "_model_name": "DescriptionStyleModel",
            "_view_count": null,
            "_view_module": "@jupyter-widgets/base",
            "_view_module_version": "1.2.0",
            "_view_name": "StyleView",
            "description_width": ""
          }
        },
        "5ac51c39f96844a8a81cc29e05efbb56": {
          "model_module": "@jupyter-widgets/base",
          "model_module_version": "1.2.0",
          "model_name": "LayoutModel",
          "state": {
            "_model_module": "@jupyter-widgets/base",
            "_model_module_version": "1.2.0",
            "_model_name": "LayoutModel",
            "_view_count": null,
            "_view_module": "@jupyter-widgets/base",
            "_view_module_version": "1.2.0",
            "_view_name": "LayoutView",
            "align_content": null,
            "align_items": null,
            "align_self": null,
            "border": null,
            "bottom": null,
            "display": null,
            "flex": null,
            "flex_flow": null,
            "grid_area": null,
            "grid_auto_columns": null,
            "grid_auto_flow": null,
            "grid_auto_rows": null,
            "grid_column": null,
            "grid_gap": null,
            "grid_row": null,
            "grid_template_areas": null,
            "grid_template_columns": null,
            "grid_template_rows": null,
            "height": null,
            "justify_content": null,
            "justify_items": null,
            "left": null,
            "margin": null,
            "max_height": null,
            "max_width": null,
            "min_height": null,
            "min_width": null,
            "object_fit": null,
            "object_position": null,
            "order": null,
            "overflow": null,
            "overflow_x": null,
            "overflow_y": null,
            "padding": null,
            "right": null,
            "top": null,
            "visibility": null,
            "width": null
          }
        },
        "5c7ed16e3bf74cf1a32e34a6cfc1dd09": {
          "model_module": "@jupyter-widgets/controls",
          "model_module_version": "1.5.0",
          "model_name": "DescriptionStyleModel",
          "state": {
            "_model_module": "@jupyter-widgets/controls",
            "_model_module_version": "1.5.0",
            "_model_name": "DescriptionStyleModel",
            "_view_count": null,
            "_view_module": "@jupyter-widgets/base",
            "_view_module_version": "1.2.0",
            "_view_name": "StyleView",
            "description_width": ""
          }
        },
        "62d4f6868733403ab6662a30e83a1850": {
          "model_module": "@jupyter-widgets/base",
          "model_module_version": "1.2.0",
          "model_name": "LayoutModel",
          "state": {
            "_model_module": "@jupyter-widgets/base",
            "_model_module_version": "1.2.0",
            "_model_name": "LayoutModel",
            "_view_count": null,
            "_view_module": "@jupyter-widgets/base",
            "_view_module_version": "1.2.0",
            "_view_name": "LayoutView",
            "align_content": null,
            "align_items": null,
            "align_self": null,
            "border": null,
            "bottom": null,
            "display": null,
            "flex": null,
            "flex_flow": null,
            "grid_area": null,
            "grid_auto_columns": null,
            "grid_auto_flow": null,
            "grid_auto_rows": null,
            "grid_column": null,
            "grid_gap": null,
            "grid_row": null,
            "grid_template_areas": null,
            "grid_template_columns": null,
            "grid_template_rows": null,
            "height": null,
            "justify_content": null,
            "justify_items": null,
            "left": null,
            "margin": null,
            "max_height": null,
            "max_width": null,
            "min_height": null,
            "min_width": null,
            "object_fit": null,
            "object_position": null,
            "order": null,
            "overflow": null,
            "overflow_x": null,
            "overflow_y": null,
            "padding": null,
            "right": null,
            "top": null,
            "visibility": null,
            "width": null
          }
        },
        "757772afca8548d0be7c83bd32269e2a": {
          "model_module": "@jupyter-widgets/controls",
          "model_module_version": "1.5.0",
          "model_name": "ProgressStyleModel",
          "state": {
            "_model_module": "@jupyter-widgets/controls",
            "_model_module_version": "1.5.0",
            "_model_name": "ProgressStyleModel",
            "_view_count": null,
            "_view_module": "@jupyter-widgets/base",
            "_view_module_version": "1.2.0",
            "_view_name": "StyleView",
            "bar_color": null,
            "description_width": ""
          }
        },
        "764b6fe6e59c4e089f93e73792482da6": {
          "model_module": "@jupyter-widgets/controls",
          "model_module_version": "1.5.0",
          "model_name": "DescriptionStyleModel",
          "state": {
            "_model_module": "@jupyter-widgets/controls",
            "_model_module_version": "1.5.0",
            "_model_name": "DescriptionStyleModel",
            "_view_count": null,
            "_view_module": "@jupyter-widgets/base",
            "_view_module_version": "1.2.0",
            "_view_name": "StyleView",
            "description_width": ""
          }
        },
        "7d991fa8b979481fa665f6dec3b82d26": {
          "model_module": "@jupyter-widgets/controls",
          "model_module_version": "1.5.0",
          "model_name": "FloatProgressModel",
          "state": {
            "_dom_classes": [],
            "_model_module": "@jupyter-widgets/controls",
            "_model_module_version": "1.5.0",
            "_model_name": "FloatProgressModel",
            "_view_count": null,
            "_view_module": "@jupyter-widgets/controls",
            "_view_module_version": "1.5.0",
            "_view_name": "ProgressView",
            "bar_style": "success",
            "description": "",
            "description_tooltip": null,
            "layout": "IPY_MODEL_62d4f6868733403ab6662a30e83a1850",
            "max": 50,
            "min": 0,
            "orientation": "horizontal",
            "style": "IPY_MODEL_9e91132940c24835a92ec909922d184e",
            "value": 50
          }
        },
        "80a291421998467aade029f75f6f0a79": {
          "model_module": "@jupyter-widgets/controls",
          "model_module_version": "1.5.0",
          "model_name": "ProgressStyleModel",
          "state": {
            "_model_module": "@jupyter-widgets/controls",
            "_model_module_version": "1.5.0",
            "_model_name": "ProgressStyleModel",
            "_view_count": null,
            "_view_module": "@jupyter-widgets/base",
            "_view_module_version": "1.2.0",
            "_view_name": "StyleView",
            "bar_color": null,
            "description_width": ""
          }
        },
        "8942ff0b37704b43b1f165bce405518a": {
          "model_module": "@jupyter-widgets/controls",
          "model_module_version": "1.5.0",
          "model_name": "FloatProgressModel",
          "state": {
            "_dom_classes": [],
            "_model_module": "@jupyter-widgets/controls",
            "_model_module_version": "1.5.0",
            "_model_name": "FloatProgressModel",
            "_view_count": null,
            "_view_module": "@jupyter-widgets/controls",
            "_view_module_version": "1.5.0",
            "_view_name": "ProgressView",
            "bar_style": "success",
            "description": "",
            "description_tooltip": null,
            "layout": "IPY_MODEL_2207fd0e37e84edb8f0668f091b1fd85",
            "max": 50,
            "min": 0,
            "orientation": "horizontal",
            "style": "IPY_MODEL_80a291421998467aade029f75f6f0a79",
            "value": 50
          }
        },
        "8a38129f62cf44e9b018bd7da168533c": {
          "model_module": "@jupyter-widgets/controls",
          "model_module_version": "1.5.0",
          "model_name": "FloatProgressModel",
          "state": {
            "_dom_classes": [],
            "_model_module": "@jupyter-widgets/controls",
            "_model_module_version": "1.5.0",
            "_model_name": "FloatProgressModel",
            "_view_count": null,
            "_view_module": "@jupyter-widgets/controls",
            "_view_module_version": "1.5.0",
            "_view_name": "ProgressView",
            "bar_style": "success",
            "description": "",
            "description_tooltip": null,
            "layout": "IPY_MODEL_5ac51c39f96844a8a81cc29e05efbb56",
            "max": 50,
            "min": 0,
            "orientation": "horizontal",
            "style": "IPY_MODEL_b0ff49d024694e0a8b7996d142b8dd95",
            "value": 50
          }
        },
        "8c6c5d7096f94490a089d888d61c0dab": {
          "model_module": "@jupyter-widgets/controls",
          "model_module_version": "1.5.0",
          "model_name": "DescriptionStyleModel",
          "state": {
            "_model_module": "@jupyter-widgets/controls",
            "_model_module_version": "1.5.0",
            "_model_name": "DescriptionStyleModel",
            "_view_count": null,
            "_view_module": "@jupyter-widgets/base",
            "_view_module_version": "1.2.0",
            "_view_name": "StyleView",
            "description_width": ""
          }
        },
        "9cb4d97beaaa4111b85b650521007269": {
          "model_module": "@jupyter-widgets/controls",
          "model_module_version": "1.5.0",
          "model_name": "HBoxModel",
          "state": {
            "_dom_classes": [],
            "_model_module": "@jupyter-widgets/controls",
            "_model_module_version": "1.5.0",
            "_model_name": "HBoxModel",
            "_view_count": null,
            "_view_module": "@jupyter-widgets/controls",
            "_view_module_version": "1.5.0",
            "_view_name": "HBoxView",
            "box_style": "",
            "children": [
              "IPY_MODEL_0ce1eae0349746b9baf70716978201d9",
              "IPY_MODEL_8a38129f62cf44e9b018bd7da168533c",
              "IPY_MODEL_ff39f25bc7cc40ebac255bf2ee156bb1"
            ],
            "layout": "IPY_MODEL_bfefba6d3938420d9a51dcb74b9a64ad"
          }
        },
        "9e91132940c24835a92ec909922d184e": {
          "model_module": "@jupyter-widgets/controls",
          "model_module_version": "1.5.0",
          "model_name": "ProgressStyleModel",
          "state": {
            "_model_module": "@jupyter-widgets/controls",
            "_model_module_version": "1.5.0",
            "_model_name": "ProgressStyleModel",
            "_view_count": null,
            "_view_module": "@jupyter-widgets/base",
            "_view_module_version": "1.2.0",
            "_view_name": "StyleView",
            "bar_color": null,
            "description_width": ""
          }
        },
        "a49502bf2803442da206b2288fb3b659": {
          "model_module": "@jupyter-widgets/controls",
          "model_module_version": "1.5.0",
          "model_name": "DescriptionStyleModel",
          "state": {
            "_model_module": "@jupyter-widgets/controls",
            "_model_module_version": "1.5.0",
            "_model_name": "DescriptionStyleModel",
            "_view_count": null,
            "_view_module": "@jupyter-widgets/base",
            "_view_module_version": "1.2.0",
            "_view_name": "StyleView",
            "description_width": ""
          }
        },
        "a75074c5fcb24226a8999ab8e6fcbf83": {
          "model_module": "@jupyter-widgets/controls",
          "model_module_version": "1.5.0",
          "model_name": "DescriptionStyleModel",
          "state": {
            "_model_module": "@jupyter-widgets/controls",
            "_model_module_version": "1.5.0",
            "_model_name": "DescriptionStyleModel",
            "_view_count": null,
            "_view_module": "@jupyter-widgets/base",
            "_view_module_version": "1.2.0",
            "_view_name": "StyleView",
            "description_width": ""
          }
        },
        "af98fa69a1024f7a96b7552cad5abe3e": {
          "model_module": "@jupyter-widgets/base",
          "model_module_version": "1.2.0",
          "model_name": "LayoutModel",
          "state": {
            "_model_module": "@jupyter-widgets/base",
            "_model_module_version": "1.2.0",
            "_model_name": "LayoutModel",
            "_view_count": null,
            "_view_module": "@jupyter-widgets/base",
            "_view_module_version": "1.2.0",
            "_view_name": "LayoutView",
            "align_content": null,
            "align_items": null,
            "align_self": null,
            "border": null,
            "bottom": null,
            "display": null,
            "flex": null,
            "flex_flow": null,
            "grid_area": null,
            "grid_auto_columns": null,
            "grid_auto_flow": null,
            "grid_auto_rows": null,
            "grid_column": null,
            "grid_gap": null,
            "grid_row": null,
            "grid_template_areas": null,
            "grid_template_columns": null,
            "grid_template_rows": null,
            "height": null,
            "justify_content": null,
            "justify_items": null,
            "left": null,
            "margin": null,
            "max_height": null,
            "max_width": null,
            "min_height": null,
            "min_width": null,
            "object_fit": null,
            "object_position": null,
            "order": null,
            "overflow": null,
            "overflow_x": null,
            "overflow_y": null,
            "padding": null,
            "right": null,
            "top": null,
            "visibility": null,
            "width": null
          }
        },
        "b0d35fd86aab45009ebb53465fea6fb5": {
          "model_module": "@jupyter-widgets/base",
          "model_module_version": "1.2.0",
          "model_name": "LayoutModel",
          "state": {
            "_model_module": "@jupyter-widgets/base",
            "_model_module_version": "1.2.0",
            "_model_name": "LayoutModel",
            "_view_count": null,
            "_view_module": "@jupyter-widgets/base",
            "_view_module_version": "1.2.0",
            "_view_name": "LayoutView",
            "align_content": null,
            "align_items": null,
            "align_self": null,
            "border": null,
            "bottom": null,
            "display": null,
            "flex": null,
            "flex_flow": null,
            "grid_area": null,
            "grid_auto_columns": null,
            "grid_auto_flow": null,
            "grid_auto_rows": null,
            "grid_column": null,
            "grid_gap": null,
            "grid_row": null,
            "grid_template_areas": null,
            "grid_template_columns": null,
            "grid_template_rows": null,
            "height": null,
            "justify_content": null,
            "justify_items": null,
            "left": null,
            "margin": null,
            "max_height": null,
            "max_width": null,
            "min_height": null,
            "min_width": null,
            "object_fit": null,
            "object_position": null,
            "order": null,
            "overflow": null,
            "overflow_x": null,
            "overflow_y": null,
            "padding": null,
            "right": null,
            "top": null,
            "visibility": null,
            "width": null
          }
        },
        "b0ff49d024694e0a8b7996d142b8dd95": {
          "model_module": "@jupyter-widgets/controls",
          "model_module_version": "1.5.0",
          "model_name": "ProgressStyleModel",
          "state": {
            "_model_module": "@jupyter-widgets/controls",
            "_model_module_version": "1.5.0",
            "_model_name": "ProgressStyleModel",
            "_view_count": null,
            "_view_module": "@jupyter-widgets/base",
            "_view_module_version": "1.2.0",
            "_view_name": "StyleView",
            "bar_color": null,
            "description_width": ""
          }
        },
        "bfefba6d3938420d9a51dcb74b9a64ad": {
          "model_module": "@jupyter-widgets/base",
          "model_module_version": "1.2.0",
          "model_name": "LayoutModel",
          "state": {
            "_model_module": "@jupyter-widgets/base",
            "_model_module_version": "1.2.0",
            "_model_name": "LayoutModel",
            "_view_count": null,
            "_view_module": "@jupyter-widgets/base",
            "_view_module_version": "1.2.0",
            "_view_name": "LayoutView",
            "align_content": null,
            "align_items": null,
            "align_self": null,
            "border": null,
            "bottom": null,
            "display": null,
            "flex": null,
            "flex_flow": null,
            "grid_area": null,
            "grid_auto_columns": null,
            "grid_auto_flow": null,
            "grid_auto_rows": null,
            "grid_column": null,
            "grid_gap": null,
            "grid_row": null,
            "grid_template_areas": null,
            "grid_template_columns": null,
            "grid_template_rows": null,
            "height": null,
            "justify_content": null,
            "justify_items": null,
            "left": null,
            "margin": null,
            "max_height": null,
            "max_width": null,
            "min_height": null,
            "min_width": null,
            "object_fit": null,
            "object_position": null,
            "order": null,
            "overflow": null,
            "overflow_x": null,
            "overflow_y": null,
            "padding": null,
            "right": null,
            "top": null,
            "visibility": null,
            "width": null
          }
        },
        "c8123975107044a2a8fee3f34736e50d": {
          "model_module": "@jupyter-widgets/controls",
          "model_module_version": "1.5.0",
          "model_name": "HBoxModel",
          "state": {
            "_dom_classes": [],
            "_model_module": "@jupyter-widgets/controls",
            "_model_module_version": "1.5.0",
            "_model_name": "HBoxModel",
            "_view_count": null,
            "_view_module": "@jupyter-widgets/controls",
            "_view_module_version": "1.5.0",
            "_view_name": "HBoxView",
            "box_style": "",
            "children": [
              "IPY_MODEL_ed91407a6abb4a2f834bb2cbec8d39cc",
              "IPY_MODEL_dbeec0aafd5a437986167fa3a4785064",
              "IPY_MODEL_cd9d195584d04174b8d46a7900ebb28d"
            ],
            "layout": "IPY_MODEL_56ddac453d694f61881058b98ee85fd3"
          }
        },
        "cce8b7be4d5341dfb95ec736a3062690": {
          "model_module": "@jupyter-widgets/base",
          "model_module_version": "1.2.0",
          "model_name": "LayoutModel",
          "state": {
            "_model_module": "@jupyter-widgets/base",
            "_model_module_version": "1.2.0",
            "_model_name": "LayoutModel",
            "_view_count": null,
            "_view_module": "@jupyter-widgets/base",
            "_view_module_version": "1.2.0",
            "_view_name": "LayoutView",
            "align_content": null,
            "align_items": null,
            "align_self": null,
            "border": null,
            "bottom": null,
            "display": null,
            "flex": null,
            "flex_flow": null,
            "grid_area": null,
            "grid_auto_columns": null,
            "grid_auto_flow": null,
            "grid_auto_rows": null,
            "grid_column": null,
            "grid_gap": null,
            "grid_row": null,
            "grid_template_areas": null,
            "grid_template_columns": null,
            "grid_template_rows": null,
            "height": null,
            "justify_content": null,
            "justify_items": null,
            "left": null,
            "margin": null,
            "max_height": null,
            "max_width": null,
            "min_height": null,
            "min_width": null,
            "object_fit": null,
            "object_position": null,
            "order": null,
            "overflow": null,
            "overflow_x": null,
            "overflow_y": null,
            "padding": null,
            "right": null,
            "top": null,
            "visibility": null,
            "width": null
          }
        },
        "cd9d195584d04174b8d46a7900ebb28d": {
          "model_module": "@jupyter-widgets/controls",
          "model_module_version": "1.5.0",
          "model_name": "HTMLModel",
          "state": {
            "_dom_classes": [],
            "_model_module": "@jupyter-widgets/controls",
            "_model_module_version": "1.5.0",
            "_model_name": "HTMLModel",
            "_view_count": null,
            "_view_module": "@jupyter-widgets/controls",
            "_view_module_version": "1.5.0",
            "_view_name": "HTMLView",
            "description": "",
            "description_tooltip": null,
            "layout": "IPY_MODEL_cce8b7be4d5341dfb95ec736a3062690",
            "placeholder": "​",
            "style": "IPY_MODEL_5a0e5204a98f484aa49a933c7284142b",
            "value": " 50/50 [30:22&lt;00:00, 32.16s/it]"
          }
        },
        "cf4414510f2544ec9aa4a7a18f23db48": {
          "model_module": "@jupyter-widgets/controls",
          "model_module_version": "1.5.0",
          "model_name": "DescriptionStyleModel",
          "state": {
            "_model_module": "@jupyter-widgets/controls",
            "_model_module_version": "1.5.0",
            "_model_name": "DescriptionStyleModel",
            "_view_count": null,
            "_view_module": "@jupyter-widgets/base",
            "_view_module_version": "1.2.0",
            "_view_name": "StyleView",
            "description_width": ""
          }
        },
        "d7d7778d3f944496bcfd74f684b27dec": {
          "model_module": "@jupyter-widgets/base",
          "model_module_version": "1.2.0",
          "model_name": "LayoutModel",
          "state": {
            "_model_module": "@jupyter-widgets/base",
            "_model_module_version": "1.2.0",
            "_model_name": "LayoutModel",
            "_view_count": null,
            "_view_module": "@jupyter-widgets/base",
            "_view_module_version": "1.2.0",
            "_view_name": "LayoutView",
            "align_content": null,
            "align_items": null,
            "align_self": null,
            "border": null,
            "bottom": null,
            "display": null,
            "flex": null,
            "flex_flow": null,
            "grid_area": null,
            "grid_auto_columns": null,
            "grid_auto_flow": null,
            "grid_auto_rows": null,
            "grid_column": null,
            "grid_gap": null,
            "grid_row": null,
            "grid_template_areas": null,
            "grid_template_columns": null,
            "grid_template_rows": null,
            "height": null,
            "justify_content": null,
            "justify_items": null,
            "left": null,
            "margin": null,
            "max_height": null,
            "max_width": null,
            "min_height": null,
            "min_width": null,
            "object_fit": null,
            "object_position": null,
            "order": null,
            "overflow": null,
            "overflow_x": null,
            "overflow_y": null,
            "padding": null,
            "right": null,
            "top": null,
            "visibility": null,
            "width": null
          }
        },
        "dbeec0aafd5a437986167fa3a4785064": {
          "model_module": "@jupyter-widgets/controls",
          "model_module_version": "1.5.0",
          "model_name": "FloatProgressModel",
          "state": {
            "_dom_classes": [],
            "_model_module": "@jupyter-widgets/controls",
            "_model_module_version": "1.5.0",
            "_model_name": "FloatProgressModel",
            "_view_count": null,
            "_view_module": "@jupyter-widgets/controls",
            "_view_module_version": "1.5.0",
            "_view_name": "ProgressView",
            "bar_style": "success",
            "description": "",
            "description_tooltip": null,
            "layout": "IPY_MODEL_4431228265434e4d87031ba0625ce3a4",
            "max": 50,
            "min": 0,
            "orientation": "horizontal",
            "style": "IPY_MODEL_757772afca8548d0be7c83bd32269e2a",
            "value": 50
          }
        },
        "e0aa7ca3b8524b5fa13fe546c778acd6": {
          "model_module": "@jupyter-widgets/controls",
          "model_module_version": "1.5.0",
          "model_name": "HBoxModel",
          "state": {
            "_dom_classes": [],
            "_model_module": "@jupyter-widgets/controls",
            "_model_module_version": "1.5.0",
            "_model_name": "HBoxModel",
            "_view_count": null,
            "_view_module": "@jupyter-widgets/controls",
            "_view_module_version": "1.5.0",
            "_view_name": "HBoxView",
            "box_style": "",
            "children": [
              "IPY_MODEL_364ca2e7168c4ed2b8413eb76fd682f0",
              "IPY_MODEL_7d991fa8b979481fa665f6dec3b82d26",
              "IPY_MODEL_f2c8c0f4fdfe414ea31fbba7cbb8182e"
            ],
            "layout": "IPY_MODEL_af98fa69a1024f7a96b7552cad5abe3e"
          }
        },
        "e3a9693c13c44aa6916447848e1895d9": {
          "model_module": "@jupyter-widgets/base",
          "model_module_version": "1.2.0",
          "model_name": "LayoutModel",
          "state": {
            "_model_module": "@jupyter-widgets/base",
            "_model_module_version": "1.2.0",
            "_model_name": "LayoutModel",
            "_view_count": null,
            "_view_module": "@jupyter-widgets/base",
            "_view_module_version": "1.2.0",
            "_view_name": "LayoutView",
            "align_content": null,
            "align_items": null,
            "align_self": null,
            "border": null,
            "bottom": null,
            "display": null,
            "flex": null,
            "flex_flow": null,
            "grid_area": null,
            "grid_auto_columns": null,
            "grid_auto_flow": null,
            "grid_auto_rows": null,
            "grid_column": null,
            "grid_gap": null,
            "grid_row": null,
            "grid_template_areas": null,
            "grid_template_columns": null,
            "grid_template_rows": null,
            "height": null,
            "justify_content": null,
            "justify_items": null,
            "left": null,
            "margin": null,
            "max_height": null,
            "max_width": null,
            "min_height": null,
            "min_width": null,
            "object_fit": null,
            "object_position": null,
            "order": null,
            "overflow": null,
            "overflow_x": null,
            "overflow_y": null,
            "padding": null,
            "right": null,
            "top": null,
            "visibility": null,
            "width": null
          }
        },
        "ec9f5faa5d134164b54a3ac558e7fbe0": {
          "model_module": "@jupyter-widgets/base",
          "model_module_version": "1.2.0",
          "model_name": "LayoutModel",
          "state": {
            "_model_module": "@jupyter-widgets/base",
            "_model_module_version": "1.2.0",
            "_model_name": "LayoutModel",
            "_view_count": null,
            "_view_module": "@jupyter-widgets/base",
            "_view_module_version": "1.2.0",
            "_view_name": "LayoutView",
            "align_content": null,
            "align_items": null,
            "align_self": null,
            "border": null,
            "bottom": null,
            "display": null,
            "flex": null,
            "flex_flow": null,
            "grid_area": null,
            "grid_auto_columns": null,
            "grid_auto_flow": null,
            "grid_auto_rows": null,
            "grid_column": null,
            "grid_gap": null,
            "grid_row": null,
            "grid_template_areas": null,
            "grid_template_columns": null,
            "grid_template_rows": null,
            "height": null,
            "justify_content": null,
            "justify_items": null,
            "left": null,
            "margin": null,
            "max_height": null,
            "max_width": null,
            "min_height": null,
            "min_width": null,
            "object_fit": null,
            "object_position": null,
            "order": null,
            "overflow": null,
            "overflow_x": null,
            "overflow_y": null,
            "padding": null,
            "right": null,
            "top": null,
            "visibility": null,
            "width": null
          }
        },
        "ed91407a6abb4a2f834bb2cbec8d39cc": {
          "model_module": "@jupyter-widgets/controls",
          "model_module_version": "1.5.0",
          "model_name": "HTMLModel",
          "state": {
            "_dom_classes": [],
            "_model_module": "@jupyter-widgets/controls",
            "_model_module_version": "1.5.0",
            "_model_name": "HTMLModel",
            "_view_count": null,
            "_view_module": "@jupyter-widgets/controls",
            "_view_module_version": "1.5.0",
            "_view_name": "HTMLView",
            "description": "",
            "description_tooltip": null,
            "layout": "IPY_MODEL_e3a9693c13c44aa6916447848e1895d9",
            "placeholder": "​",
            "style": "IPY_MODEL_5c7ed16e3bf74cf1a32e34a6cfc1dd09",
            "value": "100%"
          }
        },
        "f2c8c0f4fdfe414ea31fbba7cbb8182e": {
          "model_module": "@jupyter-widgets/controls",
          "model_module_version": "1.5.0",
          "model_name": "HTMLModel",
          "state": {
            "_dom_classes": [],
            "_model_module": "@jupyter-widgets/controls",
            "_model_module_version": "1.5.0",
            "_model_name": "HTMLModel",
            "_view_count": null,
            "_view_module": "@jupyter-widgets/controls",
            "_view_module_version": "1.5.0",
            "_view_name": "HTMLView",
            "description": "",
            "description_tooltip": null,
            "layout": "IPY_MODEL_46b842d1a539482dabf4863010a04218",
            "placeholder": "​",
            "style": "IPY_MODEL_cf4414510f2544ec9aa4a7a18f23db48",
            "value": " 50/50 [29:47&lt;00:00, 34.13s/it]"
          }
        },
        "f7b0ede17d28480ea6bdb81f21230125": {
          "model_module": "@jupyter-widgets/base",
          "model_module_version": "1.2.0",
          "model_name": "LayoutModel",
          "state": {
            "_model_module": "@jupyter-widgets/base",
            "_model_module_version": "1.2.0",
            "_model_name": "LayoutModel",
            "_view_count": null,
            "_view_module": "@jupyter-widgets/base",
            "_view_module_version": "1.2.0",
            "_view_name": "LayoutView",
            "align_content": null,
            "align_items": null,
            "align_self": null,
            "border": null,
            "bottom": null,
            "display": null,
            "flex": null,
            "flex_flow": null,
            "grid_area": null,
            "grid_auto_columns": null,
            "grid_auto_flow": null,
            "grid_auto_rows": null,
            "grid_column": null,
            "grid_gap": null,
            "grid_row": null,
            "grid_template_areas": null,
            "grid_template_columns": null,
            "grid_template_rows": null,
            "height": null,
            "justify_content": null,
            "justify_items": null,
            "left": null,
            "margin": null,
            "max_height": null,
            "max_width": null,
            "min_height": null,
            "min_width": null,
            "object_fit": null,
            "object_position": null,
            "order": null,
            "overflow": null,
            "overflow_x": null,
            "overflow_y": null,
            "padding": null,
            "right": null,
            "top": null,
            "visibility": null,
            "width": null
          }
        },
        "ff39f25bc7cc40ebac255bf2ee156bb1": {
          "model_module": "@jupyter-widgets/controls",
          "model_module_version": "1.5.0",
          "model_name": "HTMLModel",
          "state": {
            "_dom_classes": [],
            "_model_module": "@jupyter-widgets/controls",
            "_model_module_version": "1.5.0",
            "_model_name": "HTMLModel",
            "_view_count": null,
            "_view_module": "@jupyter-widgets/controls",
            "_view_module_version": "1.5.0",
            "_view_name": "HTMLView",
            "description": "",
            "description_tooltip": null,
            "layout": "IPY_MODEL_ec9f5faa5d134164b54a3ac558e7fbe0",
            "placeholder": "​",
            "style": "IPY_MODEL_764b6fe6e59c4e089f93e73792482da6",
            "value": " 50/50 [30:48&lt;00:00, 39.57s/it]"
          }
        }
      }
    }
  },
  "nbformat": 4,
  "nbformat_minor": 0
}