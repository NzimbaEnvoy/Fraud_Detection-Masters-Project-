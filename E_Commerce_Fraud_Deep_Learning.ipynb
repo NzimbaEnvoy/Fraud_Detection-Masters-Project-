{
  "cells": [
    {
      "cell_type": "markdown",
      "metadata": {
        "id": "view-in-github",
        "colab_type": "text"
      },
      "source": [
        "<a href=\"https://colab.research.google.com/github/NzimbaEnvoy/Fraud_Detection-Masters-Project-/blob/main/E_Commerce_Fraud_Deep_Learning.ipynb\" target=\"_parent\"><img src=\"https://colab.research.google.com/assets/colab-badge.svg\" alt=\"Open In Colab\"/></a>"
      ]
    },
    {
      "cell_type": "code",
      "execution_count": null,
      "metadata": {
        "id": "R3CjwMVtlsI4"
      },
      "outputs": [],
      "source": [
        "from google.colab import drive\n",
        "drive.mount('/content/drive')"
      ]
    },
    {
      "cell_type": "code",
      "execution_count": null,
      "metadata": {
        "id": "-U658kQ4mfrx"
      },
      "outputs": [],
      "source": [
        "#Importing Libraries\n",
        "import os\n",
        "import pandas as pd\n",
        "import numpy as np\n",
        "import time\n",
        "from sklearn.preprocessing import StandardScaler\n",
        "from tensorflow.keras.metrics import Precision, Recall\n",
        "from sklearn.metrics import confusion_matrix, classification_report, roc_auc_score, roc_curve, accuracy_score, precision_score, recall_score, f1_score\n",
        "from imblearn.over_sampling import SMOTE, ADASYN\n",
        "from tensorflow.keras.models import Sequential\n",
        "from tensorflow.keras.layers import Conv1D, MaxPooling1D, Flatten, Dense, Dropout, LSTM, TimeDistributed, BatchNormalization\n",
        "from tensorflow.keras.utils import to_categorical\n",
        "from tensorflow.keras.optimizers import Adam\n",
        "from tensorflow.keras.callbacks import EarlyStopping\n",
        "import matplotlib.pyplot as plt\n",
        "from imblearn.over_sampling import SMOTE, ADASYN\n",
        "from sklearn.utils.class_weight import compute_class_weight\n",
        "import itertools\n",
        "import shap\n"
      ]
    },
    {
      "cell_type": "code",
      "execution_count": null,
      "metadata": {
        "id": "2ZcJgtvJmfuU"
      },
      "outputs": [],
      "source": [
        "# Path to the files\n",
        "base_path = \"/content/drive/MyDrive/Thesis Project\"\n",
        "\n",
        "train_path = os.path.join(base_path, \"train_data_E-commerce.csv\")\n",
        "test_path = os.path.join(base_path, \"test_data_E-commerce.csv\")\n",
        "\n",
        "# Load data\n",
        "train_df = pd.read_csv(train_path)\n",
        "test_df = pd.read_csv(test_path)\n",
        "\n",
        "train_df.head(5)"
      ]
    },
    {
      "cell_type": "code",
      "execution_count": null,
      "metadata": {
        "id": "sP6HOAdwmfwt"
      },
      "outputs": [],
      "source": [
        "X_train = train_df.drop(\"isFraud\", axis=1)\n",
        "y_train = train_df[\"isFraud\"]\n",
        "X_test = test_df.drop(\"isFraud\", axis=1)\n",
        "y_test = test_df[\"isFraud\"]"
      ]
    },
    {
      "cell_type": "markdown",
      "metadata": {
        "id": "Je5xD8txnlDB"
      },
      "source": [
        "**Baseline CNN**"
      ]
    },
    {
      "cell_type": "code",
      "execution_count": null,
      "metadata": {
        "id": "jrylYzkknkK0"
      },
      "outputs": [],
      "source": [
        "# Reshaping for CNN input\n",
        "X_train_cnn = X_train.values.reshape((X_train.shape[0], X_train.shape[1], 1))\n",
        "X_test_cnn  = X_test.values.reshape((X_test.shape[0], X_test.shape[1], 1))"
      ]
    },
    {
      "cell_type": "code",
      "execution_count": null,
      "metadata": {
        "id": "KfyCEKOLmfzR"
      },
      "outputs": [],
      "source": [
        "# Early stopping\n",
        "early_stop = EarlyStopping(\n",
        "    monitor='val_loss',\n",
        "    patience=3,\n",
        "    restore_best_weights=True,\n",
        "    verbose=1\n",
        ")\n",
        "#CNN architecture\n",
        "cnn_baseline_isfraud = Sequential([\n",
        "    # Block 1\n",
        "    Conv1D(32, 3, activation='relu', padding='same', input_shape=(X_train_cnn.shape[1], 1)),\n",
        "    BatchNormalization(),\n",
        "    Conv1D(64, 3, activation='relu', padding='same'),\n",
        "    BatchNormalization(),\n",
        "    MaxPooling1D(pool_size=2),\n",
        "    Dropout(0.3),\n",
        "\n",
        "    # Block 2\n",
        "    Conv1D(128, 3, activation='relu', padding='same'),\n",
        "    BatchNormalization(),\n",
        "    Conv1D(128, 3, activation='relu', padding='same'),\n",
        "    BatchNormalization(),\n",
        "    MaxPooling1D(pool_size=2),\n",
        "    Dropout(0.3),\n",
        "\n",
        "    Flatten(),\n",
        "    Dense(64, activation='relu'),\n",
        "    Dropout(0.4),\n",
        "    Dense(1, activation='sigmoid')\n",
        "])"
      ]
    },
    {
      "cell_type": "code",
      "execution_count": null,
      "metadata": {
        "id": "NHz6bbFsmf1o"
      },
      "outputs": [],
      "source": [
        "# Compiling\n",
        "cnn_baseline_isfraud.compile(optimizer=Adam(learning_rate=0.0001), loss='binary_crossentropy',\n",
        "                             metrics=['accuracy', Precision(name='precision'), Recall(name='recall')])\n",
        "\n",
        "# Fitting model\n",
        "cnn_baseline_isfraud.fit(\n",
        "    X_train_cnn, y_train,\n",
        "    epochs=30,\n",
        "    batch_size=64,\n",
        "    validation_split=0.2,\n",
        "    callbacks=[early_stop],\n",
        "    verbose=1\n",
        ")\n",
        "\n",
        "# Predicting and evaluation\n",
        "y_pred_probs_baseline_cnn_isfraud = cnn_baseline_isfraud.predict(X_test_cnn).flatten()\n",
        "y_pred_baseline_cnn_isfraud = (y_pred_probs_baseline_cnn_isfraud > 0.5).astype(int)\n",
        "\n",
        "cm_baseline_cnn_isfraud = confusion_matrix(y_test, y_pred_baseline_cnn_isfraud)\n",
        "roc_baseline_cnn_isfraud = roc_auc_score(y_test, y_pred_probs_baseline_cnn_isfraud)\n",
        "cm_baseline_cnn_isfraud"
      ]
    },
    {
      "cell_type": "markdown",
      "metadata": {
        "id": "VXmuSKq7to89"
      },
      "source": [
        "SHAP ANALYSIS FOR CNN BASELINE"
      ]
    },
    {
      "cell_type": "code",
      "execution_count": null,
      "metadata": {
        "id": "FMG5Vmjstpxn"
      },
      "outputs": [],
      "source": [
        "#Extracting Feature Names\n",
        "feature_names = X_train.columns.tolist()\n",
        "\n",
        "#Sample background and test data\n",
        "background = X_train_cnn[np.random.choice(X_train_cnn.shape[0], 200, replace=False)]\n",
        "X_explain = X_test_cnn[np.random.choice(X_test_cnn.shape[0], 100, replace=False)]\n",
        "\n",
        "#Flatten 3D tensors to 2D\n",
        "background_flat = background.reshape(background.shape[0], -1)\n",
        "X_explain_flat = X_explain.reshape(X_explain.shape[0], -1)\n",
        "\n",
        "#Define CNN prediction wrapper\n",
        "def cnn_isfraud_predict(x_flat):\n",
        "    x_reshaped = x_flat.reshape((-1, X_train_cnn.shape[1], 1))\n",
        "    return cnn_baseline_isfraud.predict(x_reshaped).flatten()\n",
        "\n",
        "#Create SHAP KernelExplainer\n",
        "explainer = shap.KernelExplainer(cnn_isfraud_predict, background_flat)\n",
        "\n",
        "#Compute SHAP values\n",
        "shap_values = explainer.shap_values(X_explain_flat)"
      ]
    },
    {
      "cell_type": "code",
      "execution_count": null,
      "metadata": {
        "id": "Bkl5Ml4Ntp0K"
      },
      "outputs": [],
      "source": [
        "#SHAP Summary Plot\n",
        "plt.figure(figsize=(6, 6))\n",
        "shap.summary_plot(\n",
        "    shap_values,\n",
        "    X_explain_flat,\n",
        "    feature_names=feature_names,\n",
        "    plot_type=\"dot\"\n",
        ")\n",
        "plt.title(\"SHAP Summary Plot - CNN (Baseline/No Class Balance)\", fontsize=10)\n",
        "plt.tight_layout()\n",
        "\n"
      ]
    },
    {
      "cell_type": "code",
      "execution_count": null,
      "metadata": {
        "id": "Vi3kBtlQuHjj"
      },
      "outputs": [],
      "source": []
    },
    {
      "cell_type": "markdown",
      "metadata": {
        "id": "0R36Ko65ovWY"
      },
      "source": [
        "SMOTE + CNN"
      ]
    },
    {
      "cell_type": "code",
      "execution_count": null,
      "metadata": {
        "id": "JeemaNWQmf3w"
      },
      "outputs": [],
      "source": [
        "smote = SMOTE(random_state=42)\n",
        "X_train_smote, y_train_smote = smote.fit_resample(X_train, y_train)\n",
        "X_train_smote_cnn = X_train_smote.values.reshape((X_train_smote.shape[0], X_train_smote.shape[1], 1))\n",
        "\n",
        "# Early stopping\n",
        "early_stop = EarlyStopping(\n",
        "    monitor='val_loss',\n",
        "    patience=3,\n",
        "    restore_best_weights=True,\n",
        "    verbose=1\n",
        ")\n",
        "\n",
        "#CNN architecture\n",
        "cnn_smote_isfraud = Sequential([\n",
        "    # Block 1\n",
        "    Conv1D(32, 3, activation='relu', padding='same', input_shape=(X_train_smote_cnn.shape[1], 1)),\n",
        "    BatchNormalization(),\n",
        "    Conv1D(64, 3, activation='relu', padding='same'),\n",
        "    BatchNormalization(),\n",
        "    MaxPooling1D(pool_size=2),\n",
        "    Dropout(0.3),\n",
        "\n",
        "    # Block 2\n",
        "    Conv1D(128, 3, activation='relu', padding='same'),\n",
        "    BatchNormalization(),\n",
        "    Conv1D(128, 3, activation='relu', padding='same'),\n",
        "    BatchNormalization(),\n",
        "    MaxPooling1D(pool_size=2),\n",
        "    Dropout(0.3),\n",
        "\n",
        "    Flatten(),\n",
        "    Dense(64, activation='relu'),\n",
        "    Dropout(0.4),\n",
        "    Dense(1, activation='sigmoid')\n",
        "])"
      ]
    },
    {
      "cell_type": "code",
      "execution_count": null,
      "metadata": {
        "colab": {
          "background_save": true
        },
        "id": "wM5MWTMgmf6k"
      },
      "outputs": [],
      "source": [
        "#Compiling\n",
        "cnn_smote_isfraud.compile(\n",
        "    optimizer=Adam(learning_rate=0.0001),\n",
        "    loss='binary_crossentropy',\n",
        "    metrics=['accuracy', Precision(name='precision'), Recall(name='recall')]\n",
        ")\n",
        "\n",
        "\n",
        "# Fitting with early stopping\n",
        "cnn_smote_isfraud.fit(\n",
        "    X_train_smote_cnn, y_train_smote,\n",
        "    epochs=30,\n",
        "    batch_size=64,\n",
        "    validation_split=0.2,\n",
        "    callbacks=[early_stop],\n",
        "    verbose=1\n",
        ")\n",
        "\n",
        "# Predicting & evaluation\n",
        "y_pred_probs_smote_cnn_isfraud = cnn_smote_isfraud.predict(X_test_cnn).flatten()\n",
        "y_pred_smote_cnn_isfraud = (y_pred_probs_smote_cnn_isfraud > 0.5).astype(int)\n",
        "\n",
        "cm_smote_cnn_isfraud = confusion_matrix(y_test, y_pred_smote_cnn_isfraud)\n",
        "roc_smote_cnn_isfraud = roc_auc_score(y_test, y_pred_probs_smote_cnn_isfraud)\n",
        "cm_smote_cnn_isfraud"
      ]
    },
    {
      "cell_type": "code",
      "execution_count": null,
      "metadata": {
        "id": "KlSZ_obTT8xZ"
      },
      "outputs": [],
      "source": [
        "# Saving the model\n",
        "model_dir = \"/content/drive/My Drive/Thesis Project\"\n",
        "os.makedirs(model_dir, exist_ok=True)\n",
        "save_path = os.path.join(model_dir, \"cnn_smote_ecommerce.h5\")\n",
        "cnn_smote_isfraud.save(save_path)\n",
        "print(\"E-com SMOTE-CNN saved to:\", save_path)"
      ]
    },
    {
      "cell_type": "markdown",
      "metadata": {
        "id": "5VKEZsa9WMIa"
      },
      "source": [
        "REALTIME INFERENCES"
      ]
    },
    {
      "cell_type": "code",
      "execution_count": null,
      "metadata": {
        "id": "_YDqBY5JT8-8"
      },
      "outputs": [],
      "source": [
        "import os\n",
        "import numpy as np\n",
        "import pandas as pd\n",
        "from tensorflow.keras.models import load_model\n",
        "import matplotlib.pyplot as plt\n",
        "\n",
        "#Loading model\n",
        "model_path = \"/content/drive/My Drive/Thesis Project/cnn_smote_ecommerce.h5\"\n",
        "cnn_smote = load_model(model_path)\n",
        "\n",
        "X_test_np = X_test.values\n",
        "y_test_np = y_test.values\n",
        "\n",
        "if X_test_np.ndim == 2:\n",
        "    X_test_np = np.expand_dims(X_test_np, -1)\n",
        "\n",
        "fraud_idx = np.where(y_test_np == 1)[0]\n",
        "assert fraud_idx.size > 0, \"No fraud rows in test set.\"\n",
        "fraud_pool_X = X_test_np[fraud_idx]\n",
        "\n",
        "\n",
        "#Simulation settings\n",
        "domain_name  = \"e-commerce\"\n",
        "lambda_fraud = 60.6\n",
        "runs         = 10000\n",
        "threshold    = 0.50\n",
        "rng = np.random.default_rng(42)\n",
        "\n",
        "\n",
        "# Monte Carlo\n",
        "arrivals_F   = rng.poisson(lam=lambda_fraud, size=runs)\n",
        "tp_vec       = np.zeros(runs, dtype=int)\n",
        "det_rate_pct = np.full(runs, np.nan)\n",
        "\n",
        "for r in range(runs):\n",
        "    F = arrivals_F[r]\n",
        "    if F == 0:\n",
        "        continue\n",
        "    s_idx = rng.choice(fraud_pool_X.shape[0], size=F, replace=True)\n",
        "    X_r   = fraud_pool_X[s_idx]\n",
        "\n",
        "    # Predicting probabilities\n",
        "    p_r  = cnn_smote.predict(X_r, verbose=0).reshape(-1)\n",
        "    yhat = (p_r >= threshold).astype(int)\n",
        "\n",
        "    TP = int(yhat.sum())\n",
        "    tp_vec[r]       = TP\n",
        "    det_rate_pct[r] = 100.0 * TP / F\n",
        "\n",
        "mc_df   = pd.DataFrame({\"run\": np.arange(1, runs+1),\n",
        "                        \"fraud_arrivals\": arrivals_F,\n",
        "                        \"tp\": tp_vec,\n",
        "                        \"detection_pct\": det_rate_pct})\n",
        "plot_df = mc_df.dropna(subset=[\"detection_pct\"])\n"
      ]
    },
    {
      "cell_type": "code",
      "source": [
        "#Summary table\n",
        "summary_table = pd.DataFrame([{\n",
        "    \"model\": \"CNN (SMOTE)\",\n",
        "    \"threshold\": threshold,\n",
        "    \"mean_detection_pct\": plot_df[\"detection_pct\"].mean(),\n",
        "    \"median_detection_pct\": plot_df[\"detection_pct\"].median(),\n",
        "    \"p05_detection_pct\": np.percentile(plot_df[\"detection_pct\"], 5),\n",
        "    \"p95_detection_pct\": np.percentile(plot_df[\"detection_pct\"], 95),\n",
        "    \"mean_tp_per_sec\": lambda_fraud * plot_df[\"detection_pct\"].mean() / 100.0,\n",
        "    \"p05_tp_per_sec\":  lambda_fraud * np.percentile(plot_df[\"detection_pct\"], 5)  / 100.0,\n",
        "    \"p95_tp_per_sec\":  lambda_fraud * np.percentile(plot_df[\"detection_pct\"], 95) / 100.0\n",
        "}])\n",
        "\n",
        "print(summary_table.to_string(index=False))"
      ],
      "metadata": {
        "id": "8fOO6-Xe_n3F"
      },
      "execution_count": null,
      "outputs": []
    },
    {
      "cell_type": "code",
      "execution_count": null,
      "metadata": {
        "id": "voglXkIgT9Bm"
      },
      "outputs": [],
      "source": [
        "# Histogram\n",
        "plt.figure(figsize=(8,5))\n",
        "plt.hist(plot_df[\"detection_pct\"], bins=40)\n",
        "plt.title(f\"Detection rate per second — Monte Carlo ({domain_name})\")\n",
        "plt.xlabel(\"Detection Rate per second (%)\")\n",
        "plt.ylabel(\"Count of runs\")\n",
        "plt.tight_layout()\n",
        "plt.show()\n"
      ]
    },
    {
      "cell_type": "code",
      "execution_count": null,
      "metadata": {
        "id": "fArf8KbsT9Ec"
      },
      "outputs": [],
      "source": [
        "# ECDF: y goes 0..1 by definition\n",
        "x = np.sort(plot_df[\"detection_pct\"].values)\n",
        "y = np.arange(1, x.size+1) / x.size\n",
        "plt.figure(figsize=(8,5))\n",
        "plt.plot(x, y)\n",
        "plt.title(f\"ECDF of per-second detection — Monte Carlo ({domain_name})\")\n",
        "plt.xlabel(\"Detection Rate per second (%)\")\n",
        "plt.ylabel(\"ECDF\")\n",
        "plt.ylim(0, 1)\n",
        "plt.tight_layout()\n",
        "plt.show()"
      ]
    },
    {
      "cell_type": "code",
      "source": [],
      "metadata": {
        "id": "CQuyxMKhdkD6"
      },
      "execution_count": null,
      "outputs": []
    },
    {
      "cell_type": "code",
      "source": [
        "# Real-time Monte Carlo — CNN (e-commerce, SMOTE)\n",
        "import numpy as np\n",
        "import pandas as pd\n",
        "from tensorflow.keras.models import load_model\n",
        "from sklearn.metrics import roc_auc_score\n",
        "\n",
        "# Loading model + test data\n",
        "model_path = \"/content/drive/My Drive/Thesis Project/cnn_smote_ecommerce.h5\"\n",
        "cnn_smote = load_model(model_path)\n",
        "\n",
        "# If X_test / y_test are pandas objects:\n",
        "X_test_np = X_test.values if hasattr(X_test, \"values\") else np.asarray(X_test)\n",
        "y_test_np = y_test.values if hasattr(y_test, \"values\") else np.asarray(y_test)\n",
        "\n",
        "y_test_np = y_test_np.astype(int)\n",
        "assert set(np.unique(y_test_np)).issubset({0,1}), \"y_test must be binary {0,1}\"\n",
        "assert X_test_np.shape[0] == y_test_np.shape[0]\n",
        "\n",
        "# If your CNN expects\n",
        "def _ensure_cnn_shape(model, X):\n",
        "    in_shape = model.input_shape\n",
        "    if X.ndim == 2 and len(in_shape) == 3:\n",
        "        return np.expand_dims(X, axis=-1)\n",
        "    return X\n",
        "\n",
        "X_test_np = _ensure_cnn_shape(cnn_smote, X_test_np)\n",
        "\n",
        "\n",
        "# Simulation settings\n",
        "lambda_per_sec = 60.6\n",
        "runs           = 10000\n",
        "thr_cnn        = 0.50\n",
        "rng            = np.random.default_rng(123)"
      ],
      "metadata": {
        "id": "u2xsTQvldkIE"
      },
      "execution_count": null,
      "outputs": []
    },
    {
      "cell_type": "code",
      "source": [
        "# Probability helper\n",
        "def predict_prob_keras(model, X_batch, batch_size=4096):\n",
        "    \"\"\"Return p(y=1) for a Keras model (handles (n,1) or (n,) outputs).\"\"\"\n",
        "    p = model.predict(X_batch, batch_size=batch_size, verbose=0)\n",
        "    return np.asarray(p).reshape(-1)\n"
      ],
      "metadata": {
        "id": "BYIEZLlhdkLZ"
      },
      "execution_count": null,
      "outputs": []
    },
    {
      "cell_type": "code",
      "source": [
        "# 4) Windowed Monte Carlo simulator\n",
        "def simulate_realtime_fullpool_keras(model, threshold, lambda_rate_per_sec, runs,\n",
        "                                     X_pool, y_pool, window_secs=1):\n",
        "    \"\"\"\n",
        "    Each run is a window of length `window_secs`.\n",
        "    arrivals ~ Poisson(lambda_rate_per_sec * window_secs)\n",
        "    \"\"\"\n",
        "    N = X_pool.shape[0]\n",
        "    arrivals = rng.poisson(lam=lambda_rate_per_sec * window_secs, size=runs)\n",
        "\n",
        "    TP = np.zeros(runs, dtype=np.int32)\n",
        "    FP = np.zeros(runs, dtype=np.int32)\n",
        "    TN = np.zeros(runs, dtype=np.int32)\n",
        "    FN = np.zeros(runs, dtype=np.int32)\n",
        "\n",
        "    precision = np.full(runs, np.nan)\n",
        "    recall    = np.full(runs, np.nan)\n",
        "    accuracy  = np.full(runs, np.nan)\n",
        "    f1        = np.full(runs, np.nan)\n",
        "    auc_vec   = np.full(runs, np.nan)\n",
        "\n",
        "    for r in range(runs):\n",
        "        F = arrivals[r]\n",
        "        if F == 0:\n",
        "            continue\n",
        "\n",
        "        idx  = rng.integers(0, N, size=F, dtype=np.int64)\n",
        "        X_r  = X_pool[idx]\n",
        "        y_r  = y_pool[idx]\n",
        "        p_r  = predict_prob_keras(model, X_r)\n",
        "        yhat = (p_r >= threshold).astype(np.int32)\n",
        "\n",
        "        tp = np.sum((yhat == 1) & (y_r == 1))\n",
        "        fp = np.sum((yhat == 1) & (y_r == 0))\n",
        "        tn = np.sum((yhat == 0) & (y_r == 0))\n",
        "        fn = np.sum((yhat == 0) & (y_r == 1))\n",
        "\n",
        "        TP[r], FP[r], TN[r], FN[r] = tp, fp, tn, fn\n",
        "\n",
        "        if (tp + fp) > 0:\n",
        "            precision[r] = tp / (tp + fp)\n",
        "        if (tp + fn) > 0:\n",
        "            recall[r] = tp / (tp + fn)\n",
        "\n",
        "        accuracy[r] = (tp + tn) / F\n",
        "        if not np.isnan(precision[r]) and not np.isnan(recall[r]) and (precision[r] + recall[r]) > 0:\n",
        "            f1[r] = 2 * precision[r] * recall[r] / (precision[r] + recall[r])\n",
        "\n",
        "        # AUC only if both classes appear in the window\n",
        "        if (y_r.min() == 0) and (y_r.max() == 1):\n",
        "            try:\n",
        "                auc_vec[r] = roc_auc_score(y_r, p_r)\n",
        "            except Exception:\n",
        "                pass\n",
        "\n",
        "    mc_df = pd.DataFrame({\n",
        "        \"run\": np.arange(1, runs+1, dtype=np.int32),\n",
        "        \"window_secs\": window_secs,\n",
        "        \"arrivals\": arrivals,\n",
        "        \"TP\": TP, \"FP\": FP, \"TN\": TN, \"FN\": FN,\n",
        "        \"precision\": precision, \"recall\": recall, \"accuracy\": accuracy, \"f1\": f1,\n",
        "        \"auc\": auc_vec\n",
        "    })\n",
        "\n",
        "    summary = {\n",
        "        \"runs\": runs,\n",
        "        \"window_secs\": window_secs,\n",
        "        \"runs_with_tx\": int(np.sum(arrivals > 0)),\n",
        "        \"mean_TP\": float(np.nanmean(TP)),\n",
        "        \"mean_FP\": float(np.nanmean(FP)),\n",
        "        \"mean_TN\": float(np.nanmean(TN)),\n",
        "        \"mean_FN\": float(np.nanmean(FN)),\n",
        "        \"mean_precision\": float(np.nanmean(precision)),\n",
        "        \"mean_recall\": float(np.nanmean(recall)),\n",
        "        \"mean_accuracy\": float(np.nanmean(accuracy)),\n",
        "        \"mean_f1\": float(np.nanmean(f1)),\n",
        "        \"mean_auc\": float(np.nanmean(auc_vec)),\n",
        "        \"median_auc\": float(np.nanmedian(auc_vec)),\n",
        "        \"n_auc_runs\": int(np.sum(~np.isnan(auc_vec))),\n",
        "    }\n",
        "    summary_df = pd.DataFrame([summary])\n",
        "    return {\"mc_df\": mc_df, \"summary\": summary_df}"
      ],
      "metadata": {
        "id": "952crtF8dkNL"
      },
      "execution_count": null,
      "outputs": []
    },
    {
      "cell_type": "code",
      "source": [
        "#Run CNN at 1s and 10s windows\n",
        "res_cnn_1s  = simulate_realtime_fullpool_keras(\n",
        "    model=cnn_smote, threshold=thr_cnn, lambda_rate_per_sec=lambda_per_sec,\n",
        "    runs=runs, X_pool=X_test_np, y_pool=y_test_np, window_secs=1\n",
        ")\n",
        "res_cnn_10s = simulate_realtime_fullpool_keras(\n",
        "    model=cnn_smote, threshold=thr_cnn, lambda_rate_per_sec=lambda_per_sec,\n",
        "    runs=runs, X_pool=X_test_np, y_pool=y_test_np, window_secs=10\n",
        ")"
      ],
      "metadata": {
        "id": "U6ixWeTodkO5"
      },
      "execution_count": null,
      "outputs": []
    },
    {
      "cell_type": "code",
      "source": [
        "# Comparing summaries\n",
        "summary_table = pd.concat([\n",
        "    res_cnn_1s[\"summary\"].assign(model=\"CNN (SMOTE, e-comm)\", time_unit=\"1 sec\",  threshold=thr_cnn),\n",
        "    res_cnn_10s[\"summary\"].assign(model=\"CNN (SMOTE, e-comm)\", time_unit=\"10 sec\", threshold=thr_cnn),\n",
        "], ignore_index=True)[[\n",
        "    \"model\",\"time_unit\",\n",
        "    \"mean_accuracy\",\"mean_precision\",\"mean_recall\",\"mean_f1\",\n",
        "    \"mean_auc\"\n",
        "]]\n",
        "\n",
        "print(summary_table.to_string(index=False))"
      ],
      "metadata": {
        "id": "g1P-zgoidkTc"
      },
      "execution_count": null,
      "outputs": []
    },
    {
      "cell_type": "code",
      "source": [],
      "metadata": {
        "id": "b6P-pbGBdkV4"
      },
      "execution_count": null,
      "outputs": []
    },
    {
      "cell_type": "markdown",
      "metadata": {
        "id": "Y-OUmzgjuNc5"
      },
      "source": [
        "SHAP ANALYSIS FOR CNN SMOTE"
      ]
    },
    {
      "cell_type": "code",
      "execution_count": null,
      "metadata": {
        "id": "htYMQjrfuN9y"
      },
      "outputs": [],
      "source": [
        "#Using same feature names\n",
        "feature_names = X_train.columns.tolist()\n",
        "\n",
        "#Sample from test and background data\n",
        "background = X_train_smote_cnn[np.random.choice(X_train_smote_cnn.shape[0], 100, replace=False)]\n",
        "X_explain = X_test_cnn[np.random.choice(X_test_cnn.shape[0], 50, replace=False)]\n",
        "\n",
        "#Flattening for SHAP\n",
        "background_flat = background.reshape(background.shape[0], -1)\n",
        "X_explain_flat = X_explain.reshape(X_explain.shape[0], -1)\n",
        "\n",
        "#Prediction wrapper for SMOTE-CNN model\n",
        "def cnn_smote_predict(x_flat):\n",
        "    x_reshaped = x_flat.reshape((-1, X_train_smote_cnn.shape[1], 1))\n",
        "    return cnn_smote_isfraud.predict(x_reshaped).flatten()\n",
        "\n",
        "#SHAP KernelExplainer\n",
        "explainer = shap.KernelExplainer(cnn_smote_predict, background_flat)\n",
        "\n",
        "#SHAP value computation\n",
        "shap_values = explainer.shap_values(X_explain_flat)"
      ]
    },
    {
      "cell_type": "code",
      "execution_count": null,
      "metadata": {
        "id": "1QFrwHLtuN__"
      },
      "outputs": [],
      "source": [
        "#SHAP Summary Plot\n",
        "plt.figure(figsize=(6, 6))\n",
        "shap.summary_plot(\n",
        "    shap_values,\n",
        "    X_explain_flat,\n",
        "    feature_names=feature_names,\n",
        "    plot_type=\"dot\"\n",
        ")\n",
        "plt.title(\"SHAP Summary Plot - CNN (SMOTE)\", fontsize=10)\n",
        "plt.tight_layout()\n",
        "plt.savefig(\"SHAP-CNN-SMOTE.png\", dpi=300, bbox_inches='tight')"
      ]
    },
    {
      "cell_type": "markdown",
      "metadata": {
        "id": "hihHgws7pslx"
      },
      "source": [
        "ADASYN + CNN¶"
      ]
    },
    {
      "cell_type": "code",
      "execution_count": null,
      "metadata": {
        "id": "2Bp0uSjCprP5"
      },
      "outputs": [],
      "source": [
        "adas = ADASYN(random_state=42)\n",
        "X_train_adas, y_train_adas = adas.fit_resample(X_train, y_train)\n",
        "X_train_adas_cnn = X_train_adas.values.reshape((X_train_adas.shape[0], X_train_adas.shape[1], 1))\n",
        "\n",
        "# Early stopping callback\n",
        "early_stop = EarlyStopping(\n",
        "    monitor='val_loss',\n",
        "    patience=3,\n",
        "    restore_best_weights=True,\n",
        "    verbose=1\n",
        ")\n",
        "\n",
        "#CNN architecture for ADASYN\n",
        "cnn_adas_isfraud = Sequential([\n",
        "    # Block 1\n",
        "    Conv1D(32, 3, activation='relu', padding='same', input_shape=(X_train_adas_cnn.shape[1], 1)),\n",
        "    BatchNormalization(),\n",
        "    Conv1D(64, 3, activation='relu', padding='same'),\n",
        "    BatchNormalization(),\n",
        "    MaxPooling1D(pool_size=2),\n",
        "    Dropout(0.3),\n",
        "\n",
        "    # Block 2\n",
        "    Conv1D(128, 3, activation='relu', padding='same'),\n",
        "    BatchNormalization(),\n",
        "    Conv1D(128, 3, activation='relu', padding='same'),\n",
        "    BatchNormalization(),\n",
        "    MaxPooling1D(pool_size=2),\n",
        "    Dropout(0.3),\n",
        "\n",
        "    Flatten(),\n",
        "    Dense(64, activation='relu'),\n",
        "    Dropout(0.4),\n",
        "    Dense(1, activation='sigmoid')\n",
        "])"
      ]
    },
    {
      "cell_type": "code",
      "execution_count": null,
      "metadata": {
        "id": "kPEkVM--prSQ"
      },
      "outputs": [],
      "source": [
        "# Compiling\n",
        "cnn_adas_isfraud.compile(\n",
        "    optimizer=Adam(learning_rate=0.0001),\n",
        "    loss='binary_crossentropy',\n",
        "    metrics=['accuracy', Precision(name='precision'), Recall(name='recall')]\n",
        ")\n",
        "\n",
        "\n",
        "# Fitting with early stopping\n",
        "cnn_adas_isfraud.fit(\n",
        "    X_train_adas_cnn, y_train_adas,\n",
        "    epochs=30,\n",
        "    batch_size=64,\n",
        "    validation_split=0.2,\n",
        "    callbacks=[early_stop],\n",
        "    verbose=1\n",
        ")\n",
        "\n",
        "\n",
        "# Predicting & evaluation\n",
        "y_pred_probs_adas_cnn_isfraud = cnn_adas_isfraud.predict(X_test_cnn).flatten()\n",
        "y_pred_adas_cnn_isfraud = (y_pred_probs_adas_cnn_isfraud > 0.5).astype(int)\n",
        "\n",
        "cm_adasyn_cnn_isfraud = confusion_matrix(y_test, y_pred_adas_cnn_isfraud)\n",
        "roc_adasyn_cnn_isfraud = roc_auc_score(y_test, y_pred_probs_adas_cnn_isfraud)\n",
        "cm_adasyn_cnn_isfraud"
      ]
    },
    {
      "cell_type": "markdown",
      "metadata": {
        "id": "mNPhMwYnuTSO"
      },
      "source": [
        "SHAP ANALYSIS FOR CNN ADASYN"
      ]
    },
    {
      "cell_type": "code",
      "execution_count": null,
      "metadata": {
        "id": "y1nUHtiouTgq"
      },
      "outputs": [],
      "source": [
        "#Feature names\n",
        "feature_names = X_train.columns.tolist()\n",
        "\n",
        "#Sample background and test data\n",
        "background = X_train_adas_cnn[np.random.choice(X_train_adas_cnn.shape[0], 100, replace=False)]\n",
        "X_explain = X_test_cnn[np.random.choice(X_test_cnn.shape[0], 50, replace=False)]\n",
        "\n",
        "#Flattening for SHAP KernelExplainer\n",
        "background_flat = background.reshape(background.shape[0], -1)\n",
        "X_explain_flat = X_explain.reshape(X_explain.shape[0], -1)\n",
        "\n",
        "#Defining prediction wrapper for ADASYN model\n",
        "def cnn_adas_predict(x_flat):\n",
        "    x_reshaped = x_flat.reshape((-1, X_train_adas_cnn.shape[1], 1))\n",
        "    return cnn_adas_isfraud.predict(x_reshaped).flatten()\n",
        "\n",
        "#SHAP Explainer\n",
        "explainer = shap.KernelExplainer(cnn_adas_predict, background_flat)\n",
        "\n",
        "#Computing SHAP values\n",
        "shap_values = explainer.shap_values(X_explain_flat)"
      ]
    },
    {
      "cell_type": "code",
      "execution_count": null,
      "metadata": {
        "id": "8c2PTF92uTii"
      },
      "outputs": [],
      "source": [
        "#SHAP Summary Plot\n",
        "plt.figure(figsize=(6, 6))\n",
        "shap.summary_plot(\n",
        "    shap_values,\n",
        "    X_explain_flat,\n",
        "    feature_names=feature_names,\n",
        "    plot_type=\"dot\"\n",
        ")\n",
        "plt.title(\"SHAP Summary Plot - CNN (ADASYN)\", fontsize=12)\n",
        "plt.tight_layout()"
      ]
    },
    {
      "cell_type": "markdown",
      "metadata": {
        "id": "kfLvs9TDqAxa"
      },
      "source": [
        "Cost-Sensitive CNN"
      ]
    },
    {
      "cell_type": "code",
      "execution_count": null,
      "metadata": {
        "id": "fiOBHIX7prUx"
      },
      "outputs": [],
      "source": [
        "class_weights_array = compute_class_weight(class_weight='balanced', classes=np.unique(y_train), y=y_train)\n",
        "class_weights_dict = {0: class_weights_array[0], 1: class_weights_array[1]}"
      ]
    },
    {
      "cell_type": "code",
      "execution_count": null,
      "metadata": {
        "id": "HzmViJfWmf87"
      },
      "outputs": [],
      "source": [
        "#Early stopping callback\n",
        "early_stop = EarlyStopping(\n",
        "    monitor='val_loss',\n",
        "    patience=3,\n",
        "    restore_best_weights=True,\n",
        "    verbose=1\n",
        ")\n",
        "\n",
        "#CNN architecture\n",
        "cnn_cost_isfraud = Sequential([\n",
        "    # Block 1\n",
        "    Conv1D(32, 3, activation='relu', padding='same', input_shape=(X_train_cnn.shape[1], 1)),\n",
        "    BatchNormalization(),\n",
        "    Conv1D(64, 3, activation='relu', padding='same'),\n",
        "    BatchNormalization(),\n",
        "    MaxPooling1D(pool_size=2),\n",
        "    Dropout(0.3),\n",
        "\n",
        "    # Block 2\n",
        "    Conv1D(128, 3, activation='relu', padding='same'),\n",
        "    BatchNormalization(),\n",
        "    Conv1D(128, 3, activation='relu', padding='same'),\n",
        "    BatchNormalization(),\n",
        "    MaxPooling1D(pool_size=2),\n",
        "    Dropout(0.3),\n",
        "\n",
        "    Flatten(),\n",
        "    Dense(64, activation='relu'),\n",
        "    Dropout(0.4),\n",
        "    Dense(1, activation='sigmoid')\n",
        "])"
      ]
    },
    {
      "cell_type": "code",
      "execution_count": null,
      "metadata": {
        "id": "Ur2rsgv3mf_A"
      },
      "outputs": [],
      "source": [
        "#Compiling\n",
        "cnn_cost_isfraud.compile(\n",
        "    optimizer=Adam(learning_rate=0.0001),\n",
        "    loss='binary_crossentropy',\n",
        "    metrics=['accuracy', Precision(name='precision'), Recall(name='recall')]\n",
        ")\n",
        "\n",
        "\n",
        "# Fitting with early stopping and class weights\n",
        "cnn_cost_isfraud.fit(\n",
        "    X_train_cnn, y_train,\n",
        "    epochs=30,\n",
        "    batch_size=64,\n",
        "    validation_split=0.2,\n",
        "    class_weight=class_weights_dict,\n",
        "    callbacks=[early_stop],\n",
        "    verbose=1\n",
        ")\n",
        "\n",
        "\n",
        "# Predicting & evaluation\n",
        "y_pred_probs_cost_cnn_isfraud = cnn_cost_isfraud.predict(X_test_cnn).flatten()\n",
        "y_pred_cost_cnn_isfraud = (y_pred_probs_cost_cnn_isfraud > 0.5).astype(int)\n",
        "\n",
        "cm_cost_cnn_isfraud = confusion_matrix(y_test, y_pred_cost_cnn_isfraud)\n",
        "roc_cost_cnn_isfraud = roc_auc_score(y_test, y_pred_probs_cost_cnn_isfraud)\n",
        "cm_cost_cnn_isfraud"
      ]
    },
    {
      "cell_type": "markdown",
      "metadata": {
        "id": "0caH9Lq_uou6"
      },
      "source": [
        "SHAP ANALYSIS FOR CNN COST"
      ]
    },
    {
      "cell_type": "code",
      "execution_count": null,
      "metadata": {
        "id": "2PgwGLTLupNm"
      },
      "outputs": [],
      "source": [
        "#Extract original feature names\n",
        "feature_names = X_train.columns.tolist()\n",
        "\n",
        "#Sample background and test data\n",
        "background = X_train_cnn[np.random.choice(X_train_cnn.shape[0], 100, replace=False)]\n",
        "X_explain = X_test_cnn[np.random.choice(X_test_cnn.shape[0], 50, replace=False)]\n",
        "\n",
        "#Flattening inputs for SHAP KernelExplainer\n",
        "background_flat = background.reshape(background.shape[0], -1)\n",
        "X_explain_flat = X_explain.reshape(X_explain.shape[0], -1)\n",
        "\n",
        "#Define prediction function for SHAP\n",
        "def cnn_cost_predict(x_flat):\n",
        "    x_reshaped = x_flat.reshape((-1, X_train_cnn.shape[1], 1))\n",
        "    return cnn_cost_isfraud.predict(x_reshaped).flatten()\n",
        "\n",
        "#Create SHAP explainer\n",
        "explainer = shap.KernelExplainer(cnn_cost_predict, background_flat)\n",
        "\n",
        "#Compute SHAP values\n",
        "shap_values = explainer.shap_values(X_explain_flat)"
      ]
    },
    {
      "cell_type": "code",
      "execution_count": null,
      "metadata": {
        "id": "Sw80884gupP9"
      },
      "outputs": [],
      "source": [
        "#SHAP Summary Plot\n",
        "plt.figure(figsize=(6, 6))\n",
        "shap.summary_plot(\n",
        "    shap_values,\n",
        "    X_explain_flat,\n",
        "    feature_names=feature_names,\n",
        "    plot_type=\"dot\"\n",
        ")\n",
        "plt.title(\"SHAP Summary Plot - CNN (Cost-Sensitive)\", fontsize=10)\n",
        "plt.tight_layout()"
      ]
    },
    {
      "cell_type": "markdown",
      "metadata": {
        "id": "p_eCjzSGqXLF"
      },
      "source": [
        "Plot ROC Curves for CNN (E-commerce)"
      ]
    },
    {
      "cell_type": "code",
      "execution_count": null,
      "metadata": {
        "id": "Q0Ebj0TLmgBo"
      },
      "outputs": [],
      "source": [
        "fpr_base, tpr_base, _ = roc_curve(y_test, y_pred_probs_baseline_cnn_isfraud)\n",
        "fpr_smote, tpr_smote, _ = roc_curve(y_test, y_pred_probs_smote_cnn_isfraud)\n",
        "fpr_adas, tpr_adas, _ = roc_curve(y_test, y_pred_probs_adas_cnn_isfraud)\n",
        "fpr_cost, tpr_cost, _ = roc_curve(y_test, y_pred_probs_cost_cnn_isfraud)\n",
        "\n",
        "plt.figure(figsize=(8,6))\n",
        "plt.plot(fpr_base, tpr_base, label=\"Baseline\")\n",
        "plt.plot(fpr_smote, tpr_smote, label=\"SMOTE\")\n",
        "plt.plot(fpr_adas, tpr_adas, label=\"ADASYN\")\n",
        "plt.plot(fpr_cost, tpr_cost, label=\"Cost-sensitive\")\n",
        "plt.plot([0,1],[0,1],'k--')\n",
        "plt.title(\"ROC Curves for CNN - E-commerce Fraud\")\n",
        "plt.xlabel(\"False Positive Rate\")\n",
        "plt.ylabel(\"True Positive Rate\")\n",
        "plt.legend()\n",
        "plt.grid()\n",
        "plt.show()\n"
      ]
    },
    {
      "cell_type": "markdown",
      "metadata": {
        "id": "ePm5mHrYqkec"
      },
      "source": [
        "Compare CNN Model Metrics"
      ]
    },
    {
      "cell_type": "code",
      "execution_count": null,
      "metadata": {
        "id": "WWVNmBCwmgD9"
      },
      "outputs": [],
      "source": [
        "results_cnn_isfraud = pd.DataFrame({\n",
        "    \"Method\": [\"Baseline\", \"SMOTE\", \"ADASYN\", \"Cost-sensitive\"],\n",
        "    \"Accuracy\": [\n",
        "        accuracy_score(y_test, y_pred_baseline_cnn_isfraud),\n",
        "        accuracy_score(y_test, y_pred_smote_cnn_isfraud),\n",
        "        accuracy_score(y_test, y_pred_adas_cnn_isfraud),\n",
        "        accuracy_score(y_test, y_pred_cost_cnn_isfraud)\n",
        "    ],\n",
        "    \"Precision\": [\n",
        "        precision_score(y_test, y_pred_baseline_cnn_isfraud),\n",
        "        precision_score(y_test, y_pred_smote_cnn_isfraud),\n",
        "        precision_score(y_test, y_pred_adas_cnn_isfraud),\n",
        "        precision_score(y_test, y_pred_cost_cnn_isfraud)\n",
        "    ],\n",
        "    \"Recall\": [\n",
        "        recall_score(y_test, y_pred_baseline_cnn_isfraud),\n",
        "        recall_score(y_test, y_pred_smote_cnn_isfraud),\n",
        "        recall_score(y_test, y_pred_adas_cnn_isfraud),\n",
        "        recall_score(y_test, y_pred_cost_cnn_isfraud)\n",
        "    ],\n",
        "    \"F1\": [\n",
        "        f1_score(y_test, y_pred_baseline_cnn_isfraud),\n",
        "        f1_score(y_test, y_pred_smote_cnn_isfraud),\n",
        "        f1_score(y_test, y_pred_adas_cnn_isfraud),\n",
        "        f1_score(y_test, y_pred_cost_cnn_isfraud)\n",
        "    ],\n",
        "    \"AUC\": [\n",
        "        roc_baseline_cnn_isfraud,\n",
        "        roc_smote_cnn_isfraud,\n",
        "        roc_adasyn_cnn_isfraud,\n",
        "        roc_cost_cnn_isfraud\n",
        "    ]\n",
        "\n",
        "})\n",
        "\n",
        "print(results_cnn_isfraud)"
      ]
    },
    {
      "cell_type": "markdown",
      "source": [
        "# LSTM MODEL"
      ],
      "metadata": {
        "id": "_QO9i7b4_HBF"
      }
    },
    {
      "cell_type": "markdown",
      "source": [
        "BASELINE LSTM"
      ],
      "metadata": {
        "id": "e-Cfqqwp_tzY"
      }
    },
    {
      "cell_type": "code",
      "execution_count": null,
      "metadata": {
        "id": "vFtu3WywmgGT"
      },
      "outputs": [],
      "source": [
        "# Reshaping for LSTM [samples, timesteps, features]\n",
        "X_train_lstm = X_train.values.reshape((X_train.shape[0], X_train.shape[1], 1))\n",
        "X_test_lstm  = X_test.values.reshape((X_test.shape[0], X_test.shape[1], 1))"
      ]
    },
    {
      "cell_type": "code",
      "execution_count": null,
      "metadata": {
        "id": "Yru1fFdImgIt"
      },
      "outputs": [],
      "source": [
        "# Defining EarlyStopping callback\n",
        "early_stop = EarlyStopping(\n",
        "    monitor='val_loss',\n",
        "    patience=3,\n",
        "    restore_best_weights=True,\n",
        "    verbose=1\n",
        ")\n",
        "\n",
        "# LSTM model\n",
        "lstm_baseline = Sequential([\n",
        "    # LSTM Block 1\n",
        "    LSTM(128, input_shape=(X_train_lstm.shape[1], 1),\n",
        "         return_sequences=True, dropout=0.3, recurrent_dropout=0.1),\n",
        "    BatchNormalization(),\n",
        "\n",
        "    # LSTM Block 2\n",
        "    LSTM(128, return_sequences=True, dropout=0.3, recurrent_dropout=0.1),\n",
        "    BatchNormalization(),\n",
        "\n",
        "    # LSTM Block 3 (final, no return_sequences)\n",
        "    LSTM(64, return_sequences=False, dropout=0.3, recurrent_dropout=0.1),\n",
        "    BatchNormalization(),\n",
        "\n",
        "    # Dense head\n",
        "    Dense(256, activation='relu'),\n",
        "    Dropout(0.4),\n",
        "    Dense(128, activation='relu'),\n",
        "    Dropout(0.3),\n",
        "    Dense(1, activation='sigmoid')\n",
        "])"
      ]
    },
    {
      "cell_type": "code",
      "execution_count": null,
      "metadata": {
        "id": "1MVr0ey6mgLP"
      },
      "outputs": [],
      "source": [
        "# Compiling model\n",
        "lstm_baseline.compile(\n",
        "    optimizer=Adam(learning_rate=0.0005),\n",
        "    loss='binary_crossentropy',\n",
        "    metrics=['accuracy', Precision(name='precision'), Recall(name='recall')]\n",
        ")\n",
        "\n",
        "\n",
        "# Fitting with early stopping and validation\n",
        "lstm_baseline.fit(\n",
        "    X_train_lstm, y_train,\n",
        "    epochs=30,\n",
        "    batch_size=64,\n",
        "    validation_split=0.2,\n",
        "    callbacks=[early_stop],\n",
        "    verbose=1\n",
        ")\n",
        "\n",
        "# Predictions\n",
        "y_pred_probs_baseline_lstm = lstm_baseline.predict(X_test_lstm).flatten()\n",
        "y_pred_baseline_lstm = (y_pred_probs_baseline_lstm > 0.5).astype(int)"
      ]
    },
    {
      "cell_type": "code",
      "execution_count": null,
      "metadata": {
        "id": "evjUINLnmgN2"
      },
      "outputs": [],
      "source": [
        "# Metrics\n",
        "cm_baseline_lstm_isfraud = confusion_matrix(y_test, y_pred_baseline_lstm)\n",
        "roc_baseline_lstm_isfraud = roc_auc_score(y_test, y_pred_probs_baseline_lstm)\n",
        "cm_baseline_lstm_isfraud"
      ]
    },
    {
      "cell_type": "markdown",
      "source": [
        "SMOTE + LSTM"
      ],
      "metadata": {
        "id": "nFZSwmkl_75I"
      }
    },
    {
      "cell_type": "code",
      "execution_count": null,
      "metadata": {
        "id": "6NYJHESKmgQO"
      },
      "outputs": [],
      "source": [
        "# SMOTE\n",
        "smote = SMOTE(random_state=42)\n",
        "X_train_smote_lstm, y_train_smote_lstm = smote.fit_resample(X_train, y_train)\n",
        "X_train_smote_lstm = X_train_smote_lstm.values.reshape((X_train_smote_lstm.shape[0], X_train_smote_lstm.shape[1], 1))"
      ]
    },
    {
      "cell_type": "code",
      "execution_count": null,
      "metadata": {
        "id": "tLuMgWGAmgSz"
      },
      "outputs": [],
      "source": [
        "# Early stopping callback\n",
        "early_stop = EarlyStopping(\n",
        "    monitor='val_loss',\n",
        "    patience=3,\n",
        "    restore_best_weights=True,\n",
        "    verbose=1\n",
        ")\n",
        "\n",
        "# LSTM model for SMOTE\n",
        "lstm_smote = Sequential([\n",
        "    # LSTM Block 1\n",
        "    LSTM(128, input_shape=(X_train_smote_lstm.shape[1], 1),\n",
        "         return_sequences=True, dropout=0.3, recurrent_dropout=0.1),\n",
        "    BatchNormalization(),\n",
        "\n",
        "    # LSTM Block 2\n",
        "    LSTM(128, return_sequences=True, dropout=0.3, recurrent_dropout=0.1),\n",
        "    BatchNormalization(),\n",
        "\n",
        "    # LSTM Block 3\n",
        "    LSTM(64, return_sequences=False, dropout=0.3, recurrent_dropout=0.1),\n",
        "    BatchNormalization(),\n",
        "\n",
        "    # Dense head\n",
        "    Dense(256, activation='relu'),\n",
        "    Dropout(0.4),\n",
        "    Dense(128, activation='relu'),\n",
        "    Dropout(0.3),\n",
        "    Dense(1, activation='sigmoid')\n",
        "])"
      ]
    },
    {
      "cell_type": "code",
      "execution_count": null,
      "metadata": {
        "id": "_Xz3ZXohmgVK"
      },
      "outputs": [],
      "source": [
        "# Compiling model\n",
        "lstm_smote.compile(\n",
        "    optimizer=Adam(learning_rate=0.0005),\n",
        "    loss='binary_crossentropy',\n",
        "    metrics=['accuracy', Precision(name='precision'), Recall(name='recall')]\n",
        ")\n",
        "\n",
        "# Fitting model with early stopping and validation split\n",
        "lstm_smote.fit(\n",
        "    X_train_smote_lstm, y_train_smote_lstm,\n",
        "    epochs=30,\n",
        "    batch_size=64,\n",
        "    validation_split=0.2,\n",
        "    callbacks=[early_stop],\n",
        "    verbose=1\n",
        ")\n",
        "\n",
        "# Predictions\n",
        "y_pred_probs_smote_lstm = lstm_smote.predict(X_test_lstm).flatten()\n",
        "y_pred_smote_lstm = (y_pred_probs_smote_lstm > 0.5).astype(int)"
      ]
    },
    {
      "cell_type": "code",
      "execution_count": null,
      "metadata": {
        "id": "P644bjNBmgXw"
      },
      "outputs": [],
      "source": [
        "# Metrics\n",
        "cm_smote_lstm_isfraud = confusion_matrix(y_test, y_pred_smote_lstm)\n",
        "roc_smote_lstm_isfraud = roc_auc_score(y_test, y_pred_probs_smote_lstm)\n",
        "cm_smote_lstm_isfraud"
      ]
    },
    {
      "cell_type": "markdown",
      "source": [
        "ADASYN + LSTM"
      ],
      "metadata": {
        "id": "L9xDQuqWANBp"
      }
    },
    {
      "cell_type": "code",
      "execution_count": null,
      "metadata": {
        "id": "wc9xCyvzmgaW"
      },
      "outputs": [],
      "source": [
        "# ADASYN\n",
        "adas = ADASYN(random_state=42)\n",
        "X_train_adas_lstm, y_train_adas_lstm = adas.fit_resample(X_train, y_train)\n",
        "X_train_adas_lstm = X_train_adas_lstm.values.reshape((X_train_adas_lstm.shape[0], X_train_adas_lstm.shape[1], 1))"
      ]
    },
    {
      "cell_type": "code",
      "execution_count": null,
      "metadata": {
        "id": "D6eQNgXmmgc_"
      },
      "outputs": [],
      "source": [
        "# Early stopping setup\n",
        "early_stop = EarlyStopping(\n",
        "    monitor='val_loss',\n",
        "    patience=3,\n",
        "    restore_best_weights=True,\n",
        "    verbose=1\n",
        ")\n",
        "\n",
        "# Defining model for ADASYN\n",
        "lstm_adas = Sequential([\n",
        "    # LSTM Block 1\n",
        "    LSTM(128, input_shape=(X_train_adas_lstm.shape[1], 1),\n",
        "         return_sequences=True, dropout=0.3, recurrent_dropout=0.1),\n",
        "    BatchNormalization(),\n",
        "\n",
        "    # LSTM Block 2\n",
        "    LSTM(128, return_sequences=True, dropout=0.3, recurrent_dropout=0.1),\n",
        "    BatchNormalization(),\n",
        "\n",
        "    # LSTM Block 3\n",
        "    LSTM(64, return_sequences=False, dropout=0.3, recurrent_dropout=0.1),\n",
        "    BatchNormalization(),\n",
        "\n",
        "    # Dense head\n",
        "    Dense(256, activation='relu'),\n",
        "    Dropout(0.4),\n",
        "    Dense(128, activation='relu'),\n",
        "    Dropout(0.3),\n",
        "    Dense(1, activation='sigmoid')\n",
        "])"
      ]
    },
    {
      "cell_type": "code",
      "execution_count": null,
      "metadata": {
        "id": "yOZ7tVMjmgfj"
      },
      "outputs": [],
      "source": [
        "# Compiling\n",
        "lstm_adas.compile(\n",
        "    optimizer=Adam(learning_rate=0.0005),\n",
        "    loss='binary_crossentropy',\n",
        "    metrics=['accuracy', Precision(name='precision'), Recall(name='recall')]\n",
        ")\n",
        "\n",
        "# Training with validation and early stopping\n",
        "lstm_adas.fit(\n",
        "    X_train_adas_lstm, y_train_adas_lstm,\n",
        "    epochs=30,\n",
        "    batch_size=64,\n",
        "    validation_split=0.2,\n",
        "    callbacks=[early_stop],\n",
        "    verbose=1\n",
        ")\n",
        "\n",
        "# Predicting and evaluation\n",
        "y_pred_probs_adas_lstm = lstm_adas.predict(X_test_lstm).flatten()\n",
        "y_pred_adas_lstm = (y_pred_probs_adas_lstm > 0.5).astype(int)"
      ]
    },
    {
      "cell_type": "code",
      "execution_count": null,
      "metadata": {
        "id": "sjb4VEdYmgiJ"
      },
      "outputs": [],
      "source": [
        "# Metrics\n",
        "cm_adasyn_lstm_isfraud = confusion_matrix(y_test, y_pred_adas_lstm)\n",
        "roc_adasyn_lstm_isfraud = roc_auc_score(y_test, y_pred_probs_adas_lstm)\n",
        "cm_adasyn_lstm_isfraud"
      ]
    },
    {
      "cell_type": "markdown",
      "source": [
        "Cost-Sensitive LSTM"
      ],
      "metadata": {
        "id": "sQ997WrTAjjU"
      }
    },
    {
      "cell_type": "code",
      "execution_count": null,
      "metadata": {
        "id": "e3aKziyZmgki"
      },
      "outputs": [],
      "source": [
        "# Early stopping setup\n",
        "early_stop = EarlyStopping(\n",
        "    monitor='val_loss',\n",
        "    patience=3,\n",
        "    restore_best_weights=True,\n",
        "    verbose=1\n",
        ")\n",
        "\n",
        "# LSTM model for Cost Sensitive\n",
        "lstm_cost = Sequential([\n",
        "    # LSTM Block 1\n",
        "    LSTM(128, input_shape=(X_train_lstm.shape[1], 1),\n",
        "         return_sequences=True, dropout=0.3, recurrent_dropout=0.1),\n",
        "    BatchNormalization(),\n",
        "\n",
        "    # LSTM Block 2\n",
        "    LSTM(128, return_sequences=True, dropout=0.3, recurrent_dropout=0.1),\n",
        "    BatchNormalization(),\n",
        "\n",
        "    # LSTM Block 3\n",
        "    LSTM(64, return_sequences=False, dropout=0.3, recurrent_dropout=0.1),\n",
        "    BatchNormalization(),\n",
        "\n",
        "    # Dense head\n",
        "    Dense(256, activation='relu'),\n",
        "    Dropout(0.4),\n",
        "    Dense(128, activation='relu'),\n",
        "    Dropout(0.3),\n",
        "    Dense(1, activation='sigmoid')\n",
        "])"
      ]
    },
    {
      "cell_type": "code",
      "execution_count": null,
      "metadata": {
        "id": "zgbNKsNYmgnH"
      },
      "outputs": [],
      "source": [
        "# Compiling\n",
        "lstm_cost.compile(\n",
        "    optimizer=Adam(learning_rate=0.0005),\n",
        "    loss='binary_crossentropy',\n",
        "    metrics=['accuracy', Precision(name='precision'), Recall(name='recall')]\n",
        ")\n",
        "\n",
        "# Fitting model with class weights and early stopping\n",
        "lstm_cost.fit(\n",
        "    X_train_lstm, y_train,\n",
        "    epochs=30,\n",
        "    batch_size=64,\n",
        "    class_weight=class_weights_dict,\n",
        "    validation_split=0.2,\n",
        "    callbacks=[early_stop],\n",
        "    verbose=1\n",
        ")\n",
        "\n",
        "# Predictions\n",
        "y_pred_probs_cost_lstm = lstm_cost.predict(X_test_lstm).flatten()\n",
        "y_pred_cost_lstm = (y_pred_probs_cost_lstm > 0.5).astype(int)"
      ]
    },
    {
      "cell_type": "code",
      "execution_count": null,
      "metadata": {
        "id": "SjI_O8tGmgpt"
      },
      "outputs": [],
      "source": [
        "# Metrics\n",
        "cm_cost_lstm_isfraud = confusion_matrix(y_test, y_pred_cost_lstm)\n",
        "roc_cost_lstm_isfraud = roc_auc_score(y_test, y_pred_probs_cost_lstm)\n",
        "cm_cost_lstm_isfraud"
      ]
    },
    {
      "cell_type": "markdown",
      "source": [
        "Plot ROC Curves"
      ],
      "metadata": {
        "id": "ODOsFF_kAu3M"
      }
    },
    {
      "cell_type": "code",
      "execution_count": null,
      "metadata": {
        "id": "ubUq6SZlmgsW"
      },
      "outputs": [],
      "source": [
        "fpr_base, tpr_base, _ = roc_curve(y_test, y_pred_probs_baseline_lstm)\n",
        "fpr_smote, tpr_smote, _ = roc_curve(y_test, y_pred_probs_smote_lstm)\n",
        "fpr_adas, tpr_adas, _ = roc_curve(y_test, y_pred_probs_adas_lstm)\n",
        "fpr_cost, tpr_cost, _ = roc_curve(y_test, y_pred_probs_cost_lstm)\n",
        "\n",
        "plt.figure(figsize=(8,6))\n",
        "plt.plot(fpr_base, tpr_base, label=\"Baseline\")\n",
        "plt.plot(fpr_smote, tpr_smote, label=\"SMOTE\")\n",
        "plt.plot(fpr_adas, tpr_adas, label=\"ADASYN\")\n",
        "plt.plot(fpr_cost, tpr_cost, label=\"Cost-sensitive\")\n",
        "plt.plot([0,1],[0,1],'k--')\n",
        "plt.title(\"ROC Curves for LSTM - E-commerce Fraud\")\n",
        "plt.xlabel(\"False Positive Rate\")\n",
        "plt.ylabel(\"True Positive Rate\")\n",
        "plt.legend()\n",
        "plt.grid()\n",
        "plt.show()"
      ]
    },
    {
      "cell_type": "markdown",
      "source": [
        "Model Comparison Table"
      ],
      "metadata": {
        "id": "qHFCrC2bBH8w"
      }
    },
    {
      "cell_type": "code",
      "execution_count": null,
      "metadata": {
        "id": "6MGm_KLVmgvL"
      },
      "outputs": [],
      "source": [
        "results_lstm_isfraud = pd.DataFrame({\n",
        "    \"Method\": [\"Baseline\", \"SMOTE\", \"ADASYN\", \"Cost-sensitive\"],\n",
        "    \"Accuracy\": [\n",
        "        accuracy_score(y_test, y_pred_baseline_lstm),\n",
        "        accuracy_score(y_test, y_pred_smote_lstm),\n",
        "        accuracy_score(y_test, y_pred_adas_lstm),\n",
        "        accuracy_score(y_test, y_pred_cost_lstm)\n",
        "    ],\n",
        "    \"Precision\": [\n",
        "        precision_score(y_test, y_pred_baseline_lstm),\n",
        "        precision_score(y_test, y_pred_smote_lstm),\n",
        "        precision_score(y_test, y_pred_adas_lstm),\n",
        "        precision_score(y_test, y_pred_cost_lstm)\n",
        "    ],\n",
        "    \"Recall\": [\n",
        "        recall_score(y_test, y_pred_baseline_lstm),\n",
        "        recall_score(y_test, y_pred_smote_lstm),\n",
        "        recall_score(y_test, y_pred_adas_lstm),\n",
        "        recall_score(y_test, y_pred_cost_lstm)\n",
        "    ],\n",
        "    \"F1\": [\n",
        "        f1_score(y_test, y_pred_baseline_lstm),\n",
        "        f1_score(y_test, y_pred_smote_lstm),\n",
        "        f1_score(y_test, y_pred_adas_lstm),\n",
        "        f1_score(y_test, y_pred_cost_lstm)\n",
        "    ],\n",
        "    \"AUC\": [\n",
        "        roc_baseline_lstm_isfraud,\n",
        "        roc_smote_lstm_isfraud,\n",
        "        roc_adasyn_lstm_isfraud,\n",
        "        roc_cost_lstm_isfraud\n",
        "    ]\n",
        "})\n",
        "\n",
        "print(results_lstm_isfraud)"
      ]
    },
    {
      "cell_type": "markdown",
      "source": [
        "# HYBRID MODEL"
      ],
      "metadata": {
        "id": "uhJf0Uq3BOPQ"
      }
    },
    {
      "cell_type": "markdown",
      "source": [
        "Baseline CNN + LSTM"
      ],
      "metadata": {
        "id": "cS6Uz8lwBUmB"
      }
    },
    {
      "cell_type": "code",
      "execution_count": null,
      "metadata": {
        "id": "FnoOXFIemgxx"
      },
      "outputs": [],
      "source": [
        "# Reshaping input\n",
        "X_train_cnn_lstm = X_train.values.reshape((X_train.shape[0], X_train.shape[1], 1))\n",
        "X_test_cnn_lstm  = X_test.values.reshape((X_test.shape[0], X_test.shape[1], 1))"
      ]
    },
    {
      "cell_type": "code",
      "execution_count": null,
      "metadata": {
        "id": "o36mWY1bmg0b"
      },
      "outputs": [],
      "source": [
        "# Early stopping\n",
        "early_stop = EarlyStopping(\n",
        "    monitor='val_loss',\n",
        "    patience=3,\n",
        "    restore_best_weights=True,\n",
        "    verbose=1\n",
        ")\n",
        "\n",
        "# Define enhanced CNN+LSTM model\n",
        "cnn_lstm_baseline = Sequential([\n",
        "    # Conv Block 1\n",
        "    Conv1D(32, 3, activation='relu', padding='same', input_shape=(X_train_cnn_lstm.shape[1], 1)),\n",
        "    BatchNormalization(),\n",
        "    Conv1D(64, 3, activation='relu', padding='same'),\n",
        "    BatchNormalization(),\n",
        "    MaxPooling1D(pool_size=2),\n",
        "    Dropout(0.3),\n",
        "\n",
        "    # Conv Block 2\n",
        "    Conv1D(128, 3, activation='relu', padding='same'),\n",
        "    BatchNormalization(),\n",
        "    Conv1D(128, 3, activation='relu', padding='same'),\n",
        "    BatchNormalization(),\n",
        "    MaxPooling1D(pool_size=2),\n",
        "    Dropout(0.3),\n",
        "\n",
        "    # LSTM stack\n",
        "    LSTM(128, return_sequences=True, dropout=0.3, recurrent_dropout=0.1),\n",
        "    BatchNormalization(),\n",
        "    LSTM(64, return_sequences=False, dropout=0.3, recurrent_dropout=0.1),\n",
        "    BatchNormalization(),\n",
        "\n",
        "    # Dense head\n",
        "    Dense(128, activation='relu'),\n",
        "    Dropout(0.4),\n",
        "    Dense(64, activation='relu'),\n",
        "    Dropout(0.3),\n",
        "    Dense(1, activation='sigmoid')\n",
        "])"
      ]
    },
    {
      "cell_type": "code",
      "execution_count": null,
      "metadata": {
        "id": "dMMKmv72mg2_"
      },
      "outputs": [],
      "source": [
        "# Compiling\n",
        "cnn_lstm_baseline.compile(\n",
        "    optimizer=Adam(learning_rate=0.0001),\n",
        "    loss='binary_crossentropy',\n",
        "    metrics=['accuracy', Precision(name='precision'), Recall(name='recall')]\n",
        ")\n",
        "\n",
        "# Fitting with early stopping\n",
        "cnn_lstm_baseline.fit(\n",
        "    X_train_cnn_lstm, y_train,\n",
        "    epochs=30,\n",
        "    batch_size=32,\n",
        "    validation_split=0.2,\n",
        "    callbacks=[early_stop],\n",
        "    verbose=1\n",
        ")\n",
        "\n",
        "# Predicting & evaluation\n",
        "y_pred_probs_baseline_cnn_lstm = cnn_lstm_baseline.predict(X_test_cnn_lstm).flatten()\n",
        "y_pred_baseline_cnn_lstm = (y_pred_probs_baseline_cnn_lstm > 0.5).astype(int)"
      ]
    },
    {
      "cell_type": "code",
      "execution_count": null,
      "metadata": {
        "id": "eceYT_Ufmg5o"
      },
      "outputs": [],
      "source": [
        "cm_baseline_cnn_lstm_isfraud = confusion_matrix(y_test, y_pred_baseline_cnn_lstm)\n",
        "roc_baseline_cnn_lstm_isfraud = roc_auc_score(y_test, y_pred_probs_baseline_cnn_lstm)\n",
        "cm_baseline_cnn_lstm_isfraud"
      ]
    },
    {
      "cell_type": "markdown",
      "source": [
        "SMOTE + CNN + LSTM"
      ],
      "metadata": {
        "id": "vskznaKcBkY_"
      }
    },
    {
      "cell_type": "code",
      "execution_count": null,
      "metadata": {
        "id": "LDUfYBEZmg8e"
      },
      "outputs": [],
      "source": [
        "X_train_smote_cnn_lstm = X_train_smote.values.reshape((X_train_smote.shape[0], X_train_smote.shape[1], 1))"
      ]
    },
    {
      "cell_type": "code",
      "execution_count": null,
      "metadata": {
        "id": "RQLrypUCmg_F"
      },
      "outputs": [],
      "source": [
        "# Early stopping\n",
        "early_stop = EarlyStopping(\n",
        "    monitor='val_loss',\n",
        "    patience=3,\n",
        "    restore_best_weights=True,\n",
        "    verbose=1\n",
        ")\n",
        "\n",
        "# Defining enhanced CNN+LSTM model\n",
        "cnn_lstm_smote = Sequential([\n",
        "    # Conv Block 1\n",
        "    Conv1D(32, 3, activation='relu', padding='same',\n",
        "           input_shape=(X_train_smote_cnn_lstm.shape[1], 1)),\n",
        "    BatchNormalization(),\n",
        "    Conv1D(64, 3, activation='relu', padding='same'),\n",
        "    BatchNormalization(),\n",
        "    MaxPooling1D(pool_size=2),\n",
        "    Dropout(0.3),\n",
        "\n",
        "    # Conv Block 2\n",
        "    Conv1D(128, 3, activation='relu', padding='same'),\n",
        "    BatchNormalization(),\n",
        "    Conv1D(128, 3, activation='relu', padding='same'),\n",
        "    BatchNormalization(),\n",
        "    MaxPooling1D(pool_size=2),\n",
        "    Dropout(0.3),\n",
        "\n",
        "    # LSTM stack\n",
        "    LSTM(128, return_sequences=True, dropout=0.3, recurrent_dropout=0.1),\n",
        "    BatchNormalization(),\n",
        "    LSTM(64, return_sequences=False, dropout=0.3, recurrent_dropout=0.1),\n",
        "    BatchNormalization(),\n",
        "\n",
        "    # Dense head\n",
        "    Dense(128, activation='relu'),\n",
        "    Dropout(0.4),\n",
        "    Dense(64, activation='relu'),\n",
        "    Dropout(0.3),\n",
        "    Dense(1, activation='sigmoid')\n",
        "])"
      ]
    },
    {
      "cell_type": "code",
      "execution_count": null,
      "metadata": {
        "id": "5nBiAdsGmhBc"
      },
      "outputs": [],
      "source": [
        "# Compiling model\n",
        "cnn_lstm_smote.compile(\n",
        "    optimizer=Adam(learning_rate=0.0001),\n",
        "    loss='binary_crossentropy',\n",
        "    metrics=['accuracy', Precision(name='precision'), Recall(name='recall')]\n",
        ")\n",
        "\n",
        "# Fitting with validation and early stopping\n",
        "cnn_lstm_smote.fit(\n",
        "    X_train_smote_cnn_lstm, y_train_smote,\n",
        "    epochs=30,\n",
        "    batch_size=32,\n",
        "    validation_split=0.2,\n",
        "    callbacks=[early_stop],\n",
        "    verbose=1\n",
        ")\n",
        "\n",
        "# Predicting & evaluation\n",
        "y_pred_probs_smote_cnn_lstm = cnn_lstm_smote.predict(X_test_cnn_lstm).flatten()\n",
        "y_pred_smote_cnn_lstm = (y_pred_probs_smote_cnn_lstm > 0.5).astype(int)"
      ]
    },
    {
      "cell_type": "code",
      "execution_count": null,
      "metadata": {
        "id": "N4RBANZpmhEB"
      },
      "outputs": [],
      "source": [
        "cm_smote_cnn_lstm_isfraud = confusion_matrix(y_test, y_pred_smote_cnn_lstm)\n",
        "roc_smote_cnn_lstm_isfraud = roc_auc_score(y_test, y_pred_probs_smote_cnn_lstm)\n",
        "cm_smote_cnn_lstm_isfraud"
      ]
    },
    {
      "cell_type": "markdown",
      "source": [
        "ADASYN + CNN + LSTM"
      ],
      "metadata": {
        "id": "4keQaS5MBwSn"
      }
    },
    {
      "cell_type": "code",
      "execution_count": null,
      "metadata": {
        "id": "vJsQxuZDmhG4"
      },
      "outputs": [],
      "source": [
        "X_train_adas_cnn_lstm = X_train_adas.values.reshape((X_train_adas.shape[0], X_train_adas.shape[1], 1))"
      ]
    },
    {
      "cell_type": "code",
      "execution_count": null,
      "metadata": {
        "id": "sTvYp001mhJe"
      },
      "outputs": [],
      "source": [
        "# Early stopping\n",
        "early_stop = EarlyStopping(\n",
        "    monitor='val_loss',\n",
        "    patience=3,\n",
        "    restore_best_weights=True,\n",
        "    verbose=1\n",
        ")\n",
        "\n",
        "# Defining enhanced CNN+LSTM model ADASYN\n",
        "cnn_lstm_adas = Sequential([\n",
        "    # Conv Block 1\n",
        "    Conv1D(32, 3, activation='relu', padding='same',\n",
        "           input_shape=(X_train_adas_cnn_lstm.shape[1], 1)),\n",
        "    BatchNormalization(),\n",
        "    Conv1D(64, 3, activation='relu', padding='same'),\n",
        "    BatchNormalization(),\n",
        "    MaxPooling1D(pool_size=2),\n",
        "    Dropout(0.3),\n",
        "\n",
        "    # Conv Block 2\n",
        "    Conv1D(128, 3, activation='relu', padding='same'),\n",
        "    BatchNormalization(),\n",
        "    Conv1D(128, 3, activation='relu', padding='same'),\n",
        "    BatchNormalization(),\n",
        "    MaxPooling1D(pool_size=2),\n",
        "    Dropout(0.3),\n",
        "\n",
        "    # LSTM stack\n",
        "    LSTM(128, return_sequences=True, dropout=0.3, recurrent_dropout=0.1),\n",
        "    BatchNormalization(),\n",
        "    LSTM(64, return_sequences=False, dropout=0.3, recurrent_dropout=0.1),\n",
        "    BatchNormalization(),\n",
        "\n",
        "    # Dense head\n",
        "    Dense(128, activation='relu'),\n",
        "    Dropout(0.4),\n",
        "    Dense(64, activation='relu'),\n",
        "    Dropout(0.3),\n",
        "    Dense(1, activation='sigmoid')\n",
        "])"
      ]
    },
    {
      "cell_type": "code",
      "execution_count": null,
      "metadata": {
        "id": "V64dyHWKmhMG"
      },
      "outputs": [],
      "source": [
        "# Compiling model\n",
        "cnn_lstm_adas.compile(\n",
        "    optimizer=Adam(learning_rate=0.0001),\n",
        "    loss='binary_crossentropy',\n",
        "    metrics=['accuracy', Precision(name='precision'), Recall(name='recall')]\n",
        ")\n",
        "\n",
        "# Fitting with early stopping and validation split\n",
        "cnn_lstm_adas.fit(\n",
        "    X_train_adas_cnn_lstm, y_train_adas,\n",
        "    epochs=30,\n",
        "    batch_size=32,\n",
        "    validation_split=0.2,\n",
        "    callbacks=[early_stop],\n",
        "    verbose=1\n",
        ")\n",
        "\n",
        "# Predicting and evaluation\n",
        "y_pred_probs_adas_cnn_lstm = cnn_lstm_adas.predict(X_test_cnn_lstm).flatten()\n",
        "y_pred_adas_cnn_lstm = (y_pred_probs_adas_cnn_lstm > 0.5).astype(int)"
      ]
    },
    {
      "cell_type": "code",
      "execution_count": null,
      "metadata": {
        "id": "A-zsD5E0mhO8"
      },
      "outputs": [],
      "source": [
        "cm_adasyn_cnn_lstm_isfraud = confusion_matrix(y_test, y_pred_adas_cnn_lstm)\n",
        "roc_adasyn_cnn_lstm_isfraud = roc_auc_score(y_test, y_pred_probs_adas_cnn_lstm)\n",
        "cm_adasyn_cnn_lstm_isfraud"
      ]
    },
    {
      "cell_type": "markdown",
      "source": [
        "Cost-Sensitive CNN + LSTM"
      ],
      "metadata": {
        "id": "DPPf69xiB9qG"
      }
    },
    {
      "cell_type": "code",
      "execution_count": null,
      "metadata": {
        "id": "BOV8avVZmhRV"
      },
      "outputs": [],
      "source": [
        "# Early stopping\n",
        "early_stop = EarlyStopping(\n",
        "    monitor='val_loss',\n",
        "    patience=3,\n",
        "    restore_best_weights=True,\n",
        "    verbose=1\n",
        ")\n",
        "\n",
        "# Define enhanced CNN+LSTM model for Cost-sensitive\n",
        "cnn_lstm_cost = Sequential([\n",
        "    # Conv Block 1\n",
        "    Conv1D(32, 3, activation='relu', padding='same',\n",
        "           input_shape=(X_train_cnn_lstm.shape[1], 1)),\n",
        "    BatchNormalization(),\n",
        "    Conv1D(64, 3, activation='relu', padding='same'),\n",
        "    BatchNormalization(),\n",
        "    MaxPooling1D(pool_size=2),\n",
        "    Dropout(0.3),\n",
        "\n",
        "    # Conv Block 2 (added)\n",
        "    Conv1D(128, 3, activation='relu', padding='same'),\n",
        "    BatchNormalization(),\n",
        "    Conv1D(128, 3, activation='relu', padding='same'),\n",
        "    BatchNormalization(),\n",
        "    MaxPooling1D(pool_size=2),\n",
        "    Dropout(0.3),\n",
        "\n",
        "    # LSTM stack\n",
        "    LSTM(128, return_sequences=True, dropout=0.3, recurrent_dropout=0.1),\n",
        "    BatchNormalization(),\n",
        "    LSTM(64, return_sequences=False, dropout=0.3, recurrent_dropout=0.1),\n",
        "    BatchNormalization(),\n",
        "\n",
        "    # Dense head\n",
        "    Dense(128, activation='relu'),\n",
        "    Dropout(0.4),\n",
        "    Dense(64, activation='relu'),\n",
        "    Dropout(0.3),\n",
        "    Dense(1, activation='sigmoid')\n",
        "])"
      ]
    },
    {
      "cell_type": "code",
      "execution_count": null,
      "metadata": {
        "id": "O-A6uEWlmhUK"
      },
      "outputs": [],
      "source": [
        "# Compiling model\n",
        "cnn_lstm_cost.compile(\n",
        "    optimizer=Adam(learning_rate=0.0001),\n",
        "    loss='binary_crossentropy',\n",
        "    metrics=['accuracy', Precision(name='precision'), Recall(name='recall')]\n",
        ")\n",
        "\n",
        "# Fitting model with class weights and early stopping\n",
        "cnn_lstm_cost.fit(\n",
        "    X_train_cnn_lstm, y_train,\n",
        "    epochs=30,\n",
        "    batch_size=32,\n",
        "    validation_split=0.2,\n",
        "    class_weight=class_weights_dict,\n",
        "    callbacks=[early_stop],\n",
        "    verbose=1\n",
        ")\n",
        "\n",
        "# Predicting and evaluation\n",
        "y_pred_probs_cost_cnn_lstm = cnn_lstm_cost.predict(X_test_cnn_lstm).flatten()\n",
        "y_pred_cost_cnn_lstm = (y_pred_probs_cost_cnn_lstm > 0.5).astype(int)"
      ]
    },
    {
      "cell_type": "code",
      "execution_count": null,
      "metadata": {
        "id": "b65nbGZqmhWw"
      },
      "outputs": [],
      "source": [
        "cm_cost_cnn_lstm_isfraud = confusion_matrix(y_test, y_pred_cost_cnn_lstm)\n",
        "roc_cost_cnn_lstm_isfraud = roc_auc_score(y_test, y_pred_probs_cost_cnn_lstm)\n",
        "cm_cost_cnn_lstm_isfraud"
      ]
    },
    {
      "cell_type": "markdown",
      "source": [
        "ROC Curves for CNN + LSTM Models"
      ],
      "metadata": {
        "id": "T9t9m0rECKBf"
      }
    },
    {
      "cell_type": "code",
      "execution_count": null,
      "metadata": {
        "id": "73lk3-xemhZY"
      },
      "outputs": [],
      "source": [
        "# ROC Curve Components\n",
        "fpr_base, tpr_base, _ = roc_curve(y_test, y_pred_probs_baseline_cnn_lstm)\n",
        "fpr_smote, tpr_smote, _ = roc_curve(y_test, y_pred_probs_smote_cnn_lstm)\n",
        "fpr_adas, tpr_adas, _ = roc_curve(y_test, y_pred_probs_adas_cnn_lstm)\n",
        "fpr_cost, tpr_cost, _ = roc_curve(y_test, y_pred_probs_cost_cnn_lstm)\n",
        "\n",
        "# Plot ROC Curves\n",
        "plt.figure(figsize=(8,6))\n",
        "plt.plot(fpr_base, tpr_base, label=\"Baseline\")\n",
        "plt.plot(fpr_smote, tpr_smote, label=\"SMOTE\")\n",
        "plt.plot(fpr_adas, tpr_adas, label=\"ADASYN\")\n",
        "plt.plot(fpr_cost, tpr_cost, label=\"Cost-sensitive\")\n",
        "plt.plot([0,1],[0,1],'k--')\n",
        "plt.title(\"ROC Curves for CNN + LSTM - E-commerce Fraud\")\n",
        "plt.xlabel(\"False Positive Rate\")\n",
        "plt.ylabel(\"True Positive Rate\")\n",
        "plt.legend()\n",
        "plt.grid()\n",
        "plt.show()"
      ]
    },
    {
      "cell_type": "markdown",
      "source": [
        "Model Metrics Comparison Table"
      ],
      "metadata": {
        "id": "-eTKICxUCQDa"
      }
    },
    {
      "cell_type": "code",
      "execution_count": null,
      "metadata": {
        "id": "LX4ZMd62mhb-"
      },
      "outputs": [],
      "source": [
        "results_cnn_lstm_isfraud = pd.DataFrame({\n",
        "    \"Method\": [\"Baseline\", \"SMOTE\", \"ADASYN\", \"Cost-sensitive\"],\n",
        "    \"Accuracy\": [\n",
        "        accuracy_score(y_test, y_pred_baseline_cnn_lstm),\n",
        "        accuracy_score(y_test, y_pred_smote_cnn_lstm),\n",
        "        accuracy_score(y_test, y_pred_adas_cnn_lstm),\n",
        "        accuracy_score(y_test, y_pred_cost_cnn_lstm)\n",
        "    ],\n",
        "    \"Precision\": [\n",
        "        precision_score(y_test, y_pred_baseline_cnn_lstm),\n",
        "        precision_score(y_test, y_pred_smote_cnn_lstm),\n",
        "        precision_score(y_test, y_pred_adas_cnn_lstm),\n",
        "        precision_score(y_test, y_pred_cost_cnn_lstm)\n",
        "    ],\n",
        "    \"Recall\": [\n",
        "        recall_score(y_test, y_pred_baseline_cnn_lstm),\n",
        "        recall_score(y_test, y_pred_smote_cnn_lstm),\n",
        "        recall_score(y_test, y_pred_adas_cnn_lstm),\n",
        "        recall_score(y_test, y_pred_cost_cnn_lstm)\n",
        "    ],\n",
        "    \"F1\": [\n",
        "        f1_score(y_test, y_pred_baseline_cnn_lstm),\n",
        "        f1_score(y_test, y_pred_smote_cnn_lstm),\n",
        "        f1_score(y_test, y_pred_adas_cnn_lstm),\n",
        "        f1_score(y_test, y_pred_cost_cnn_lstm)\n",
        "    ],\n",
        "    \"AUC\": [\n",
        "        roc_baseline_cnn_lstm_isfraud,\n",
        "        roc_smote_cnn_lstm_isfraud,\n",
        "        roc_adasyn_cnn_lstm_isfraud,\n",
        "        roc_cost_cnn_lstm_isfraud\n",
        "    ]\n",
        "})\n",
        "\n",
        "print(results_cnn_lstm_isfraud)"
      ]
    }
  ],
  "metadata": {
    "colab": {
      "provenance": [],
      "gpuType": "A100",
      "authorship_tag": "ABX9TyPR9rKvuWPkqpXmZezKfiiL",
      "include_colab_link": true
    },
    "kernelspec": {
      "display_name": "Python 3",
      "name": "python3"
    },
    "language_info": {
      "name": "python"
    },
    "accelerator": "GPU"
  },
  "nbformat": 4,
  "nbformat_minor": 0
}